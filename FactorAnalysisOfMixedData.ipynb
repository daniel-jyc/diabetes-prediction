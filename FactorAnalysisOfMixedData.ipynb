{
 "cells": [
  {
   "cell_type": "markdown",
   "id": "c47dd9b2",
   "metadata": {},
   "source": [
    "## Summary of Factor Analysis: "
   ]
  },
  {
   "cell_type": "markdown",
   "id": "7d01a044",
   "metadata": {},
   "source": [
    "Factor analysis is one of the unsupervised machine learning algorithms which is used for dimensionality reduction for Mixed Data. Since our data is mixed, I conducted Factor Analysis. This algorithm creates factors from the observed variables to represent the common variance i.e. variance due to correlation among the observed variables.\n",
    "\n",
    "We found that our model can be reduced to 7 factors, which in total explains 29.36% of the total variance. However, that is a low number, so we will proceed with using all the variable in the model. "
   ]
  },
  {
   "cell_type": "code",
   "execution_count": 4,
   "id": "501e83ee",
   "metadata": {},
   "outputs": [],
   "source": [
    "#pip install factor_analyzer"
   ]
  },
  {
   "cell_type": "code",
   "execution_count": 71,
   "id": "c501999e",
   "metadata": {},
   "outputs": [],
   "source": [
    "from sklearn.cluster import DBSCAN\n",
    "import pandas as pd\n",
    "from sklearn.preprocessing import StandardScaler\n",
    "#% matplotlib inline\n",
    "\n",
    "import numpy as np\n",
    "import pandas as pd\n",
    "import matplotlib.pyplot as plt\n",
    "import seaborn as sns\n",
    "from prince import FAMD\n",
    "import pprint\n",
    "from factor_analyzer import FactorAnalyzer\n",
    "\n",
    "import warnings\n",
    "warnings.filterwarnings('ignore')\n",
    "pd.set_option('display.max_columns', None)\n",
    "pd.set_option('display.max_rows', 100)"
   ]
  },
  {
   "cell_type": "code",
   "execution_count": 80,
   "id": "aea26604",
   "metadata": {},
   "outputs": [
    {
     "data": {
      "text/html": [
       "<div>\n",
       "<style scoped>\n",
       "    .dataframe tbody tr th:only-of-type {\n",
       "        vertical-align: middle;\n",
       "    }\n",
       "\n",
       "    .dataframe tbody tr th {\n",
       "        vertical-align: top;\n",
       "    }\n",
       "\n",
       "    .dataframe thead th {\n",
       "        text-align: right;\n",
       "    }\n",
       "</style>\n",
       "<table border=\"1\" class=\"dataframe\">\n",
       "  <thead>\n",
       "    <tr style=\"text-align: right;\">\n",
       "      <th></th>\n",
       "      <th>Diabetes_binary</th>\n",
       "      <th>HighBP</th>\n",
       "      <th>HighChol</th>\n",
       "      <th>CholCheck</th>\n",
       "      <th>BMI</th>\n",
       "      <th>Smoker</th>\n",
       "      <th>Stroke</th>\n",
       "      <th>HeartDiseaseorAttack</th>\n",
       "      <th>PhysActivity</th>\n",
       "      <th>Fruits</th>\n",
       "      <th>Veggies</th>\n",
       "      <th>HvyAlcoholConsump</th>\n",
       "      <th>AnyHealthcare</th>\n",
       "      <th>NoDocbcCost</th>\n",
       "      <th>GenHlth</th>\n",
       "      <th>MentHlth</th>\n",
       "      <th>PhysHlth</th>\n",
       "      <th>DiffWalk</th>\n",
       "      <th>Sex</th>\n",
       "      <th>Age</th>\n",
       "      <th>Education</th>\n",
       "      <th>Income</th>\n",
       "    </tr>\n",
       "  </thead>\n",
       "  <tbody>\n",
       "    <tr>\n",
       "      <th>0</th>\n",
       "      <td>0.0</td>\n",
       "      <td>1.0</td>\n",
       "      <td>1.0</td>\n",
       "      <td>1.0</td>\n",
       "      <td>40.0</td>\n",
       "      <td>1.0</td>\n",
       "      <td>0.0</td>\n",
       "      <td>0.0</td>\n",
       "      <td>0.0</td>\n",
       "      <td>0.0</td>\n",
       "      <td>1.0</td>\n",
       "      <td>0.0</td>\n",
       "      <td>1.0</td>\n",
       "      <td>0.0</td>\n",
       "      <td>5.0</td>\n",
       "      <td>18.0</td>\n",
       "      <td>15.0</td>\n",
       "      <td>1.0</td>\n",
       "      <td>0.0</td>\n",
       "      <td>9.0</td>\n",
       "      <td>4.0</td>\n",
       "      <td>3.0</td>\n",
       "    </tr>\n",
       "    <tr>\n",
       "      <th>1</th>\n",
       "      <td>0.0</td>\n",
       "      <td>0.0</td>\n",
       "      <td>0.0</td>\n",
       "      <td>0.0</td>\n",
       "      <td>25.0</td>\n",
       "      <td>1.0</td>\n",
       "      <td>0.0</td>\n",
       "      <td>0.0</td>\n",
       "      <td>1.0</td>\n",
       "      <td>0.0</td>\n",
       "      <td>0.0</td>\n",
       "      <td>0.0</td>\n",
       "      <td>0.0</td>\n",
       "      <td>1.0</td>\n",
       "      <td>3.0</td>\n",
       "      <td>0.0</td>\n",
       "      <td>0.0</td>\n",
       "      <td>0.0</td>\n",
       "      <td>0.0</td>\n",
       "      <td>7.0</td>\n",
       "      <td>6.0</td>\n",
       "      <td>1.0</td>\n",
       "    </tr>\n",
       "    <tr>\n",
       "      <th>2</th>\n",
       "      <td>0.0</td>\n",
       "      <td>1.0</td>\n",
       "      <td>1.0</td>\n",
       "      <td>1.0</td>\n",
       "      <td>28.0</td>\n",
       "      <td>0.0</td>\n",
       "      <td>0.0</td>\n",
       "      <td>0.0</td>\n",
       "      <td>0.0</td>\n",
       "      <td>1.0</td>\n",
       "      <td>0.0</td>\n",
       "      <td>0.0</td>\n",
       "      <td>1.0</td>\n",
       "      <td>1.0</td>\n",
       "      <td>5.0</td>\n",
       "      <td>30.0</td>\n",
       "      <td>30.0</td>\n",
       "      <td>1.0</td>\n",
       "      <td>0.0</td>\n",
       "      <td>9.0</td>\n",
       "      <td>4.0</td>\n",
       "      <td>8.0</td>\n",
       "    </tr>\n",
       "    <tr>\n",
       "      <th>3</th>\n",
       "      <td>0.0</td>\n",
       "      <td>1.0</td>\n",
       "      <td>0.0</td>\n",
       "      <td>1.0</td>\n",
       "      <td>27.0</td>\n",
       "      <td>0.0</td>\n",
       "      <td>0.0</td>\n",
       "      <td>0.0</td>\n",
       "      <td>1.0</td>\n",
       "      <td>1.0</td>\n",
       "      <td>1.0</td>\n",
       "      <td>0.0</td>\n",
       "      <td>1.0</td>\n",
       "      <td>0.0</td>\n",
       "      <td>2.0</td>\n",
       "      <td>0.0</td>\n",
       "      <td>0.0</td>\n",
       "      <td>0.0</td>\n",
       "      <td>0.0</td>\n",
       "      <td>11.0</td>\n",
       "      <td>3.0</td>\n",
       "      <td>6.0</td>\n",
       "    </tr>\n",
       "    <tr>\n",
       "      <th>4</th>\n",
       "      <td>0.0</td>\n",
       "      <td>1.0</td>\n",
       "      <td>1.0</td>\n",
       "      <td>1.0</td>\n",
       "      <td>24.0</td>\n",
       "      <td>0.0</td>\n",
       "      <td>0.0</td>\n",
       "      <td>0.0</td>\n",
       "      <td>1.0</td>\n",
       "      <td>1.0</td>\n",
       "      <td>1.0</td>\n",
       "      <td>0.0</td>\n",
       "      <td>1.0</td>\n",
       "      <td>0.0</td>\n",
       "      <td>2.0</td>\n",
       "      <td>3.0</td>\n",
       "      <td>0.0</td>\n",
       "      <td>0.0</td>\n",
       "      <td>0.0</td>\n",
       "      <td>11.0</td>\n",
       "      <td>5.0</td>\n",
       "      <td>4.0</td>\n",
       "    </tr>\n",
       "  </tbody>\n",
       "</table>\n",
       "</div>"
      ],
      "text/plain": [
       "   Diabetes_binary  HighBP  HighChol  CholCheck   BMI  Smoker  Stroke  \\\n",
       "0              0.0     1.0       1.0        1.0  40.0     1.0     0.0   \n",
       "1              0.0     0.0       0.0        0.0  25.0     1.0     0.0   \n",
       "2              0.0     1.0       1.0        1.0  28.0     0.0     0.0   \n",
       "3              0.0     1.0       0.0        1.0  27.0     0.0     0.0   \n",
       "4              0.0     1.0       1.0        1.0  24.0     0.0     0.0   \n",
       "\n",
       "   HeartDiseaseorAttack  PhysActivity  Fruits  Veggies  HvyAlcoholConsump  \\\n",
       "0                   0.0           0.0     0.0      1.0                0.0   \n",
       "1                   0.0           1.0     0.0      0.0                0.0   \n",
       "2                   0.0           0.0     1.0      0.0                0.0   \n",
       "3                   0.0           1.0     1.0      1.0                0.0   \n",
       "4                   0.0           1.0     1.0      1.0                0.0   \n",
       "\n",
       "   AnyHealthcare  NoDocbcCost  GenHlth  MentHlth  PhysHlth  DiffWalk  Sex  \\\n",
       "0            1.0          0.0      5.0      18.0      15.0       1.0  0.0   \n",
       "1            0.0          1.0      3.0       0.0       0.0       0.0  0.0   \n",
       "2            1.0          1.0      5.0      30.0      30.0       1.0  0.0   \n",
       "3            1.0          0.0      2.0       0.0       0.0       0.0  0.0   \n",
       "4            1.0          0.0      2.0       3.0       0.0       0.0  0.0   \n",
       "\n",
       "    Age  Education  Income  \n",
       "0   9.0        4.0     3.0  \n",
       "1   7.0        6.0     1.0  \n",
       "2   9.0        4.0     8.0  \n",
       "3  11.0        3.0     6.0  \n",
       "4  11.0        5.0     4.0  "
      ]
     },
     "execution_count": 80,
     "metadata": {},
     "output_type": "execute_result"
    }
   ],
   "source": [
    "df = pd.read_csv('diabetes_binary_health_indicators_BRFSS2015.csv')\n",
    "df.head()"
   ]
  },
  {
   "cell_type": "markdown",
   "id": "9e711ad6",
   "metadata": {},
   "source": [
    "#### Prepare"
   ]
  },
  {
   "cell_type": "markdown",
   "id": "1e5b54a1",
   "metadata": {},
   "source": [
    "Removed the outliers, standard scaled the data and also the features have to be numeric."
   ]
  },
  {
   "cell_type": "code",
   "execution_count": 81,
   "id": "376486bc",
   "metadata": {},
   "outputs": [
    {
     "data": {
      "text/html": [
       "<div>\n",
       "<style scoped>\n",
       "    .dataframe tbody tr th:only-of-type {\n",
       "        vertical-align: middle;\n",
       "    }\n",
       "\n",
       "    .dataframe tbody tr th {\n",
       "        vertical-align: top;\n",
       "    }\n",
       "\n",
       "    .dataframe thead th {\n",
       "        text-align: right;\n",
       "    }\n",
       "</style>\n",
       "<table border=\"1\" class=\"dataframe\">\n",
       "  <thead>\n",
       "    <tr style=\"text-align: right;\">\n",
       "      <th></th>\n",
       "      <th>Diabetes_binary</th>\n",
       "      <th>HighBP</th>\n",
       "      <th>HighChol</th>\n",
       "      <th>CholCheck</th>\n",
       "      <th>BMI</th>\n",
       "      <th>Smoker</th>\n",
       "      <th>Stroke</th>\n",
       "      <th>HeartDiseaseorAttack</th>\n",
       "      <th>PhysActivity</th>\n",
       "      <th>Fruits</th>\n",
       "      <th>Veggies</th>\n",
       "      <th>HvyAlcoholConsump</th>\n",
       "      <th>AnyHealthcare</th>\n",
       "      <th>NoDocbcCost</th>\n",
       "      <th>GenHlth</th>\n",
       "      <th>MentHlth</th>\n",
       "      <th>PhysHlth</th>\n",
       "      <th>DiffWalk</th>\n",
       "      <th>Sex</th>\n",
       "      <th>Age</th>\n",
       "      <th>Education</th>\n",
       "      <th>Income</th>\n",
       "    </tr>\n",
       "  </thead>\n",
       "  <tbody>\n",
       "    <tr>\n",
       "      <th>0</th>\n",
       "      <td>-0.402355</td>\n",
       "      <td>1.153688</td>\n",
       "      <td>1.165254</td>\n",
       "      <td>0.196922</td>\n",
       "      <td>1.757936</td>\n",
       "      <td>1.120927</td>\n",
       "      <td>-0.205637</td>\n",
       "      <td>-0.322458</td>\n",
       "      <td>-1.762814</td>\n",
       "      <td>-1.316872</td>\n",
       "      <td>0.482087</td>\n",
       "      <td>-0.244014</td>\n",
       "      <td>0.226863</td>\n",
       "      <td>-0.303173</td>\n",
       "      <td>2.329121</td>\n",
       "      <td>1.998592</td>\n",
       "      <td>1.233999</td>\n",
       "      <td>2.223615</td>\n",
       "      <td>-0.887021</td>\n",
       "      <td>0.316900</td>\n",
       "      <td>-1.065595</td>\n",
       "      <td>-1.474487</td>\n",
       "    </tr>\n",
       "    <tr>\n",
       "      <th>1</th>\n",
       "      <td>-0.402355</td>\n",
       "      <td>-0.866785</td>\n",
       "      <td>-0.858182</td>\n",
       "      <td>-5.078164</td>\n",
       "      <td>-0.511806</td>\n",
       "      <td>1.120927</td>\n",
       "      <td>-0.205637</td>\n",
       "      <td>-0.322458</td>\n",
       "      <td>0.567275</td>\n",
       "      <td>-1.316872</td>\n",
       "      <td>-2.074316</td>\n",
       "      <td>-0.244014</td>\n",
       "      <td>-4.407954</td>\n",
       "      <td>3.298445</td>\n",
       "      <td>0.457294</td>\n",
       "      <td>-0.429630</td>\n",
       "      <td>-0.486592</td>\n",
       "      <td>-0.449718</td>\n",
       "      <td>-0.887021</td>\n",
       "      <td>-0.337933</td>\n",
       "      <td>0.963272</td>\n",
       "      <td>-2.440138</td>\n",
       "    </tr>\n",
       "    <tr>\n",
       "      <th>2</th>\n",
       "      <td>-0.402355</td>\n",
       "      <td>1.153688</td>\n",
       "      <td>1.165254</td>\n",
       "      <td>0.196922</td>\n",
       "      <td>-0.057858</td>\n",
       "      <td>-0.892119</td>\n",
       "      <td>-0.205637</td>\n",
       "      <td>-0.322458</td>\n",
       "      <td>-1.762814</td>\n",
       "      <td>0.759375</td>\n",
       "      <td>-2.074316</td>\n",
       "      <td>-0.244014</td>\n",
       "      <td>0.226863</td>\n",
       "      <td>3.298445</td>\n",
       "      <td>2.329121</td>\n",
       "      <td>3.617407</td>\n",
       "      <td>2.954590</td>\n",
       "      <td>2.223615</td>\n",
       "      <td>-0.887021</td>\n",
       "      <td>0.316900</td>\n",
       "      <td>-1.065595</td>\n",
       "      <td>0.939638</td>\n",
       "    </tr>\n",
       "    <tr>\n",
       "      <th>3</th>\n",
       "      <td>-0.402355</td>\n",
       "      <td>1.153688</td>\n",
       "      <td>-0.858182</td>\n",
       "      <td>0.196922</td>\n",
       "      <td>-0.209174</td>\n",
       "      <td>-0.892119</td>\n",
       "      <td>-0.205637</td>\n",
       "      <td>-0.322458</td>\n",
       "      <td>0.567275</td>\n",
       "      <td>0.759375</td>\n",
       "      <td>0.482087</td>\n",
       "      <td>-0.244014</td>\n",
       "      <td>0.226863</td>\n",
       "      <td>-0.303173</td>\n",
       "      <td>-0.478619</td>\n",
       "      <td>-0.429630</td>\n",
       "      <td>-0.486592</td>\n",
       "      <td>-0.449718</td>\n",
       "      <td>-0.887021</td>\n",
       "      <td>0.971733</td>\n",
       "      <td>-2.080028</td>\n",
       "      <td>-0.026012</td>\n",
       "    </tr>\n",
       "    <tr>\n",
       "      <th>4</th>\n",
       "      <td>-0.402355</td>\n",
       "      <td>1.153688</td>\n",
       "      <td>1.165254</td>\n",
       "      <td>0.196922</td>\n",
       "      <td>-0.663122</td>\n",
       "      <td>-0.892119</td>\n",
       "      <td>-0.205637</td>\n",
       "      <td>-0.322458</td>\n",
       "      <td>0.567275</td>\n",
       "      <td>0.759375</td>\n",
       "      <td>0.482087</td>\n",
       "      <td>-0.244014</td>\n",
       "      <td>0.226863</td>\n",
       "      <td>-0.303173</td>\n",
       "      <td>-0.478619</td>\n",
       "      <td>-0.024926</td>\n",
       "      <td>-0.486592</td>\n",
       "      <td>-0.449718</td>\n",
       "      <td>-0.887021</td>\n",
       "      <td>0.971733</td>\n",
       "      <td>-0.051162</td>\n",
       "      <td>-0.991662</td>\n",
       "    </tr>\n",
       "    <tr>\n",
       "      <th>...</th>\n",
       "      <td>...</td>\n",
       "      <td>...</td>\n",
       "      <td>...</td>\n",
       "      <td>...</td>\n",
       "      <td>...</td>\n",
       "      <td>...</td>\n",
       "      <td>...</td>\n",
       "      <td>...</td>\n",
       "      <td>...</td>\n",
       "      <td>...</td>\n",
       "      <td>...</td>\n",
       "      <td>...</td>\n",
       "      <td>...</td>\n",
       "      <td>...</td>\n",
       "      <td>...</td>\n",
       "      <td>...</td>\n",
       "      <td>...</td>\n",
       "      <td>...</td>\n",
       "      <td>...</td>\n",
       "      <td>...</td>\n",
       "      <td>...</td>\n",
       "      <td>...</td>\n",
       "    </tr>\n",
       "    <tr>\n",
       "      <th>253675</th>\n",
       "      <td>-0.402355</td>\n",
       "      <td>1.153688</td>\n",
       "      <td>1.165254</td>\n",
       "      <td>0.196922</td>\n",
       "      <td>2.514516</td>\n",
       "      <td>-0.892119</td>\n",
       "      <td>-0.205637</td>\n",
       "      <td>-0.322458</td>\n",
       "      <td>-1.762814</td>\n",
       "      <td>0.759375</td>\n",
       "      <td>0.482087</td>\n",
       "      <td>-0.244014</td>\n",
       "      <td>0.226863</td>\n",
       "      <td>-0.303173</td>\n",
       "      <td>0.457294</td>\n",
       "      <td>-0.429630</td>\n",
       "      <td>0.086938</td>\n",
       "      <td>-0.449718</td>\n",
       "      <td>1.127369</td>\n",
       "      <td>-0.992766</td>\n",
       "      <td>0.963272</td>\n",
       "      <td>0.456813</td>\n",
       "    </tr>\n",
       "    <tr>\n",
       "      <th>253676</th>\n",
       "      <td>2.485367</td>\n",
       "      <td>1.153688</td>\n",
       "      <td>1.165254</td>\n",
       "      <td>0.196922</td>\n",
       "      <td>-1.571019</td>\n",
       "      <td>-0.892119</td>\n",
       "      <td>-0.205637</td>\n",
       "      <td>-0.322458</td>\n",
       "      <td>-1.762814</td>\n",
       "      <td>-1.316872</td>\n",
       "      <td>-2.074316</td>\n",
       "      <td>-0.244014</td>\n",
       "      <td>0.226863</td>\n",
       "      <td>-0.303173</td>\n",
       "      <td>1.393207</td>\n",
       "      <td>-0.429630</td>\n",
       "      <td>-0.486592</td>\n",
       "      <td>2.223615</td>\n",
       "      <td>-0.887021</td>\n",
       "      <td>0.971733</td>\n",
       "      <td>-3.094461</td>\n",
       "      <td>-0.991662</td>\n",
       "    </tr>\n",
       "    <tr>\n",
       "      <th>253677</th>\n",
       "      <td>-0.402355</td>\n",
       "      <td>-0.866785</td>\n",
       "      <td>-0.858182</td>\n",
       "      <td>0.196922</td>\n",
       "      <td>-0.057858</td>\n",
       "      <td>-0.892119</td>\n",
       "      <td>-0.205637</td>\n",
       "      <td>-0.322458</td>\n",
       "      <td>0.567275</td>\n",
       "      <td>0.759375</td>\n",
       "      <td>-2.074316</td>\n",
       "      <td>-0.244014</td>\n",
       "      <td>0.226863</td>\n",
       "      <td>-0.303173</td>\n",
       "      <td>-1.414532</td>\n",
       "      <td>-0.429630</td>\n",
       "      <td>-0.486592</td>\n",
       "      <td>-0.449718</td>\n",
       "      <td>-0.887021</td>\n",
       "      <td>-1.975015</td>\n",
       "      <td>-0.051162</td>\n",
       "      <td>-1.957312</td>\n",
       "    </tr>\n",
       "    <tr>\n",
       "      <th>253678</th>\n",
       "      <td>-0.402355</td>\n",
       "      <td>1.153688</td>\n",
       "      <td>-0.858182</td>\n",
       "      <td>0.196922</td>\n",
       "      <td>-0.814438</td>\n",
       "      <td>-0.892119</td>\n",
       "      <td>-0.205637</td>\n",
       "      <td>-0.322458</td>\n",
       "      <td>-1.762814</td>\n",
       "      <td>0.759375</td>\n",
       "      <td>0.482087</td>\n",
       "      <td>-0.244014</td>\n",
       "      <td>0.226863</td>\n",
       "      <td>-0.303173</td>\n",
       "      <td>0.457294</td>\n",
       "      <td>-0.429630</td>\n",
       "      <td>-0.486592</td>\n",
       "      <td>-0.449718</td>\n",
       "      <td>1.127369</td>\n",
       "      <td>-0.337933</td>\n",
       "      <td>-0.051162</td>\n",
       "      <td>-2.440138</td>\n",
       "    </tr>\n",
       "    <tr>\n",
       "      <th>253679</th>\n",
       "      <td>2.485367</td>\n",
       "      <td>1.153688</td>\n",
       "      <td>1.165254</td>\n",
       "      <td>0.196922</td>\n",
       "      <td>-0.511806</td>\n",
       "      <td>-0.892119</td>\n",
       "      <td>-0.205637</td>\n",
       "      <td>3.101183</td>\n",
       "      <td>0.567275</td>\n",
       "      <td>0.759375</td>\n",
       "      <td>-2.074316</td>\n",
       "      <td>-0.244014</td>\n",
       "      <td>0.226863</td>\n",
       "      <td>-0.303173</td>\n",
       "      <td>-0.478619</td>\n",
       "      <td>-0.429630</td>\n",
       "      <td>-0.486592</td>\n",
       "      <td>-0.449718</td>\n",
       "      <td>-0.887021</td>\n",
       "      <td>0.316900</td>\n",
       "      <td>0.963272</td>\n",
       "      <td>-1.957312</td>\n",
       "    </tr>\n",
       "  </tbody>\n",
       "</table>\n",
       "<p>253680 rows × 22 columns</p>\n",
       "</div>"
      ],
      "text/plain": [
       "        Diabetes_binary    HighBP  HighChol  CholCheck       BMI    Smoker  \\\n",
       "0             -0.402355  1.153688  1.165254   0.196922  1.757936  1.120927   \n",
       "1             -0.402355 -0.866785 -0.858182  -5.078164 -0.511806  1.120927   \n",
       "2             -0.402355  1.153688  1.165254   0.196922 -0.057858 -0.892119   \n",
       "3             -0.402355  1.153688 -0.858182   0.196922 -0.209174 -0.892119   \n",
       "4             -0.402355  1.153688  1.165254   0.196922 -0.663122 -0.892119   \n",
       "...                 ...       ...       ...        ...       ...       ...   \n",
       "253675        -0.402355  1.153688  1.165254   0.196922  2.514516 -0.892119   \n",
       "253676         2.485367  1.153688  1.165254   0.196922 -1.571019 -0.892119   \n",
       "253677        -0.402355 -0.866785 -0.858182   0.196922 -0.057858 -0.892119   \n",
       "253678        -0.402355  1.153688 -0.858182   0.196922 -0.814438 -0.892119   \n",
       "253679         2.485367  1.153688  1.165254   0.196922 -0.511806 -0.892119   \n",
       "\n",
       "          Stroke  HeartDiseaseorAttack  PhysActivity    Fruits   Veggies  \\\n",
       "0      -0.205637             -0.322458     -1.762814 -1.316872  0.482087   \n",
       "1      -0.205637             -0.322458      0.567275 -1.316872 -2.074316   \n",
       "2      -0.205637             -0.322458     -1.762814  0.759375 -2.074316   \n",
       "3      -0.205637             -0.322458      0.567275  0.759375  0.482087   \n",
       "4      -0.205637             -0.322458      0.567275  0.759375  0.482087   \n",
       "...          ...                   ...           ...       ...       ...   \n",
       "253675 -0.205637             -0.322458     -1.762814  0.759375  0.482087   \n",
       "253676 -0.205637             -0.322458     -1.762814 -1.316872 -2.074316   \n",
       "253677 -0.205637             -0.322458      0.567275  0.759375 -2.074316   \n",
       "253678 -0.205637             -0.322458     -1.762814  0.759375  0.482087   \n",
       "253679 -0.205637              3.101183      0.567275  0.759375 -2.074316   \n",
       "\n",
       "        HvyAlcoholConsump  AnyHealthcare  NoDocbcCost   GenHlth  MentHlth  \\\n",
       "0               -0.244014       0.226863    -0.303173  2.329121  1.998592   \n",
       "1               -0.244014      -4.407954     3.298445  0.457294 -0.429630   \n",
       "2               -0.244014       0.226863     3.298445  2.329121  3.617407   \n",
       "3               -0.244014       0.226863    -0.303173 -0.478619 -0.429630   \n",
       "4               -0.244014       0.226863    -0.303173 -0.478619 -0.024926   \n",
       "...                   ...            ...          ...       ...       ...   \n",
       "253675          -0.244014       0.226863    -0.303173  0.457294 -0.429630   \n",
       "253676          -0.244014       0.226863    -0.303173  1.393207 -0.429630   \n",
       "253677          -0.244014       0.226863    -0.303173 -1.414532 -0.429630   \n",
       "253678          -0.244014       0.226863    -0.303173  0.457294 -0.429630   \n",
       "253679          -0.244014       0.226863    -0.303173 -0.478619 -0.429630   \n",
       "\n",
       "        PhysHlth  DiffWalk       Sex       Age  Education    Income  \n",
       "0       1.233999  2.223615 -0.887021  0.316900  -1.065595 -1.474487  \n",
       "1      -0.486592 -0.449718 -0.887021 -0.337933   0.963272 -2.440138  \n",
       "2       2.954590  2.223615 -0.887021  0.316900  -1.065595  0.939638  \n",
       "3      -0.486592 -0.449718 -0.887021  0.971733  -2.080028 -0.026012  \n",
       "4      -0.486592 -0.449718 -0.887021  0.971733  -0.051162 -0.991662  \n",
       "...          ...       ...       ...       ...        ...       ...  \n",
       "253675  0.086938 -0.449718  1.127369 -0.992766   0.963272  0.456813  \n",
       "253676 -0.486592  2.223615 -0.887021  0.971733  -3.094461 -0.991662  \n",
       "253677 -0.486592 -0.449718 -0.887021 -1.975015  -0.051162 -1.957312  \n",
       "253678 -0.486592 -0.449718  1.127369 -0.337933  -0.051162 -2.440138  \n",
       "253679 -0.486592 -0.449718 -0.887021  0.316900   0.963272 -1.957312  \n",
       "\n",
       "[253680 rows x 22 columns]"
      ]
     },
     "execution_count": 81,
     "metadata": {},
     "output_type": "execute_result"
    }
   ],
   "source": [
    "scaler = StandardScaler()\n",
    "# transform data\n",
    "df\n",
    "df = pd.DataFrame(scaler.fit_transform(df.values), columns=df.columns, index=df.index)\n",
    "df"
   ]
  },
  {
   "cell_type": "code",
   "execution_count": 74,
   "id": "ed35dab9",
   "metadata": {},
   "outputs": [
    {
     "data": {
      "text/plain": [
       "(253680, 22)"
      ]
     },
     "execution_count": 74,
     "metadata": {},
     "output_type": "execute_result"
    }
   ],
   "source": [
    "df.shape"
   ]
  },
  {
   "cell_type": "code",
   "execution_count": 75,
   "id": "4d92147f",
   "metadata": {},
   "outputs": [],
   "source": [
    "# ValueError: All variables are quantitative: PCA should be used"
   ]
  },
  {
   "cell_type": "code",
   "execution_count": 76,
   "id": "e47acee3",
   "metadata": {},
   "outputs": [
    {
     "name": "stdout",
     "output_type": "stream",
     "text": [
      "<class 'pandas.core.frame.DataFrame'>\n",
      "RangeIndex: 253680 entries, 0 to 253679\n",
      "Data columns (total 22 columns):\n",
      " #   Column                Non-Null Count   Dtype  \n",
      "---  ------                --------------   -----  \n",
      " 0   Diabetes_binary       253680 non-null  float64\n",
      " 1   HighBP                253680 non-null  float64\n",
      " 2   HighChol              253680 non-null  float64\n",
      " 3   CholCheck             253680 non-null  float64\n",
      " 4   BMI                   253680 non-null  float64\n",
      " 5   Smoker                253680 non-null  float64\n",
      " 6   Stroke                253680 non-null  float64\n",
      " 7   HeartDiseaseorAttack  253680 non-null  float64\n",
      " 8   PhysActivity          253680 non-null  float64\n",
      " 9   Fruits                253680 non-null  float64\n",
      " 10  Veggies               253680 non-null  float64\n",
      " 11  HvyAlcoholConsump     253680 non-null  float64\n",
      " 12  AnyHealthcare         253680 non-null  float64\n",
      " 13  NoDocbcCost           253680 non-null  float64\n",
      " 14  GenHlth               253680 non-null  float64\n",
      " 15  MentHlth              253680 non-null  float64\n",
      " 16  PhysHlth              253680 non-null  float64\n",
      " 17  DiffWalk              253680 non-null  float64\n",
      " 18  Sex                   253680 non-null  float64\n",
      " 19  Age                   253680 non-null  float64\n",
      " 20  Education             253680 non-null  float64\n",
      " 21  Income                253680 non-null  float64\n",
      "dtypes: float64(22)\n",
      "memory usage: 42.6 MB\n"
     ]
    }
   ],
   "source": [
    "df.info()"
   ]
  },
  {
   "cell_type": "markdown",
   "id": "2f9bdaf6",
   "metadata": {},
   "source": [
    "#### BARTLETT’S TEST OF SPHERICITY"
   ]
  },
  {
   "cell_type": "code",
   "execution_count": 82,
   "id": "1f912fa7",
   "metadata": {},
   "outputs": [
    {
     "data": {
      "text/plain": [
       "(720709.6590924889, 0.0)"
      ]
     },
     "execution_count": 82,
     "metadata": {},
     "output_type": "execute_result"
    }
   ],
   "source": [
    "from factor_analyzer.factor_analyzer import calculate_bartlett_sphericity\n",
    "chi_square_value,p_value=calculate_bartlett_sphericity(df)\n",
    "chi_square_value, p_value"
   ]
  },
  {
   "cell_type": "markdown",
   "id": "e70acd9d",
   "metadata": {},
   "source": [
    "In this Bartlett ’s test, the p-value is 0. The test was statistically significant, so we can conclude that correlation is present among the variables which is a green signal to apply factor analysis."
   ]
  },
  {
   "cell_type": "markdown",
   "id": "2526563f",
   "metadata": {},
   "source": [
    "#### KAISER-MEYER-OLKIN (KMO) TEST"
   ]
  },
  {
   "cell_type": "code",
   "execution_count": 83,
   "id": "4662b323",
   "metadata": {},
   "outputs": [],
   "source": [
    "from factor_analyzer.factor_analyzer import calculate_kmo\n",
    "kmo_all,kmo_model=calculate_kmo(df)"
   ]
  },
  {
   "cell_type": "code",
   "execution_count": 84,
   "id": "3e866e6a",
   "metadata": {},
   "outputs": [
    {
     "data": {
      "text/plain": [
       "0.8087086713801657"
      ]
     },
     "execution_count": 84,
     "metadata": {},
     "output_type": "execute_result"
    }
   ],
   "source": [
    "kmo_model"
   ]
  },
  {
   "cell_type": "markdown",
   "id": "127c2486",
   "metadata": {},
   "source": [
    "The overall KMO for our data is 0.81, which mean there is an overall proportion of variance of 0.81.Our data has more correlation and dimensionality reduction techniques such as the factor analysis can be applied."
   ]
  },
  {
   "cell_type": "markdown",
   "id": "6419d6ea",
   "metadata": {},
   "source": [
    "#### DETERMINING THE NUMBER OF FACTORS"
   ]
  },
  {
   "cell_type": "code",
   "execution_count": 85,
   "id": "7c4a17ee",
   "metadata": {},
   "outputs": [
    {
     "data": {
      "image/png": "[encoded data removed]",
      "text/plain": [
       "<Figure size 640x480 with 1 Axes>"
      ]
     },
     "metadata": {},
     "output_type": "display_data"
    }
   ],
   "source": [
    "from factor_analyzer import FactorAnalyzer\n",
    "fa = FactorAnalyzer(rotation = None,impute = \"drop\",n_factors=df.shape[1])\n",
    "fa.fit(df)\n",
    "ev,_ = fa.get_eigenvalues()\n",
    "plt.scatter(range(1,df.shape[1]+1),ev)\n",
    "plt.plot(range(1,df.shape[1]+1),ev)\n",
    "plt.title('Scree Plot')\n",
    "plt.xlabel('Factors')\n",
    "plt.ylabel('Eigen Value')\n",
    "plt.grid()"
   ]
  },
  {
   "cell_type": "code",
   "execution_count": 86,
   "id": "8ace485e",
   "metadata": {},
   "outputs": [
    {
     "data": {
      "text/plain": [
       "array([3.66653309, 1.79872601, 1.36271937, 1.20007811, 1.15924769,\n",
       "       1.12380535, 1.03553264, 0.94948332, 0.92410984, 0.88343125,\n",
       "       0.8198539 , 0.79297096, 0.7567284 , 0.73818122, 0.73167228,\n",
       "       0.71203802, 0.70126171, 0.66478234, 0.55718188, 0.51047511,\n",
       "       0.49171154, 0.419476  ])"
      ]
     },
     "execution_count": 86,
     "metadata": {},
     "output_type": "execute_result"
    }
   ],
   "source": [
    "ev"
   ]
  },
  {
   "cell_type": "markdown",
   "id": "ea57dad1",
   "metadata": {},
   "source": [
    "Here, we see only for 7-factors eigenvalues are greater than one. It means we need to choose only 7 factors (or unobserved variables). "
   ]
  },
  {
   "cell_type": "markdown",
   "id": "7e8006eb",
   "metadata": {},
   "source": [
    "### INTERPRETING THE FACTORS"
   ]
  },
  {
   "cell_type": "code",
   "execution_count": 87,
   "id": "ebdaf931",
   "metadata": {},
   "outputs": [
    {
     "data": {
      "text/plain": [
       "Index(['Diabetes_binary', 'HighBP', 'HighChol', 'CholCheck', 'BMI', 'Smoker',\n",
       "       'Stroke', 'HeartDiseaseorAttack', 'PhysActivity', 'Fruits', 'Veggies',\n",
       "       'HvyAlcoholConsump', 'AnyHealthcare', 'NoDocbcCost', 'GenHlth',\n",
       "       'MentHlth', 'PhysHlth', 'DiffWalk', 'Sex', 'Age', 'Education',\n",
       "       'Income'],\n",
       "      dtype='object')"
      ]
     },
     "execution_count": 87,
     "metadata": {},
     "output_type": "execute_result"
    }
   ],
   "source": [
    "df.columns"
   ]
  },
  {
   "cell_type": "markdown",
   "id": "c60be46b",
   "metadata": {},
   "source": [
    "#### LOADINGS"
   ]
  },
  {
   "cell_type": "markdown",
   "id": "36cdd98b",
   "metadata": {},
   "source": [
    "The loading score will range from -1 to 1.Values close to -1 or 1 indicate that the factor has an influence on these variables. Values close to 0 indicates that the factor has a lower influencer on the variable."
   ]
  },
  {
   "cell_type": "code",
   "execution_count": 88,
   "id": "b2711cf8",
   "metadata": {},
   "outputs": [
    {
     "name": "stdout",
     "output_type": "stream",
     "text": [
      "                             0         1         2         3         4  \\\n",
      "Diabetes_binary       0.141039  0.408774 -0.066786  0.178519  0.026570   \n",
      "HighBP                0.075157  0.548665 -0.129477  0.221103  0.119976   \n",
      "HighChol              0.060834  0.367343 -0.053585  0.208239  0.115614   \n",
      "CholCheck             0.025933  0.122917 -0.002603  0.021346  0.180025   \n",
      "BMI                   0.162954  0.456261  0.042622 -0.097924 -0.087145   \n",
      "Smoker                0.096691  0.067794 -0.086488  0.172914 -0.054751   \n",
      "Stroke                0.136683  0.062071 -0.059273  0.300762  0.013426   \n",
      "HeartDiseaseorAttack  0.120491  0.167113 -0.014146  0.498874  0.012348   \n",
      "PhysActivity         -0.254746 -0.137774  0.178866 -0.038580 -0.017886   \n",
      "Fruits               -0.049855 -0.040428 -0.009207  0.021592  0.048541   \n",
      "Veggies              -0.046332 -0.022610  0.110568 -0.043440  0.003547   \n",
      "HvyAlcoholConsump    -0.001200 -0.041113  0.050579 -0.061254 -0.028888   \n",
      "AnyHealthcare         0.010353  0.011050  0.104143 -0.004014  0.455928   \n",
      "NoDocbcCost           0.205880  0.042291 -0.085897  0.006349 -0.407738   \n",
      "GenHlth               0.572152  0.335467 -0.172336  0.254760 -0.075942   \n",
      "MentHlth              0.477898  0.031652 -0.043973 -0.019070 -0.165816   \n",
      "PhysHlth              0.729074  0.084090 -0.065816  0.193937  0.013370   \n",
      "DiffWalk              0.539627  0.212918 -0.200515  0.210568  0.062767   \n",
      "Sex                  -0.139955  0.080200  0.239095  0.178236 -0.068146   \n",
      "Age                  -0.044053  0.264579 -0.297939  0.374067  0.420721   \n",
      "Education            -0.115507 -0.125225  0.469779 -0.109472  0.163833   \n",
      "Income               -0.263470 -0.111593  0.647983 -0.146150  0.240420   \n",
      "\n",
      "                             5         6  \n",
      "Diabetes_binary      -0.060437 -0.089337  \n",
      "HighBP               -0.023098  0.109946  \n",
      "HighChol             -0.003701  0.130198  \n",
      "CholCheck             0.035096 -0.034864  \n",
      "BMI                  -0.157797 -0.165049  \n",
      "Smoker               -0.107758  0.322576  \n",
      "Stroke               -0.015644 -0.026391  \n",
      "HeartDiseaseorAttack -0.032031  0.000685  \n",
      "PhysActivity          0.247691 -0.005299  \n",
      "Fruits                0.506166 -0.094836  \n",
      "Veggies               0.454533  0.020495  \n",
      "HvyAlcoholConsump    -0.007308  0.285912  \n",
      "AnyHealthcare         0.019742 -0.028037  \n",
      "NoDocbcCost           0.020441  0.045027  \n",
      "GenHlth              -0.144648  0.002036  \n",
      "MentHlth             -0.036846  0.089483  \n",
      "PhysHlth             -0.027326  0.024022  \n",
      "DiffWalk             -0.055778 -0.044489  \n",
      "Sex                  -0.198370  0.079594  \n",
      "Age                   0.114002  0.161525  \n",
      "Education             0.231486 -0.030629  \n",
      "Income                0.121071  0.058676  \n"
     ]
    }
   ],
   "source": [
    "fa = FactorAnalyzer()\n",
    "fa.set_params(n_factors= 7, rotation='varimax')\n",
    "fa.fit(df)\n",
    "print(pd.DataFrame(fa.loadings_,index=df.columns))"
   ]
  },
  {
   "cell_type": "markdown",
   "id": "06967e60",
   "metadata": {},
   "source": [
    "#### VARIANCE\n",
    "\n",
    "The amount of variance explained by each factor can be found out using the ‘get_factor_variance’ function."
   ]
  },
  {
   "cell_type": "code",
   "execution_count": 92,
   "id": "6f86a031",
   "metadata": {},
   "outputs": [],
   "source": [
    "x = pd.DataFrame(fa.get_factor_variance(),index=['Variance','Proportional Var','Cumulative Var'])"
   ]
  },
  {
   "cell_type": "code",
   "execution_count": 93,
   "id": "9cad07aa",
   "metadata": {},
   "outputs": [
    {
     "data": {
      "text/html": [
       "<div>\n",
       "<style scoped>\n",
       "    .dataframe tbody tr th:only-of-type {\n",
       "        vertical-align: middle;\n",
       "    }\n",
       "\n",
       "    .dataframe tbody tr th {\n",
       "        vertical-align: top;\n",
       "    }\n",
       "\n",
       "    .dataframe thead th {\n",
       "        text-align: right;\n",
       "    }\n",
       "</style>\n",
       "<table border=\"1\" class=\"dataframe\">\n",
       "  <thead>\n",
       "    <tr style=\"text-align: right;\">\n",
       "      <th></th>\n",
       "      <th>0</th>\n",
       "      <th>1</th>\n",
       "      <th>2</th>\n",
       "      <th>3</th>\n",
       "      <th>4</th>\n",
       "      <th>5</th>\n",
       "      <th>6</th>\n",
       "    </tr>\n",
       "  </thead>\n",
       "  <tbody>\n",
       "    <tr>\n",
       "      <th>Variance</th>\n",
       "      <td>1.693816</td>\n",
       "      <td>1.157970</td>\n",
       "      <td>0.964879</td>\n",
       "      <td>0.863301</td>\n",
       "      <td>0.753119</td>\n",
       "      <td>0.714961</td>\n",
       "      <td>0.311606</td>\n",
       "    </tr>\n",
       "    <tr>\n",
       "      <th>Proportional Var</th>\n",
       "      <td>0.076992</td>\n",
       "      <td>0.052635</td>\n",
       "      <td>0.043858</td>\n",
       "      <td>0.039241</td>\n",
       "      <td>0.034233</td>\n",
       "      <td>0.032498</td>\n",
       "      <td>0.014164</td>\n",
       "    </tr>\n",
       "    <tr>\n",
       "      <th>Cumulative Var</th>\n",
       "      <td>0.076992</td>\n",
       "      <td>0.129627</td>\n",
       "      <td>0.173485</td>\n",
       "      <td>0.212726</td>\n",
       "      <td>0.246958</td>\n",
       "      <td>0.279457</td>\n",
       "      <td>0.293620</td>\n",
       "    </tr>\n",
       "  </tbody>\n",
       "</table>\n",
       "</div>"
      ],
      "text/plain": [
       "                         0         1         2         3         4         5  \\\n",
       "Variance          1.693816  1.157970  0.964879  0.863301  0.753119  0.714961   \n",
       "Proportional Var  0.076992  0.052635  0.043858  0.039241  0.034233  0.032498   \n",
       "Cumulative Var    0.076992  0.129627  0.173485  0.212726  0.246958  0.279457   \n",
       "\n",
       "                         6  \n",
       "Variance          0.311606  \n",
       "Proportional Var  0.014164  \n",
       "Cumulative Var    0.293620  "
      ]
     },
     "execution_count": 93,
     "metadata": {},
     "output_type": "execute_result"
    }
   ],
   "source": [
    "x"
   ]
  },
  {
   "cell_type": "code",
   "execution_count": 95,
   "id": "6a354fd8",
   "metadata": {},
   "outputs": [
    {
     "data": {
      "text/plain": [
       "1.6938159424666916"
      ]
     },
     "execution_count": 95,
     "metadata": {},
     "output_type": "execute_result"
    }
   ],
   "source": [
    "x[0]"
   ]
  },
  {
   "cell_type": "code",
   "execution_count": 103,
   "id": "204eae72",
   "metadata": {},
   "outputs": [
    {
     "data": {
      "text/plain": [
       "0    0.076992\n",
       "1    0.129627\n",
       "2    0.173485\n",
       "3    0.212726\n",
       "4    0.246958\n",
       "5    0.279457\n",
       "6    0.293620\n",
       "Name: Cumulative Var, dtype: float64"
      ]
     },
     "execution_count": 103,
     "metadata": {},
     "output_type": "execute_result"
    }
   ],
   "source": [
    "x.iloc[2]"
   ]
  },
  {
   "cell_type": "markdown",
   "id": "1b32495f",
   "metadata": {},
   "source": [
    "In our case, the 7 factors together are able to explain 29.36% of the total variance."
   ]
  },
  {
   "cell_type": "code",
   "execution_count": 107,
   "id": "7dca8524",
   "metadata": {},
   "outputs": [],
   "source": [
    "var_exp = x.iloc[1].tolist()"
   ]
  },
  {
   "cell_type": "code",
   "execution_count": 108,
   "id": "6e547bd5",
   "metadata": {},
   "outputs": [],
   "source": [
    "cum_sum_exp = x.iloc[2].tolist()"
   ]
  },
  {
   "cell_type": "code",
   "execution_count": 111,
   "id": "cb8d00f1",
   "metadata": {},
   "outputs": [
    {
     "data": {
      "image/png": "[encoded data removed]",
      "text/plain": [
       "<Figure size 640x480 with 1 Axes>"
      ]
     },
     "metadata": {},
     "output_type": "display_data"
    }
   ],
   "source": [
    "import matplotlib.pyplot as plt\n",
    "plt.bar(range(0,len(var_exp)), var_exp, alpha=0.5, align='center', label='Individual Proportional Variance')\n",
    "plt.step(range(0,len(cum_sum_exp)), cum_sum_exp, where='mid',label='Cumulative Variance')\n",
    "plt.ylabel('Explained Variance')\n",
    "plt.xlabel('Factor Index')\n",
    "plt.title('Factor Analysis: Explained Variance for Each Factor')\n",
    "plt.legend(loc='best')\n",
    "plt.tight_layout()\n",
    "plt.show()"
   ]
  },
  {
   "cell_type": "markdown",
   "id": "6a3c8d1e",
   "metadata": {},
   "source": [
    "#### COMMUNALITIES\n",
    "\n",
    "Communality is the proportion of each variable’s variance that can be explained by the factors. Rotations don’t have any influence over the communality of the variables."
   ]
  },
  {
   "cell_type": "code",
   "execution_count": 90,
   "id": "21205354",
   "metadata": {},
   "outputs": [
    {
     "name": "stdout",
     "output_type": "stream",
     "text": [
      "                      Communalities\n",
      "Diabetes_binary            0.235657\n",
      "HighBP                     0.399349\n",
      "HighChol                   0.215208\n",
      "CholCheck                  0.051100\n",
      "BMI                        0.305869\n",
      "Smoker                     0.169989\n",
      "Stroke                     0.117628\n",
      "HeartDiseaseorAttack       0.292699\n",
      "PhysActivity               0.179057\n",
      "Fruits                     0.272225\n",
      "Veggies                    0.223803\n",
      "HvyAlcoholConsump          0.090636\n",
      "AnyHealthcare              0.220138\n",
      "NoDocbcCost                0.220290\n",
      "GenHlth                    0.561193\n",
      "MentHlth                   0.268545\n",
      "PhysHlth                   0.582066\n",
      "DiffWalk                   0.430106\n",
      "Sex                        0.165284\n",
      "Age                        0.516730\n",
      "Education                  0.343065\n",
      "Income                     0.599014\n"
     ]
    }
   ],
   "source": [
    "print(pd.DataFrame(fa.get_communalities(),index=df.columns,columns=['Communalities']))"
   ]
  },
  {
   "cell_type": "markdown",
   "id": "b01975b3",
   "metadata": {},
   "source": [
    "The proportion of each variable’s variance that is explained by the factors can be inferred from the above. For example, we could consider the variable ‘PhysHlth’ about 58.2% of its variance is explained by all the factors together."
   ]
  }
 ],
 "metadata": {
  "kernelspec": {
   "display_name": "Python 3 (ipykernel)",
   "language": "python",
   "name": "python3"
  },
  "language_info": {
   "codemirror_mode": {
    "name": "ipython",
    "version": 3
   },
   "file_extension": ".py",
   "mimetype": "text/x-python",
   "name": "python",
   "nbconvert_exporter": "python",
   "pygments_lexer": "ipython3",
   "version": "3.9.13"
  }
 },
 "nbformat": 4,
 "nbformat_minor": 5
}
