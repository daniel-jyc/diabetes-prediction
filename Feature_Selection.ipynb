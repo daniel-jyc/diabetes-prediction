{
 "cells": [
  {
   "cell_type": "code",
   "execution_count": 156,
   "id": "aaac2349-2010-401d-9743-e10ff69709ce",
   "metadata": {},
   "outputs": [],
   "source": [
    "import numpy as np\n",
    "import pandas as pd\n",
    "from scipy import stats\n",
    "import matplotlib.pyplot as plt\n",
    "import seaborn as sns\n",
    "import sys\n",
    "import pickle\n",
    "from helpers.methods import *"
   ]
  },
  {
   "cell_type": "code",
   "execution_count": 111,
   "id": "c22f8634-9b3d-4a20-9f4a-6656337f0271",
   "metadata": {},
   "outputs": [],
   "source": [
    "import warnings\n",
    "warnings.filterwarnings('ignore')\n",
    "pd.set_option('display.max_columns', None)\n",
    "pd.set_option('display.max_rows', 100)"
   ]
  },
  {
   "cell_type": "code",
   "execution_count": 112,
   "id": "22bb0c9e-c39d-4fc7-a570-a2e24285792d",
   "metadata": {},
   "outputs": [
    {
     "data": {
      "text/html": [
       "<div>\n",
       "<style scoped>\n",
       "    .dataframe tbody tr th:only-of-type {\n",
       "        vertical-align: middle;\n",
       "    }\n",
       "\n",
       "    .dataframe tbody tr th {\n",
       "        vertical-align: top;\n",
       "    }\n",
       "\n",
       "    .dataframe thead th {\n",
       "        text-align: right;\n",
       "    }\n",
       "</style>\n",
       "<table border=\"1\" class=\"dataframe\">\n",
       "  <thead>\n",
       "    <tr style=\"text-align: right;\">\n",
       "      <th></th>\n",
       "      <th>Diabetes_binary</th>\n",
       "      <th>HighBP</th>\n",
       "      <th>HighChol</th>\n",
       "      <th>CholCheck</th>\n",
       "      <th>BMI</th>\n",
       "      <th>Smoker</th>\n",
       "      <th>Stroke</th>\n",
       "      <th>HeartDiseaseorAttack</th>\n",
       "      <th>PhysActivity</th>\n",
       "      <th>Fruits</th>\n",
       "      <th>Veggies</th>\n",
       "      <th>HvyAlcoholConsump</th>\n",
       "      <th>AnyHealthcare</th>\n",
       "      <th>NoDocbcCost</th>\n",
       "      <th>GenHlth</th>\n",
       "      <th>MentHlth</th>\n",
       "      <th>PhysHlth</th>\n",
       "      <th>DiffWalk</th>\n",
       "      <th>Sex</th>\n",
       "      <th>Age</th>\n",
       "      <th>Education</th>\n",
       "      <th>Income</th>\n",
       "    </tr>\n",
       "  </thead>\n",
       "  <tbody>\n",
       "    <tr>\n",
       "      <th>0</th>\n",
       "      <td>0.0</td>\n",
       "      <td>1.0</td>\n",
       "      <td>1.0</td>\n",
       "      <td>1.0</td>\n",
       "      <td>40.0</td>\n",
       "      <td>1.0</td>\n",
       "      <td>0.0</td>\n",
       "      <td>0.0</td>\n",
       "      <td>0.0</td>\n",
       "      <td>0.0</td>\n",
       "      <td>1.0</td>\n",
       "      <td>0.0</td>\n",
       "      <td>1.0</td>\n",
       "      <td>0.0</td>\n",
       "      <td>5.0</td>\n",
       "      <td>18.0</td>\n",
       "      <td>15.0</td>\n",
       "      <td>1.0</td>\n",
       "      <td>0.0</td>\n",
       "      <td>9.0</td>\n",
       "      <td>4.0</td>\n",
       "      <td>3.0</td>\n",
       "    </tr>\n",
       "    <tr>\n",
       "      <th>1</th>\n",
       "      <td>0.0</td>\n",
       "      <td>0.0</td>\n",
       "      <td>0.0</td>\n",
       "      <td>0.0</td>\n",
       "      <td>25.0</td>\n",
       "      <td>1.0</td>\n",
       "      <td>0.0</td>\n",
       "      <td>0.0</td>\n",
       "      <td>1.0</td>\n",
       "      <td>0.0</td>\n",
       "      <td>0.0</td>\n",
       "      <td>0.0</td>\n",
       "      <td>0.0</td>\n",
       "      <td>1.0</td>\n",
       "      <td>3.0</td>\n",
       "      <td>0.0</td>\n",
       "      <td>0.0</td>\n",
       "      <td>0.0</td>\n",
       "      <td>0.0</td>\n",
       "      <td>7.0</td>\n",
       "      <td>6.0</td>\n",
       "      <td>1.0</td>\n",
       "    </tr>\n",
       "    <tr>\n",
       "      <th>2</th>\n",
       "      <td>0.0</td>\n",
       "      <td>1.0</td>\n",
       "      <td>1.0</td>\n",
       "      <td>1.0</td>\n",
       "      <td>28.0</td>\n",
       "      <td>0.0</td>\n",
       "      <td>0.0</td>\n",
       "      <td>0.0</td>\n",
       "      <td>0.0</td>\n",
       "      <td>1.0</td>\n",
       "      <td>0.0</td>\n",
       "      <td>0.0</td>\n",
       "      <td>1.0</td>\n",
       "      <td>1.0</td>\n",
       "      <td>5.0</td>\n",
       "      <td>30.0</td>\n",
       "      <td>30.0</td>\n",
       "      <td>1.0</td>\n",
       "      <td>0.0</td>\n",
       "      <td>9.0</td>\n",
       "      <td>4.0</td>\n",
       "      <td>8.0</td>\n",
       "    </tr>\n",
       "    <tr>\n",
       "      <th>3</th>\n",
       "      <td>0.0</td>\n",
       "      <td>1.0</td>\n",
       "      <td>0.0</td>\n",
       "      <td>1.0</td>\n",
       "      <td>27.0</td>\n",
       "      <td>0.0</td>\n",
       "      <td>0.0</td>\n",
       "      <td>0.0</td>\n",
       "      <td>1.0</td>\n",
       "      <td>1.0</td>\n",
       "      <td>1.0</td>\n",
       "      <td>0.0</td>\n",
       "      <td>1.0</td>\n",
       "      <td>0.0</td>\n",
       "      <td>2.0</td>\n",
       "      <td>0.0</td>\n",
       "      <td>0.0</td>\n",
       "      <td>0.0</td>\n",
       "      <td>0.0</td>\n",
       "      <td>11.0</td>\n",
       "      <td>3.0</td>\n",
       "      <td>6.0</td>\n",
       "    </tr>\n",
       "    <tr>\n",
       "      <th>4</th>\n",
       "      <td>0.0</td>\n",
       "      <td>1.0</td>\n",
       "      <td>1.0</td>\n",
       "      <td>1.0</td>\n",
       "      <td>24.0</td>\n",
       "      <td>0.0</td>\n",
       "      <td>0.0</td>\n",
       "      <td>0.0</td>\n",
       "      <td>1.0</td>\n",
       "      <td>1.0</td>\n",
       "      <td>1.0</td>\n",
       "      <td>0.0</td>\n",
       "      <td>1.0</td>\n",
       "      <td>0.0</td>\n",
       "      <td>2.0</td>\n",
       "      <td>3.0</td>\n",
       "      <td>0.0</td>\n",
       "      <td>0.0</td>\n",
       "      <td>0.0</td>\n",
       "      <td>11.0</td>\n",
       "      <td>5.0</td>\n",
       "      <td>4.0</td>\n",
       "    </tr>\n",
       "    <tr>\n",
       "      <th>...</th>\n",
       "      <td>...</td>\n",
       "      <td>...</td>\n",
       "      <td>...</td>\n",
       "      <td>...</td>\n",
       "      <td>...</td>\n",
       "      <td>...</td>\n",
       "      <td>...</td>\n",
       "      <td>...</td>\n",
       "      <td>...</td>\n",
       "      <td>...</td>\n",
       "      <td>...</td>\n",
       "      <td>...</td>\n",
       "      <td>...</td>\n",
       "      <td>...</td>\n",
       "      <td>...</td>\n",
       "      <td>...</td>\n",
       "      <td>...</td>\n",
       "      <td>...</td>\n",
       "      <td>...</td>\n",
       "      <td>...</td>\n",
       "      <td>...</td>\n",
       "      <td>...</td>\n",
       "    </tr>\n",
       "    <tr>\n",
       "      <th>14263</th>\n",
       "      <td>0.0</td>\n",
       "      <td>1.0</td>\n",
       "      <td>0.0</td>\n",
       "      <td>1.0</td>\n",
       "      <td>36.0</td>\n",
       "      <td>1.0</td>\n",
       "      <td>0.0</td>\n",
       "      <td>0.0</td>\n",
       "      <td>0.0</td>\n",
       "      <td>0.0</td>\n",
       "      <td>0.0</td>\n",
       "      <td>0.0</td>\n",
       "      <td>1.0</td>\n",
       "      <td>0.0</td>\n",
       "      <td>3.0</td>\n",
       "      <td>2.0</td>\n",
       "      <td>1.0</td>\n",
       "      <td>0.0</td>\n",
       "      <td>0.0</td>\n",
       "      <td>8.0</td>\n",
       "      <td>5.0</td>\n",
       "      <td>7.0</td>\n",
       "    </tr>\n",
       "    <tr>\n",
       "      <th>14264</th>\n",
       "      <td>0.0</td>\n",
       "      <td>1.0</td>\n",
       "      <td>0.0</td>\n",
       "      <td>1.0</td>\n",
       "      <td>30.0</td>\n",
       "      <td>0.0</td>\n",
       "      <td>0.0</td>\n",
       "      <td>0.0</td>\n",
       "      <td>1.0</td>\n",
       "      <td>1.0</td>\n",
       "      <td>1.0</td>\n",
       "      <td>0.0</td>\n",
       "      <td>1.0</td>\n",
       "      <td>0.0</td>\n",
       "      <td>2.0</td>\n",
       "      <td>3.0</td>\n",
       "      <td>30.0</td>\n",
       "      <td>0.0</td>\n",
       "      <td>1.0</td>\n",
       "      <td>2.0</td>\n",
       "      <td>6.0</td>\n",
       "      <td>2.0</td>\n",
       "    </tr>\n",
       "    <tr>\n",
       "      <th>14265</th>\n",
       "      <td>1.0</td>\n",
       "      <td>1.0</td>\n",
       "      <td>1.0</td>\n",
       "      <td>1.0</td>\n",
       "      <td>31.0</td>\n",
       "      <td>0.0</td>\n",
       "      <td>0.0</td>\n",
       "      <td>0.0</td>\n",
       "      <td>1.0</td>\n",
       "      <td>1.0</td>\n",
       "      <td>1.0</td>\n",
       "      <td>0.0</td>\n",
       "      <td>1.0</td>\n",
       "      <td>0.0</td>\n",
       "      <td>2.0</td>\n",
       "      <td>1.0</td>\n",
       "      <td>0.0</td>\n",
       "      <td>0.0</td>\n",
       "      <td>0.0</td>\n",
       "      <td>9.0</td>\n",
       "      <td>6.0</td>\n",
       "      <td>8.0</td>\n",
       "    </tr>\n",
       "    <tr>\n",
       "      <th>14266</th>\n",
       "      <td>1.0</td>\n",
       "      <td>1.0</td>\n",
       "      <td>0.0</td>\n",
       "      <td>1.0</td>\n",
       "      <td>28.0</td>\n",
       "      <td>0.0</td>\n",
       "      <td>0.0</td>\n",
       "      <td>0.0</td>\n",
       "      <td>1.0</td>\n",
       "      <td>1.0</td>\n",
       "      <td>1.0</td>\n",
       "      <td>0.0</td>\n",
       "      <td>1.0</td>\n",
       "      <td>0.0</td>\n",
       "      <td>4.0</td>\n",
       "      <td>0.0</td>\n",
       "      <td>5.0</td>\n",
       "      <td>0.0</td>\n",
       "      <td>1.0</td>\n",
       "      <td>10.0</td>\n",
       "      <td>2.0</td>\n",
       "      <td>3.0</td>\n",
       "    </tr>\n",
       "    <tr>\n",
       "      <th>14267</th>\n",
       "      <td>1.0</td>\n",
       "      <td>0.0</td>\n",
       "      <td>0.0</td>\n",
       "      <td>1.0</td>\n",
       "      <td>32.0</td>\n",
       "      <td>0.0</td>\n",
       "      <td>1.0</td>\n",
       "      <td>0.0</td>\n",
       "      <td>1.0</td>\n",
       "      <td>NaN</td>\n",
       "      <td>NaN</td>\n",
       "      <td>NaN</td>\n",
       "      <td>NaN</td>\n",
       "      <td>NaN</td>\n",
       "      <td>NaN</td>\n",
       "      <td>NaN</td>\n",
       "      <td>NaN</td>\n",
       "      <td>NaN</td>\n",
       "      <td>NaN</td>\n",
       "      <td>NaN</td>\n",
       "      <td>NaN</td>\n",
       "      <td>NaN</td>\n",
       "    </tr>\n",
       "  </tbody>\n",
       "</table>\n",
       "<p>14268 rows × 22 columns</p>\n",
       "</div>"
      ],
      "text/plain": [
       "       Diabetes_binary  HighBP  HighChol  CholCheck   BMI  Smoker  Stroke  \\\n",
       "0                  0.0     1.0       1.0        1.0  40.0     1.0     0.0   \n",
       "1                  0.0     0.0       0.0        0.0  25.0     1.0     0.0   \n",
       "2                  0.0     1.0       1.0        1.0  28.0     0.0     0.0   \n",
       "3                  0.0     1.0       0.0        1.0  27.0     0.0     0.0   \n",
       "4                  0.0     1.0       1.0        1.0  24.0     0.0     0.0   \n",
       "...                ...     ...       ...        ...   ...     ...     ...   \n",
       "14263              0.0     1.0       0.0        1.0  36.0     1.0     0.0   \n",
       "14264              0.0     1.0       0.0        1.0  30.0     0.0     0.0   \n",
       "14265              1.0     1.0       1.0        1.0  31.0     0.0     0.0   \n",
       "14266              1.0     1.0       0.0        1.0  28.0     0.0     0.0   \n",
       "14267              1.0     0.0       0.0        1.0  32.0     0.0     1.0   \n",
       "\n",
       "       HeartDiseaseorAttack  PhysActivity  Fruits  Veggies  HvyAlcoholConsump  \\\n",
       "0                       0.0           0.0     0.0      1.0                0.0   \n",
       "1                       0.0           1.0     0.0      0.0                0.0   \n",
       "2                       0.0           0.0     1.0      0.0                0.0   \n",
       "3                       0.0           1.0     1.0      1.0                0.0   \n",
       "4                       0.0           1.0     1.0      1.0                0.0   \n",
       "...                     ...           ...     ...      ...                ...   \n",
       "14263                   0.0           0.0     0.0      0.0                0.0   \n",
       "14264                   0.0           1.0     1.0      1.0                0.0   \n",
       "14265                   0.0           1.0     1.0      1.0                0.0   \n",
       "14266                   0.0           1.0     1.0      1.0                0.0   \n",
       "14267                   0.0           1.0     NaN      NaN                NaN   \n",
       "\n",
       "       AnyHealthcare  NoDocbcCost  GenHlth  MentHlth  PhysHlth  DiffWalk  Sex  \\\n",
       "0                1.0          0.0      5.0      18.0      15.0       1.0  0.0   \n",
       "1                0.0          1.0      3.0       0.0       0.0       0.0  0.0   \n",
       "2                1.0          1.0      5.0      30.0      30.0       1.0  0.0   \n",
       "3                1.0          0.0      2.0       0.0       0.0       0.0  0.0   \n",
       "4                1.0          0.0      2.0       3.0       0.0       0.0  0.0   \n",
       "...              ...          ...      ...       ...       ...       ...  ...   \n",
       "14263            1.0          0.0      3.0       2.0       1.0       0.0  0.0   \n",
       "14264            1.0          0.0      2.0       3.0      30.0       0.0  1.0   \n",
       "14265            1.0          0.0      2.0       1.0       0.0       0.0  0.0   \n",
       "14266            1.0          0.0      4.0       0.0       5.0       0.0  1.0   \n",
       "14267            NaN          NaN      NaN       NaN       NaN       NaN  NaN   \n",
       "\n",
       "        Age  Education  Income  \n",
       "0       9.0        4.0     3.0  \n",
       "1       7.0        6.0     1.0  \n",
       "2       9.0        4.0     8.0  \n",
       "3      11.0        3.0     6.0  \n",
       "4      11.0        5.0     4.0  \n",
       "...     ...        ...     ...  \n",
       "14263   8.0        5.0     7.0  \n",
       "14264   2.0        6.0     2.0  \n",
       "14265   9.0        6.0     8.0  \n",
       "14266  10.0        2.0     3.0  \n",
       "14267   NaN        NaN     NaN  \n",
       "\n",
       "[14268 rows x 22 columns]"
      ]
     },
     "execution_count": 112,
     "metadata": {},
     "output_type": "execute_result"
    }
   ],
   "source": [
    "data = pd.read_csv('data/diabetes_binary_health_indicators_BRFSS2015.csv')\n",
    "data"
   ]
  },
  {
   "cell_type": "code",
   "execution_count": 113,
   "id": "978f8347-4fc1-4f2c-bf08-e5e2e1ef65fd",
   "metadata": {},
   "outputs": [],
   "source": [
    "data = data.dropna()"
   ]
  },
  {
   "cell_type": "code",
   "execution_count": 114,
   "id": "c24bef6b-71af-4846-8b9e-99ccf921257c",
   "metadata": {},
   "outputs": [
    {
     "data": {
      "text/plain": [
       "Diabetes_binary          2\n",
       "HighBP                   2\n",
       "HighChol                 2\n",
       "CholCheck                2\n",
       "BMI                     55\n",
       "Smoker                   2\n",
       "Stroke                   2\n",
       "HeartDiseaseorAttack     2\n",
       "PhysActivity             2\n",
       "Fruits                   2\n",
       "Veggies                  2\n",
       "HvyAlcoholConsump        2\n",
       "AnyHealthcare            2\n",
       "NoDocbcCost              2\n",
       "GenHlth                  5\n",
       "MentHlth                31\n",
       "PhysHlth                31\n",
       "DiffWalk                 2\n",
       "Sex                      2\n",
       "Age                     13\n",
       "Education                6\n",
       "Income                   8\n",
       "dtype: int64"
      ]
     },
     "execution_count": 114,
     "metadata": {},
     "output_type": "execute_result"
    }
   ],
   "source": [
    "data.nunique()"
   ]
  },
  {
   "cell_type": "code",
   "execution_count": 115,
   "id": "f41de279-2804-46a0-9b50-61229d36d6a7",
   "metadata": {},
   "outputs": [
    {
     "data": {
      "text/plain": [
       "14.0"
      ]
     },
     "execution_count": 115,
     "metadata": {},
     "output_type": "execute_result"
    }
   ],
   "source": [
    "data['BMI'].min()"
   ]
  },
  {
   "cell_type": "code",
   "execution_count": 116,
   "id": "146594a3-8ae3-46e9-9063-196705bfee41",
   "metadata": {},
   "outputs": [
    {
     "data": {
      "text/plain": [
       "85.0"
      ]
     },
     "execution_count": 116,
     "metadata": {},
     "output_type": "execute_result"
    }
   ],
   "source": [
    "data['BMI'].max()"
   ]
  },
  {
   "cell_type": "code",
   "execution_count": 117,
   "id": "e425f1e0-1819-4370-a059-212fa7246113",
   "metadata": {},
   "outputs": [
    {
     "data": {
      "text/plain": [
       "<AxesSubplot:xlabel='BMI', ylabel='Count'>"
      ]
     },
     "execution_count": 117,
     "metadata": {},
     "output_type": "execute_result"
    },
    {
     "data": {
      "image/png": "[encoded data removed]",
      "text/plain": [
       "<Figure size 640x480 with 1 Axes>"
      ]
     },
     "metadata": {},
     "output_type": "display_data"
    }
   ],
   "source": [
    "sns.histplot(data['BMI'])"
   ]
  },
  {
   "cell_type": "code",
   "execution_count": 118,
   "id": "bf35e3ea-e9a5-4517-9e3a-cbfc0ca5907b",
   "metadata": {},
   "outputs": [
    {
     "name": "stdout",
     "output_type": "stream",
     "text": [
      "14267\n",
      "14212\n"
     ]
    }
   ],
   "source": [
    "print(len(data))\n",
    "data = data[data.BMI<55].copy()\n",
    "print(len(data))\n"
   ]
  },
  {
   "cell_type": "code",
   "execution_count": 119,
   "id": "78aef3b1-6659-4889-b147-f3d056e760c4",
   "metadata": {},
   "outputs": [
    {
     "data": {
      "text/plain": [
       "Index(['Diabetes_binary', 'HighBP', 'HighChol', 'CholCheck', 'BMI', 'Smoker',\n",
       "       'Stroke', 'HeartDiseaseorAttack', 'PhysActivity', 'Fruits', 'Veggies',\n",
       "       'HvyAlcoholConsump', 'AnyHealthcare', 'NoDocbcCost', 'GenHlth',\n",
       "       'MentHlth', 'PhysHlth', 'DiffWalk', 'Sex', 'Age', 'Education',\n",
       "       'Income'],\n",
       "      dtype='object')"
      ]
     },
     "execution_count": 119,
     "metadata": {},
     "output_type": "execute_result"
    }
   ],
   "source": [
    "data.columns"
   ]
  },
  {
   "cell_type": "markdown",
   "id": "1334fb86-e7bb-41b5-846d-47e6e2808b82",
   "metadata": {},
   "source": [
    "## BMI"
   ]
  },
  {
   "cell_type": "code",
   "execution_count": 120,
   "id": "a6be91ba-7252-458a-9472-457c3bc6ff79",
   "metadata": {},
   "outputs": [],
   "source": [
    "def bin_BMI(BMI):\n",
    "    if BMI < 18.5:\n",
    "        # underweight\n",
    "        return 0.0\n",
    "    elif BMI <= 24.9:\n",
    "        # normal\n",
    "        return 1.0\n",
    "    elif BMI <= 29.9:\n",
    "        # overweight\n",
    "        return 2.0\n",
    "    elif BMI <= 39.9:\n",
    "        # obese\n",
    "        return 3.0\n",
    "    elif BMI >=39.9:\n",
    "        # severely obese\n",
    "        return 4.0\n",
    "    else:\n",
    "        return 5.0\n",
    "    \n",
    "data['bmi_bin'] = data['BMI'].apply(lambda t: bin_BMI(t))"
   ]
  },
  {
   "cell_type": "code",
   "execution_count": 121,
   "id": "43e7a890-e766-4470-b30a-6a887fb2a681",
   "metadata": {},
   "outputs": [
    {
     "data": {
      "text/plain": [
       "bmi_bin\n",
       "0.0     224\n",
       "1.0    3655\n",
       "2.0    5111\n",
       "3.0    4368\n",
       "4.0     854\n",
       "Name: BMI, dtype: int64"
      ]
     },
     "execution_count": 121,
     "metadata": {},
     "output_type": "execute_result"
    }
   ],
   "source": [
    "data.groupby('bmi_bin').count()['BMI']"
   ]
  },
  {
   "cell_type": "code",
   "execution_count": 122,
   "id": "de2f59dc-8443-4b3f-a699-9e12122c76e9",
   "metadata": {},
   "outputs": [],
   "source": [
    "data = data.drop('BMI', axis=1)"
   ]
  },
  {
   "cell_type": "code",
   "execution_count": 123,
   "id": "e38f363f-52a9-4c1a-92e2-8e6e38905c0e",
   "metadata": {},
   "outputs": [
    {
     "data": {
      "text/plain": [
       "Diabetes_binary          2\n",
       "HighBP                   2\n",
       "HighChol                 2\n",
       "CholCheck                2\n",
       "Smoker                   2\n",
       "Stroke                   2\n",
       "HeartDiseaseorAttack     2\n",
       "PhysActivity             2\n",
       "Fruits                   2\n",
       "Veggies                  2\n",
       "HvyAlcoholConsump        2\n",
       "AnyHealthcare            2\n",
       "NoDocbcCost              2\n",
       "GenHlth                  5\n",
       "MentHlth                31\n",
       "PhysHlth                31\n",
       "DiffWalk                 2\n",
       "Sex                      2\n",
       "Age                     13\n",
       "Education                6\n",
       "Income                   8\n",
       "bmi_bin                  5\n",
       "dtype: int64"
      ]
     },
     "execution_count": 123,
     "metadata": {},
     "output_type": "execute_result"
    }
   ],
   "source": [
    "data.nunique()"
   ]
  },
  {
   "cell_type": "markdown",
   "id": "a97b877f-cec7-4871-acd9-3e94abfd9364",
   "metadata": {},
   "source": [
    "## Age"
   ]
  },
  {
   "cell_type": "code",
   "execution_count": 124,
   "id": "df53093f-6f0b-4974-9633-7f585015922b",
   "metadata": {},
   "outputs": [
    {
     "data": {
      "text/plain": [
       "1.0"
      ]
     },
     "execution_count": 124,
     "metadata": {},
     "output_type": "execute_result"
    }
   ],
   "source": [
    "data['Age'].min()"
   ]
  },
  {
   "cell_type": "code",
   "execution_count": 125,
   "id": "a31b99bb-08d8-476c-b843-67767a54f54d",
   "metadata": {},
   "outputs": [
    {
     "data": {
      "text/plain": [
       "13.0"
      ]
     },
     "execution_count": 125,
     "metadata": {},
     "output_type": "execute_result"
    }
   ],
   "source": [
    "data['Age'].max()"
   ]
  },
  {
   "cell_type": "code",
   "execution_count": 126,
   "id": "885d4ffd-b1b7-4457-a910-12a397a31d02",
   "metadata": {},
   "outputs": [
    {
     "data": {
      "text/plain": [
       "<AxesSubplot:xlabel='Age', ylabel='Count'>"
      ]
     },
     "execution_count": 126,
     "metadata": {},
     "output_type": "execute_result"
    },
    {
     "data": {
      "image/png": "[encoded data removed]",
      "text/plain": [
       "<Figure size 640x480 with 1 Axes>"
      ]
     },
     "metadata": {},
     "output_type": "display_data"
    }
   ],
   "source": [
    "sns.histplot(data['Age'])"
   ]
  },
  {
   "cell_type": "markdown",
   "id": "93097682-e546-4d98-afae-f113452c912e",
   "metadata": {},
   "source": [
    "'Age 18 to 24' -> 1   young\n",
    "'Age 25 to 29' -> 2   young\n",
    "'Age 30 to 34' -> 3   adult\n",
    "'Age 35 to 39' -> 4   adult\n",
    "'Age 40 to 44' -> 5   adult\n",
    "'Age 45 to 49' -> 6   adult\n",
    "'Age 50 to 54' -> 7   early-seniors\n",
    "'Age 55 to 59' -> 8   early-seniors\n",
    "'Age 60 to 64' -> 9   early-seniors\n",
    "'Age 65 to 69' -> 10  senior\n",
    "'Age 70 to 74' -> 11  senior\n",
    "'Age 75 to 79' -> 12  senior\n",
    "'Age 80 & older'-> 13 senior"
   ]
  },
  {
   "cell_type": "code",
   "execution_count": 127,
   "id": "fce4dfa0-b5b2-4000-99d3-8d751e46e564",
   "metadata": {},
   "outputs": [],
   "source": [
    "def bin_Age(age_bin):\n",
    "    if age_bin <=2:\n",
    "        return 0.0\n",
    "    elif age_bin <=6:\n",
    "        return 1.0\n",
    "    elif age_bin <= 9:\n",
    "        return 2.0\n",
    "    else:\n",
    "        return 3.0\n",
    "    \n",
    "data['age_bin'] = data['Age'].apply(lambda t: bin_Age(t))"
   ]
  },
  {
   "cell_type": "code",
   "execution_count": 128,
   "id": "270d2faf-d166-4bf0-9542-fd8837bf6410",
   "metadata": {},
   "outputs": [
    {
     "data": {
      "text/plain": [
       "age_bin\n",
       "0.0     658\n",
       "1.0    3192\n",
       "2.0    4998\n",
       "3.0    5364\n",
       "Name: Age, dtype: int64"
      ]
     },
     "execution_count": 128,
     "metadata": {},
     "output_type": "execute_result"
    }
   ],
   "source": [
    "data.groupby('age_bin').count()['Age']"
   ]
  },
  {
   "cell_type": "code",
   "execution_count": 129,
   "id": "f1259f6f-6c16-4169-9f5b-0b67722c4cba",
   "metadata": {},
   "outputs": [],
   "source": [
    "data = data.drop('Age', axis=1)"
   ]
  },
  {
   "cell_type": "markdown",
   "id": "709fb1ec-7dd2-46d3-b704-315e4c385e8f",
   "metadata": {},
   "source": [
    "## Mental Health"
   ]
  },
  {
   "cell_type": "code",
   "execution_count": 130,
   "id": "2f8d6c57-ae91-4e38-b2de-e91aaf7c55ac",
   "metadata": {},
   "outputs": [
    {
     "data": {
      "text/plain": [
       "<AxesSubplot:xlabel='MentHlth', ylabel='Count'>"
      ]
     },
     "execution_count": 130,
     "metadata": {},
     "output_type": "execute_result"
    },
    {
     "data": {
      "image/png": "[encoded data removed]",
      "text/plain": [
       "<Figure size 640x480 with 1 Axes>"
      ]
     },
     "metadata": {},
     "output_type": "display_data"
    }
   ],
   "source": [
    "sns.histplot(data['MentHlth'])"
   ]
  },
  {
   "cell_type": "code",
   "execution_count": 131,
   "id": "830a2fc8-233e-46f2-a758-62a213a8a703",
   "metadata": {},
   "outputs": [
    {
     "data": {
      "text/plain": [
       "[0.0,\n",
       " 1.0,\n",
       " 2.0,\n",
       " 3.0,\n",
       " 4.0,\n",
       " 5.0,\n",
       " 6.0,\n",
       " 7.0,\n",
       " 8.0,\n",
       " 9.0,\n",
       " 10.0,\n",
       " 11.0,\n",
       " 12.0,\n",
       " 13.0,\n",
       " 14.0,\n",
       " 15.0,\n",
       " 16.0,\n",
       " 17.0,\n",
       " 18.0,\n",
       " 19.0,\n",
       " 20.0,\n",
       " 21.0,\n",
       " 22.0,\n",
       " 23.0,\n",
       " 24.0,\n",
       " 25.0,\n",
       " 26.0,\n",
       " 27.0,\n",
       " 28.0,\n",
       " 29.0,\n",
       " 30.0]"
      ]
     },
     "execution_count": 131,
     "metadata": {},
     "output_type": "execute_result"
    }
   ],
   "source": [
    "sorted(data['MentHlth'].unique().tolist())"
   ]
  },
  {
   "cell_type": "code",
   "execution_count": 132,
   "id": "7e8d6a01-f102-41e9-ae70-b09a6745a9e0",
   "metadata": {},
   "outputs": [],
   "source": [
    "def bin_MentHlth(health):\n",
    "    if health <=0.0:\n",
    "        return 0.0\n",
    "    else:\n",
    "        return 1.0\n",
    "\n",
    "data['mental_health_bin'] = data['MentHlth'].apply(lambda t: bin_MentHlth(t))"
   ]
  },
  {
   "cell_type": "markdown",
   "id": "52d0856c-7b65-4a66-9057-54243b87d497",
   "metadata": {
    "tags": []
   },
   "source": [
    "## Physical Health"
   ]
  },
  {
   "cell_type": "code",
   "execution_count": 133,
   "id": "9e22f442-7c32-481c-ac92-467cca27ac5c",
   "metadata": {},
   "outputs": [
    {
     "data": {
      "text/plain": [
       "<AxesSubplot:xlabel='PhysHlth', ylabel='Count'>"
      ]
     },
     "execution_count": 133,
     "metadata": {},
     "output_type": "execute_result"
    },
    {
     "data": {
      "image/png": "[encoded data removed]",
      "text/plain": [
       "<Figure size 640x480 with 1 Axes>"
      ]
     },
     "metadata": {},
     "output_type": "display_data"
    }
   ],
   "source": [
    "sns.histplot(data['PhysHlth'])"
   ]
  },
  {
   "cell_type": "code",
   "execution_count": 134,
   "id": "acd15833-c1dc-4548-8b17-fb756b7af32c",
   "metadata": {},
   "outputs": [
    {
     "data": {
      "text/plain": [
       "[0.0,\n",
       " 1.0,\n",
       " 2.0,\n",
       " 3.0,\n",
       " 4.0,\n",
       " 5.0,\n",
       " 6.0,\n",
       " 7.0,\n",
       " 8.0,\n",
       " 9.0,\n",
       " 10.0,\n",
       " 11.0,\n",
       " 12.0,\n",
       " 13.0,\n",
       " 14.0,\n",
       " 15.0,\n",
       " 16.0,\n",
       " 17.0,\n",
       " 18.0,\n",
       " 19.0,\n",
       " 20.0,\n",
       " 21.0,\n",
       " 22.0,\n",
       " 23.0,\n",
       " 24.0,\n",
       " 25.0,\n",
       " 26.0,\n",
       " 27.0,\n",
       " 28.0,\n",
       " 29.0,\n",
       " 30.0]"
      ]
     },
     "execution_count": 134,
     "metadata": {},
     "output_type": "execute_result"
    }
   ],
   "source": [
    "sorted(data['PhysHlth'].unique().tolist())"
   ]
  },
  {
   "cell_type": "code",
   "execution_count": 135,
   "id": "311fdcbb-e321-4aad-aa81-23fab0beb2f1",
   "metadata": {},
   "outputs": [],
   "source": [
    "def bin_PhysHlth(health):\n",
    "    if health <=0.0:\n",
    "        return 0.0\n",
    "    else:\n",
    "        return 1.0\n",
    "\n",
    "data['physical_health_bin'] = data['PhysHlth'].apply(lambda t: bin_PhysHlth(t))"
   ]
  },
  {
   "cell_type": "markdown",
   "id": "101209f1-9b5a-4450-acc4-fe92601f68d8",
   "metadata": {
    "tags": []
   },
   "source": [
    "## Genetic Health"
   ]
  },
  {
   "cell_type": "code",
   "execution_count": 136,
   "id": "8579af39-d118-4b0f-bb9f-bd160bfdc41d",
   "metadata": {},
   "outputs": [
    {
     "data": {
      "text/plain": [
       "<AxesSubplot:xlabel='GenHlth', ylabel='Count'>"
      ]
     },
     "execution_count": 136,
     "metadata": {},
     "output_type": "execute_result"
    },
    {
     "data": {
      "image/png": "[encoded data removed]",
      "text/plain": [
       "<Figure size 640x480 with 1 Axes>"
      ]
     },
     "metadata": {},
     "output_type": "display_data"
    }
   ],
   "source": [
    "sns.histplot(data['GenHlth'])"
   ]
  },
  {
   "cell_type": "markdown",
   "id": "f3019956-c8c6-4e91-a7e9-a1ce83321715",
   "metadata": {},
   "source": [
    "## Income"
   ]
  },
  {
   "cell_type": "code",
   "execution_count": 137,
   "id": "decf8449-3665-42ac-80cf-dd8307c66865",
   "metadata": {},
   "outputs": [
    {
     "data": {
      "text/plain": [
       "<AxesSubplot:xlabel='Income', ylabel='Count'>"
      ]
     },
     "execution_count": 137,
     "metadata": {},
     "output_type": "execute_result"
    },
    {
     "data": {
      "image/png": "[encoded data removed]",
      "text/plain": [
       "<Figure size 640x480 with 1 Axes>"
      ]
     },
     "metadata": {},
     "output_type": "display_data"
    }
   ],
   "source": [
    "sns.histplot(data[\"Income\"])"
   ]
  },
  {
   "cell_type": "code",
   "execution_count": 138,
   "id": "ce362edb-ce94-4b66-87cb-67df2e4c754a",
   "metadata": {},
   "outputs": [
    {
     "data": {
      "text/plain": [
       "[3.0, 1.0, 8.0, 6.0, 4.0, 7.0, 2.0, 5.0]"
      ]
     },
     "execution_count": 138,
     "metadata": {},
     "output_type": "execute_result"
    }
   ],
   "source": [
    "data[\"Income\"].unique().tolist()"
   ]
  },
  {
   "cell_type": "markdown",
   "id": "f9c503f8-dc66-43de-8a5c-0e26072e0d7a",
   "metadata": {},
   "source": [
    "'Less than $10,000'            -> 0\n",
    "'$10,000 to less than $15,000' -> 0\n",
    "'$15,000 to less than $20,000' -> 0\n",
    "'$20,000 to less than $25,000' -> 0\n",
    "'$25,000 to less than $35,000' -> 1  \n",
    "'$35,000 to less than $50,000' -> 1\n",
    "'$50,000 to less than $75,000' -> 2\n",
    "'$75,000 or more'              -> 3"
   ]
  },
  {
   "cell_type": "code",
   "execution_count": 139,
   "id": "4a378541-4ca9-4e3e-b0a1-cf5ee159e346",
   "metadata": {},
   "outputs": [],
   "source": [
    "def bin_Income(income):\n",
    "    if income <=4:\n",
    "        return 0.0\n",
    "    elif income <=6:\n",
    "        return 1.0\n",
    "    elif income == 7:\n",
    "        return 2.0\n",
    "    else:\n",
    "        return 3.0\n",
    "\n",
    "data['income_bin'] = data['Income'].apply(lambda t: bin_Income(t))"
   ]
  },
  {
   "cell_type": "code",
   "execution_count": 140,
   "id": "b95538ea-3a12-4892-b2ad-a78cde2742d8",
   "metadata": {},
   "outputs": [],
   "source": [
    "data = data.drop('Income', axis=1)"
   ]
  },
  {
   "cell_type": "markdown",
   "id": "940b668b-b531-4b05-951e-eb6014587b75",
   "metadata": {},
   "source": [
    "## Education"
   ]
  },
  {
   "cell_type": "code",
   "execution_count": 141,
   "id": "7971a52b-207c-487a-90b8-dd66ab4aa444",
   "metadata": {},
   "outputs": [
    {
     "data": {
      "text/plain": [
       "[4.0, 6.0, 3.0, 5.0, 2.0, 1.0]"
      ]
     },
     "execution_count": 141,
     "metadata": {},
     "output_type": "execute_result"
    }
   ],
   "source": [
    "data[\"Education\"].unique().tolist()"
   ]
  },
  {
   "cell_type": "markdown",
   "id": "a49d4799-9b11-4e81-be41-5bc8277cc0b3",
   "metadata": {},
   "source": [
    "'Never attended school or only kingdergarten',\n",
    "'Elementary school',\n",
    "'Some high school',\n",
    "'High school graduate',\n",
    "'Some college or technical school',\n",
    "'4 years college or higher']"
   ]
  },
  {
   "cell_type": "code",
   "execution_count": 142,
   "id": "2e7743e3-3e9f-4eb6-967a-4edcf953f5ad",
   "metadata": {},
   "outputs": [],
   "source": [
    "def bin_Education(education):\n",
    "    if education <=2.0:\n",
    "        return 0.0\n",
    "    elif education <=4.0:\n",
    "        return 1.0\n",
    "    elif education <= 5.0:\n",
    "        return 2.0\n",
    "    else:\n",
    "        return 3.0\n",
    "data['education_bin'] = data['Education'].apply(lambda t: bin_Education(t))"
   ]
  },
  {
   "cell_type": "code",
   "execution_count": 143,
   "id": "e4373da7-b228-4514-8c4a-1431e7672674",
   "metadata": {},
   "outputs": [
    {
     "data": {
      "text/plain": [
       "<AxesSubplot:xlabel='Education', ylabel='Count'>"
      ]
     },
     "execution_count": 143,
     "metadata": {},
     "output_type": "execute_result"
    },
    {
     "data": {
      "image/png": "[encoded data removed]",
      "text/plain": [
       "<Figure size 640x480 with 1 Axes>"
      ]
     },
     "metadata": {},
     "output_type": "display_data"
    }
   ],
   "source": [
    "sns.histplot(data[\"Education\"])"
   ]
  },
  {
   "cell_type": "code",
   "execution_count": 144,
   "id": "b70f4ee5-e33b-48dd-9f99-d61f85d5fb53",
   "metadata": {},
   "outputs": [
    {
     "data": {
      "text/plain": [
       "<AxesSubplot:xlabel='education_bin', ylabel='Count'>"
      ]
     },
     "execution_count": 144,
     "metadata": {},
     "output_type": "execute_result"
    },
    {
     "data": {
      "image/png": "[encoded data removed]",
      "text/plain": [
       "<Figure size 640x480 with 1 Axes>"
      ]
     },
     "metadata": {},
     "output_type": "display_data"
    }
   ],
   "source": [
    "sns.histplot(data[\"education_bin\"])"
   ]
  },
  {
   "cell_type": "code",
   "execution_count": 145,
   "id": "35deb221-8762-4477-89d6-435036d9f439",
   "metadata": {},
   "outputs": [],
   "source": [
    "data = data.drop('Education', axis=1)"
   ]
  },
  {
   "cell_type": "markdown",
   "id": "7bd5b686-632d-44bd-9bd6-124f7047d54e",
   "metadata": {
    "tags": []
   },
   "source": [
    "## Target"
   ]
  },
  {
   "cell_type": "code",
   "execution_count": 168,
   "id": "f5fa9719-77fe-4fdf-8489-2205b0fdf246",
   "metadata": {},
   "outputs": [
    {
     "data": {
      "text/html": [
       "<div>\n",
       "<style scoped>\n",
       "    .dataframe tbody tr th:only-of-type {\n",
       "        vertical-align: middle;\n",
       "    }\n",
       "\n",
       "    .dataframe tbody tr th {\n",
       "        vertical-align: top;\n",
       "    }\n",
       "\n",
       "    .dataframe thead th {\n",
       "        text-align: right;\n",
       "    }\n",
       "</style>\n",
       "<table border=\"1\" class=\"dataframe\">\n",
       "  <thead>\n",
       "    <tr style=\"text-align: right;\">\n",
       "      <th></th>\n",
       "      <th>HighBP</th>\n",
       "      <th>HighChol</th>\n",
       "      <th>CholCheck</th>\n",
       "      <th>Smoker</th>\n",
       "      <th>Stroke</th>\n",
       "      <th>HeartDiseaseorAttack</th>\n",
       "      <th>PhysActivity</th>\n",
       "      <th>Fruits</th>\n",
       "      <th>Veggies</th>\n",
       "      <th>HvyAlcoholConsump</th>\n",
       "      <th>AnyHealthcare</th>\n",
       "      <th>NoDocbcCost</th>\n",
       "      <th>GenHlth</th>\n",
       "      <th>MentHlth</th>\n",
       "      <th>PhysHlth</th>\n",
       "      <th>DiffWalk</th>\n",
       "      <th>Sex</th>\n",
       "      <th>bmi_bin</th>\n",
       "      <th>age_bin</th>\n",
       "      <th>mental_health_bin</th>\n",
       "      <th>physical_health_bin</th>\n",
       "      <th>income_bin</th>\n",
       "      <th>education_bin</th>\n",
       "    </tr>\n",
       "    <tr>\n",
       "      <th>Diabetes_binary</th>\n",
       "      <th></th>\n",
       "      <th></th>\n",
       "      <th></th>\n",
       "      <th></th>\n",
       "      <th></th>\n",
       "      <th></th>\n",
       "      <th></th>\n",
       "      <th></th>\n",
       "      <th></th>\n",
       "      <th></th>\n",
       "      <th></th>\n",
       "      <th></th>\n",
       "      <th></th>\n",
       "      <th></th>\n",
       "      <th></th>\n",
       "      <th></th>\n",
       "      <th></th>\n",
       "      <th></th>\n",
       "      <th></th>\n",
       "      <th></th>\n",
       "      <th></th>\n",
       "      <th></th>\n",
       "      <th></th>\n",
       "    </tr>\n",
       "  </thead>\n",
       "  <tbody>\n",
       "    <tr>\n",
       "      <th>0.0</th>\n",
       "      <td>11909</td>\n",
       "      <td>11909</td>\n",
       "      <td>11909</td>\n",
       "      <td>11909</td>\n",
       "      <td>11909</td>\n",
       "      <td>11909</td>\n",
       "      <td>11909</td>\n",
       "      <td>11909</td>\n",
       "      <td>11909</td>\n",
       "      <td>11909</td>\n",
       "      <td>11909</td>\n",
       "      <td>11909</td>\n",
       "      <td>11909</td>\n",
       "      <td>11909</td>\n",
       "      <td>11909</td>\n",
       "      <td>11909</td>\n",
       "      <td>11909</td>\n",
       "      <td>11909</td>\n",
       "      <td>11909</td>\n",
       "      <td>11909</td>\n",
       "      <td>11909</td>\n",
       "      <td>11909</td>\n",
       "      <td>11909</td>\n",
       "    </tr>\n",
       "    <tr>\n",
       "      <th>1.0</th>\n",
       "      <td>2303</td>\n",
       "      <td>2303</td>\n",
       "      <td>2303</td>\n",
       "      <td>2303</td>\n",
       "      <td>2303</td>\n",
       "      <td>2303</td>\n",
       "      <td>2303</td>\n",
       "      <td>2303</td>\n",
       "      <td>2303</td>\n",
       "      <td>2303</td>\n",
       "      <td>2303</td>\n",
       "      <td>2303</td>\n",
       "      <td>2303</td>\n",
       "      <td>2303</td>\n",
       "      <td>2303</td>\n",
       "      <td>2303</td>\n",
       "      <td>2303</td>\n",
       "      <td>2303</td>\n",
       "      <td>2303</td>\n",
       "      <td>2303</td>\n",
       "      <td>2303</td>\n",
       "      <td>2303</td>\n",
       "      <td>2303</td>\n",
       "    </tr>\n",
       "  </tbody>\n",
       "</table>\n",
       "</div>"
      ],
      "text/plain": [
       "                 HighBP  HighChol  CholCheck  Smoker  Stroke  \\\n",
       "Diabetes_binary                                                \n",
       "0.0               11909     11909      11909   11909   11909   \n",
       "1.0                2303      2303       2303    2303    2303   \n",
       "\n",
       "                 HeartDiseaseorAttack  PhysActivity  Fruits  Veggies  \\\n",
       "Diabetes_binary                                                        \n",
       "0.0                             11909         11909   11909    11909   \n",
       "1.0                              2303          2303    2303     2303   \n",
       "\n",
       "                 HvyAlcoholConsump  AnyHealthcare  NoDocbcCost  GenHlth  \\\n",
       "Diabetes_binary                                                           \n",
       "0.0                          11909          11909        11909    11909   \n",
       "1.0                           2303           2303         2303     2303   \n",
       "\n",
       "                 MentHlth  PhysHlth  DiffWalk    Sex  bmi_bin  age_bin  \\\n",
       "Diabetes_binary                                                          \n",
       "0.0                 11909     11909     11909  11909    11909    11909   \n",
       "1.0                  2303      2303      2303   2303     2303     2303   \n",
       "\n",
       "                 mental_health_bin  physical_health_bin  income_bin  \\\n",
       "Diabetes_binary                                                       \n",
       "0.0                          11909                11909       11909   \n",
       "1.0                           2303                 2303        2303   \n",
       "\n",
       "                 education_bin  \n",
       "Diabetes_binary                 \n",
       "0.0                      11909  \n",
       "1.0                       2303  "
      ]
     },
     "execution_count": 168,
     "metadata": {},
     "output_type": "execute_result"
    }
   ],
   "source": [
    "data.groupby('Diabetes_binary').count()"
   ]
  },
  {
   "cell_type": "code",
   "execution_count": 146,
   "id": "16711219-2f73-43e4-aefa-fa940bad0708",
   "metadata": {},
   "outputs": [
    {
     "data": {
      "text/plain": [
       "Diabetes_binary          2\n",
       "HighBP                   2\n",
       "HighChol                 2\n",
       "CholCheck                2\n",
       "Smoker                   2\n",
       "Stroke                   2\n",
       "HeartDiseaseorAttack     2\n",
       "PhysActivity             2\n",
       "Fruits                   2\n",
       "Veggies                  2\n",
       "HvyAlcoholConsump        2\n",
       "AnyHealthcare            2\n",
       "NoDocbcCost              2\n",
       "GenHlth                  5\n",
       "MentHlth                31\n",
       "PhysHlth                31\n",
       "DiffWalk                 2\n",
       "Sex                      2\n",
       "bmi_bin                  5\n",
       "age_bin                  4\n",
       "mental_health_bin        2\n",
       "physical_health_bin      2\n",
       "income_bin               4\n",
       "education_bin            4\n",
       "dtype: int64"
      ]
     },
     "execution_count": 146,
     "metadata": {},
     "output_type": "execute_result"
    }
   ],
   "source": [
    "data.nunique()"
   ]
  },
  {
   "cell_type": "code",
   "execution_count": 148,
   "id": "272e21f7-a5c9-4e59-b30e-e88f1beb3614",
   "metadata": {},
   "outputs": [
    {
     "data": {
      "text/plain": [
       "['Diabetes_binary',\n",
       " 'HighBP',\n",
       " 'HighChol',\n",
       " 'CholCheck',\n",
       " 'Smoker',\n",
       " 'Stroke',\n",
       " 'HeartDiseaseorAttack',\n",
       " 'PhysActivity',\n",
       " 'Fruits',\n",
       " 'Veggies',\n",
       " 'HvyAlcoholConsump',\n",
       " 'AnyHealthcare',\n",
       " 'NoDocbcCost',\n",
       " 'GenHlth',\n",
       " 'MentHlth',\n",
       " 'PhysHlth',\n",
       " 'DiffWalk',\n",
       " 'Sex',\n",
       " 'bmi_bin',\n",
       " 'age_bin',\n",
       " 'mental_health_bin',\n",
       " 'physical_health_bin',\n",
       " 'income_bin',\n",
       " 'education_bin']"
      ]
     },
     "execution_count": 148,
     "metadata": {},
     "output_type": "execute_result"
    }
   ],
   "source": [
    "data.columns.tolist()"
   ]
  },
  {
   "cell_type": "markdown",
   "id": "0b5fb1ea-dbf0-402f-9685-ccee87525f89",
   "metadata": {},
   "source": [
    "## Train-Test Split"
   ]
  },
  {
   "cell_type": "code",
   "execution_count": 169,
   "id": "6a0a1bab-8493-41bd-a0a5-8fe49f0fa22e",
   "metadata": {},
   "outputs": [],
   "source": [
    "features = ['HighBP',\n",
    " 'HighChol',\n",
    " 'CholCheck',\n",
    " 'Smoker',\n",
    " 'Stroke',\n",
    " 'HeartDiseaseorAttack',\n",
    " 'PhysActivity',\n",
    " 'Fruits',\n",
    " 'Veggies',\n",
    " 'HvyAlcoholConsump',\n",
    " 'AnyHealthcare',\n",
    " 'NoDocbcCost',\n",
    " 'GenHlth',\n",
    " 'MentHlth',\n",
    " 'PhysHlth',\n",
    " 'DiffWalk',\n",
    " 'Sex',\n",
    " 'bmi_bin',\n",
    " 'age_bin',\n",
    " 'mental_health_bin',\n",
    " 'physical_health_bin',\n",
    " 'income_bin',\n",
    " 'education_bin']\n",
    "\n",
    "target = \"Diabetes_binary\""
   ]
  },
  {
   "cell_type": "code",
   "execution_count": 203,
   "id": "80d0e324-b746-4634-b6eb-936e4de0f231",
   "metadata": {},
   "outputs": [],
   "source": [
    "X = data[features]\n",
    "y = data[target]"
   ]
  },
  {
   "cell_type": "code",
   "execution_count": 204,
   "id": "346e1dee-c206-4ce6-9bd7-1803a896547d",
   "metadata": {},
   "outputs": [
    {
     "name": "stdout",
     "output_type": "stream",
     "text": [
      "Training data shape: (11369, 23) (11369,)\n",
      "Testing data shape: (2843, 23) (2843,)\n"
     ]
    }
   ],
   "source": [
    "from sklearn.model_selection import train_test_split\n",
    "\n",
    "# Split the dataset into training and testing sets\n",
    "X_train, X_test, y_train, y_test = train_test_split(X, y, test_size=0.2, random_state=42)\n",
    "\n",
    "# Print the shapes of the resulting datasets\n",
    "print(\"Training data shape:\", X_train.shape, y_train.shape)\n",
    "print(\"Testing data shape:\", X_test.shape, y_test.shape)"
   ]
  },
  {
   "cell_type": "code",
   "execution_count": 205,
   "id": "8767b2c6-d846-48ac-89e6-500b15889825",
   "metadata": {},
   "outputs": [],
   "source": [
    "colNames = features"
   ]
  },
  {
   "cell_type": "code",
   "execution_count": 206,
   "id": "50a5d480-0556-4a49-b30f-46a422aae3b6",
   "metadata": {},
   "outputs": [],
   "source": [
    "X_train_bcc, X_test_bcc, new_cols = Binary_Cross_Combination(colNames, X_train, X_test, OneHot=True)"
   ]
  },
  {
   "cell_type": "code",
   "execution_count": 207,
   "id": "ef600b9e-0bdd-448a-a78e-f93b24812fa0",
   "metadata": {},
   "outputs": [
    {
     "data": {
      "text/plain": [
       "(11369, 4480)"
      ]
     },
     "execution_count": 207,
     "metadata": {},
     "output_type": "execute_result"
    }
   ],
   "source": [
    "X_train_bcc.shape"
   ]
  },
  {
   "cell_type": "markdown",
   "id": "93f18905-d757-4ac6-ad0f-5b524cc2738c",
   "metadata": {},
   "source": [
    "## Feature Elimination"
   ]
  },
  {
   "cell_type": "code",
   "execution_count": 208,
   "id": "f24f7176-95f5-4495-a4a2-d540911d5897",
   "metadata": {},
   "outputs": [
    {
     "name": "stdout",
     "output_type": "stream",
     "text": [
      "Number of Features: 4480\n"
     ]
    }
   ],
   "source": [
    "print(\"Number of Features:\", X_train_bcc.shape[1])"
   ]
  },
  {
   "cell_type": "markdown",
   "id": "6a48bfce-5520-4a53-8ac7-735b072f275f",
   "metadata": {
    "tags": []
   },
   "source": [
    "### Variance Threshold"
   ]
  },
  {
   "cell_type": "code",
   "execution_count": 209,
   "id": "c12efdd1-a96b-42a2-88c5-feb76c7ba179",
   "metadata": {},
   "outputs": [],
   "source": [
    "from sklearn.feature_selection import VarianceThreshold\n",
    "sel = VarianceThreshold()\n",
    "sel.fit(X_train_bcc)\n",
    "CrossComb_cols = X_train_bcc.columns[sel.variances_ > 0.0099]"
   ]
  },
  {
   "cell_type": "code",
   "execution_count": 210,
   "id": "aff527bc-3887-494d-822f-8e6b706ce81d",
   "metadata": {},
   "outputs": [
    {
     "data": {
      "text/plain": [
       "1842"
      ]
     },
     "execution_count": 210,
     "metadata": {},
     "output_type": "execute_result"
    }
   ],
   "source": [
    "len(CrossComb_cols)"
   ]
  },
  {
   "cell_type": "markdown",
   "id": "ee122817-6663-4e5b-99c2-c109f6dbef01",
   "metadata": {},
   "source": [
    "### ChiSquare"
   ]
  },
  {
   "cell_type": "code",
   "execution_count": 211,
   "id": "7645c005-0dca-49c3-a936-fea3b110cc1f",
   "metadata": {},
   "outputs": [
    {
     "name": "stdout",
     "output_type": "stream",
     "text": [
      "1300\n"
     ]
    }
   ],
   "source": [
    "from sklearn.feature_selection import chi2\n",
    "chi2(X_train_bcc[CrossComb_cols], y_train)\n",
    "chi2_p = chi2(X_train_bcc[CrossComb_cols], y_train)[1]\n",
    "\n",
    "chi2_CrossComb_cols = []\n",
    "\n",
    "for pValue, colname in zip(chi2_p, CrossComb_cols):\n",
    "    if pValue < 0.01:\n",
    "        chi2_CrossComb_cols.append(colname)\n",
    "\n",
    "print(len(chi2_CrossComb_cols))"
   ]
  },
  {
   "cell_type": "markdown",
   "id": "b30761dd-6879-45c4-b1fc-5378ae6c854b",
   "metadata": {},
   "source": [
    "## MODELING"
   ]
  },
  {
   "cell_type": "markdown",
   "id": "8d12fe30-c80f-49d4-8fcc-1a618e98d89c",
   "metadata": {
    "tags": []
   },
   "source": [
    "### Upsampling with SMOTE"
   ]
  },
  {
   "cell_type": "code",
   "execution_count": 212,
   "id": "31cd19c7-e7c4-45b2-ae63-13077c24120c",
   "metadata": {},
   "outputs": [
    {
     "data": {
      "text/plain": [
       "(11369, 1300)"
      ]
     },
     "execution_count": 212,
     "metadata": {},
     "output_type": "execute_result"
    }
   ],
   "source": [
    "X_train_bcc = X_train_bcc[chi2_CrossComb_cols]\n",
    "X_test_bcc = X_test_bcc[chi2_CrossComb_cols]\n",
    "X_train_bcc.shape"
   ]
  },
  {
   "cell_type": "code",
   "execution_count": 213,
   "id": "a2bd892e-d130-43b0-beb0-7049fdfe3c19",
   "metadata": {},
   "outputs": [],
   "source": [
    "from imblearn.over_sampling import SMOTE\n",
    "\n",
    "smote = SMOTE(random_state=42)\n",
    "X_train_bcc, y_train_bcc = smote.fit_resample(X_train_bcc, y_train)"
   ]
  },
  {
   "cell_type": "code",
   "execution_count": 214,
   "id": "0027d6ce-e6c1-4717-9514-f7e0127691ec",
   "metadata": {},
   "outputs": [
    {
     "data": {
      "text/plain": [
       "(19042, 1300)"
      ]
     },
     "execution_count": 214,
     "metadata": {},
     "output_type": "execute_result"
    }
   ],
   "source": [
    "X_train_bcc.shape"
   ]
  },
  {
   "cell_type": "code",
   "execution_count": 215,
   "id": "c456015c-48ab-4ac5-bc5c-93e335c476dd",
   "metadata": {},
   "outputs": [
    {
     "data": {
      "text/plain": [
       "(19042,)"
      ]
     },
     "execution_count": 215,
     "metadata": {},
     "output_type": "execute_result"
    }
   ],
   "source": [
    "y_train_bcc.shape"
   ]
  },
  {
   "cell_type": "markdown",
   "id": "20dcffe5-0627-4247-9596-7d8bfff4cc25",
   "metadata": {},
   "source": [
    "### Modeling with LR, XGB, LGBM"
   ]
  },
  {
   "cell_type": "code",
   "execution_count": 216,
   "id": "13a5da42-4e51-4d5a-aefc-15553b4d6d3b",
   "metadata": {},
   "outputs": [],
   "source": [
    "from lightgbm import LGBMClassifier\n",
    "from xgboost.sklearn import XGBClassifier\n",
    "from sklearn.linear_model import LogisticRegression\n",
    "\n",
    "#Metrics\n",
    "from sklearn.model_selection import KFold\n",
    "from sklearn.metrics import accuracy_score\n",
    "from sklearn.model_selection import cross_val_score\n",
    "from sklearn.model_selection import cross_validate"
   ]
  },
  {
   "cell_type": "code",
   "execution_count": 221,
   "id": "ca6be57d-fdac-44f8-bbd3-c335b65aca1e",
   "metadata": {},
   "outputs": [
    {
     "data": {
      "text/html": [
       "<div>\n",
       "<style scoped>\n",
       "    .dataframe tbody tr th:only-of-type {\n",
       "        vertical-align: middle;\n",
       "    }\n",
       "\n",
       "    .dataframe tbody tr th {\n",
       "        vertical-align: top;\n",
       "    }\n",
       "\n",
       "    .dataframe thead th {\n",
       "        text-align: right;\n",
       "    }\n",
       "</style>\n",
       "<table border=\"1\" class=\"dataframe\">\n",
       "  <thead>\n",
       "    <tr style=\"text-align: right;\">\n",
       "      <th></th>\n",
       "      <th>Name</th>\n",
       "      <th>fit_time</th>\n",
       "      <th>test_accuracy</th>\n",
       "      <th>test_f1</th>\n",
       "      <th>test_precision</th>\n",
       "      <th>test_recall</th>\n",
       "      <th>test_log_loss</th>\n",
       "    </tr>\n",
       "  </thead>\n",
       "  <tbody>\n",
       "    <tr>\n",
       "      <th>1</th>\n",
       "      <td>XGBClassifier</td>\n",
       "      <td>70.885925</td>\n",
       "      <td>0.871345</td>\n",
       "      <td>0.834176</td>\n",
       "      <td>0.940945</td>\n",
       "      <td>0.807393</td>\n",
       "      <td>0.53398</td>\n",
       "    </tr>\n",
       "    <tr>\n",
       "      <th>2</th>\n",
       "      <td>LGBMClassifier</td>\n",
       "      <td>14.183113</td>\n",
       "      <td>0.870715</td>\n",
       "      <td>0.833091</td>\n",
       "      <td>0.940841</td>\n",
       "      <td>0.806238</td>\n",
       "      <td>0.431427</td>\n",
       "    </tr>\n",
       "    <tr>\n",
       "      <th>0</th>\n",
       "      <td>LogisticRegression</td>\n",
       "      <td>2.916375</td>\n",
       "      <td>0.77077</td>\n",
       "      <td>0.779879</td>\n",
       "      <td>0.749837</td>\n",
       "      <td>0.812732</td>\n",
       "      <td>0.491587</td>\n",
       "    </tr>\n",
       "  </tbody>\n",
       "</table>\n",
       "</div>"
      ],
      "text/plain": [
       "                 Name   fit_time test_accuracy   test_f1 test_precision  \\\n",
       "1       XGBClassifier  70.885925      0.871345  0.834176       0.940945   \n",
       "2      LGBMClassifier  14.183113      0.870715  0.833091       0.940841   \n",
       "0  LogisticRegression   2.916375       0.77077  0.779879       0.749837   \n",
       "\n",
       "  test_recall test_log_loss  \n",
       "1    0.807393       0.53398  \n",
       "2    0.806238      0.431427  \n",
       "0    0.812732      0.491587  "
      ]
     },
     "execution_count": 221,
     "metadata": {},
     "output_type": "execute_result"
    }
   ],
   "source": [
    "models = [#DecisionTreeClassifier(),RandomForestClassifier(),SVC(),\n",
    "          LogisticRegression(),XGBClassifier(),LGBMClassifier()]\n",
    "scoring = ['accuracy','f1','precision','recall','neg_log_loss']\n",
    "models_columns = ['Name','fit_time','test_accuracy',\n",
    "                  'test_f1','test_precision',\n",
    "                 'test_recall','test_log_loss']\n",
    "models_chart = pd.DataFrame(columns = models_columns)\n",
    "\n",
    "row_index = 0\n",
    "for idx, model in enumerate(models):\n",
    "    model_name = model.__class__.__name__\n",
    "    models_chart.loc[row_index,'Name'] = model_name\n",
    "    \n",
    "    cv_results = cross_validate(model,\n",
    "                                X_train_bcc,\n",
    "                                y_train_bcc,\n",
    "                                cv =3,\n",
    "                                scoring = scoring,\n",
    "                                return_train_score = True\n",
    "                                n_jobs=13)\n",
    "    models_chart.loc[row_index,'fit_time'] = cv_results['fit_time'].mean()\n",
    "    models_chart.loc[row_index,'test_accuracy'] = cv_results['test_accuracy'].mean()\n",
    "    #models_chart.loc[row_index,'train_accuracy'] = cv_results['train_accuracy'].mean()\n",
    "    models_chart.loc[row_index,'test_f1'] = cv_results[ 'test_f1'].mean()\n",
    "    #models_chart.loc[row_index,'train_f1'] = cv_results['train_f1'].mean()\n",
    "    models_chart.loc[row_index,'test_precision'] = cv_results['test_precision'].mean()\n",
    "    #models_chart.loc[row_index,'train_precision'] = cv_results['train_precision'].mean()\n",
    "    models_chart.loc[row_index,'test_recall'] = cv_results['test_recall'].mean()\n",
    "    #models_chart.loc[row_index,'train_recall'] = cv_results['train_recall'].mean()\n",
    "    models_chart.loc[row_index,'test_log_loss'] = -cv_results['test_neg_log_loss'].mean()\n",
    "    \n",
    "    row_index +=1\n",
    "    \n",
    "    models[idx] = model\n",
    "\n",
    "models_chart.sort_values(by='test_accuracy',ascending = False)"
   ]
  },
  {
   "cell_type": "markdown",
   "id": "a313a8d8-849a-481e-b903-312c9beaa675",
   "metadata": {},
   "source": [
    "## Ensembling Models"
   ]
  },
  {
   "cell_type": "code",
   "execution_count": 222,
   "id": "85fbd75d-cd0e-4c94-8420-c9e3d8a39d2e",
   "metadata": {},
   "outputs": [],
   "source": [
    "# Stacking\n",
    "# probabilities of estimation on train dataset\n",
    "xgb = XGBClassifier()\n",
    "lgbm = LGBMClassifier()\n",
    "\n",
    "xgb.fit(X_train_bcc, y_train_bcc)\n",
    "lgbm.fit(X_train_bcc, y_train_bcc)\n",
    "\n",
    "train_prediction1_proba = lgbm.predict_proba(X_train_bcc)[:, 1]\n",
    "train_prediction2_proba = xgb.predict_proba(X_train_bcc)[:, 1]\n",
    "\n",
    "# probabilities of estimation on test dataset\n",
    "test_prediction1_proba = lgbm.predict_proba(X_test_bcc)[:, 1]\n",
    "test_prediction2_proba = xgb.predict_proba(X_test_bcc)[:, 1]\n",
    "\n",
    "# stack the probabilities on train and the probabilities on test\n",
    "train_stack = np.vstack([[train_prediction1_proba], \n",
    "                         [train_prediction2_proba]]).T\n",
    "\n",
    "test_stack = np.vstack([[test_prediction1_proba], \n",
    "                        [test_prediction2_proba]]).T"
   ]
  },
  {
   "cell_type": "code",
   "execution_count": 229,
   "id": "be61f5ce-960c-4549-b13c-b9582d26e0d7",
   "metadata": {},
   "outputs": [
    {
     "data": {
      "text/plain": [
       "19042"
      ]
     },
     "execution_count": 229,
     "metadata": {},
     "output_type": "execute_result"
    }
   ],
   "source": [
    "len(stacked_y)"
   ]
  },
  {
   "cell_type": "code",
   "execution_count": 231,
   "id": "2b8364fc-4ccd-47d3-bc06-8b5cb43ec023",
   "metadata": {},
   "outputs": [
    {
     "data": {
      "text/plain": [
       "19042"
      ]
     },
     "execution_count": 231,
     "metadata": {},
     "output_type": "execute_result"
    }
   ],
   "source": [
    "len(y_train_bcc)"
   ]
  },
  {
   "cell_type": "code",
   "execution_count": 224,
   "id": "056f5f38-e643-4ff0-b5ac-801eddd8b9cd",
   "metadata": {},
   "outputs": [],
   "source": [
    "stacked_y = [1 if (y1+y2)/2>0.5 else 0 for y1, y2 in train_stack]"
   ]
  },
  {
   "cell_type": "code",
   "execution_count": 236,
   "id": "42e85de9-4df5-4f3b-9b46-5a7a4691b627",
   "metadata": {},
   "outputs": [
    {
     "data": {
      "text/plain": [
       "0.9478521163743304"
      ]
     },
     "execution_count": 236,
     "metadata": {},
     "output_type": "execute_result"
    }
   ],
   "source": [
    "sum([1 if y_actual==y_pred else 0 for y_actual, y_pred in zip(y_train_bcc, stacked_y)])/len(y_train_bcc)"
   ]
  },
  {
   "cell_type": "markdown",
   "id": "11ef4f41-2549-41f8-a1fb-743cfe29b973",
   "metadata": {},
   "source": [
    "## MODEL SELECTION"
   ]
  },
  {
   "cell_type": "code",
   "execution_count": null,
   "id": "f556ebd0-8d51-4231-b203-e3471df09463",
   "metadata": {},
   "outputs": [],
   "source": []
  },
  {
   "cell_type": "markdown",
   "id": "5a0f086f-aa2b-4a9a-9af1-0b7b16ccc9f3",
   "metadata": {},
   "source": [
    "## HYPER-PARAMETER TUNING"
   ]
  },
  {
   "cell_type": "code",
   "execution_count": null,
   "id": "91ecc9b9-dafb-4306-80f6-cbe246e17857",
   "metadata": {},
   "outputs": [],
   "source": []
  },
  {
   "cell_type": "code",
   "execution_count": null,
   "id": "ceb5838d-c014-44a0-b5f1-1f1399c9a3aa",
   "metadata": {},
   "outputs": [],
   "source": []
  }
 ],
 "metadata": {
  "environment": {
   "kernel": "python3",
   "name": "common-cpu.m103",
   "type": "gcloud",
   "uri": "gcr.io/deeplearning-platform-release/base-cpu:m103"
  },
  "kernelspec": {
   "display_name": "Python 3",
   "language": "python",
   "name": "python3"
  },
  "language_info": {
   "codemirror_mode": {
    "name": "ipython",
    "version": 3
   },
   "file_extension": ".py",
   "mimetype": "text/x-python",
   "name": "python",
   "nbconvert_exporter": "python",
   "pygments_lexer": "ipython3",
   "version": "3.7.12"
  }
 },
 "nbformat": 4,
 "nbformat_minor": 5
}
