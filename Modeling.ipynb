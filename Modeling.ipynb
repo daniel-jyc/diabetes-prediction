{
 "cells": [
  {
   "cell_type": "code",
   "execution_count": 1,
   "id": "e05be09b-d042-4acb-9932-224dcb40f255",
   "metadata": {},
   "outputs": [],
   "source": [
    "#!pip install lightgbm --upgrade"
   ]
  },
  {
   "cell_type": "code",
   "execution_count": 19,
   "id": "10ff6c0d",
   "metadata": {},
   "outputs": [],
   "source": [
    "# %matplotlib inline\n",
    "import numpy as np\n",
    "import pandas as pd\n",
    "from scipy import stats\n",
    "import matplotlib.pyplot as plt\n",
    "import seaborn as sns\n",
    "import sys\n",
    "import pickle\n",
    "import imblearn\n",
    "import plotly.graph_objs as go\n",
    "import optuna\n",
    "import warnings\n",
    "warnings.filterwarnings('ignore')\n",
    "from imblearn.over_sampling import SMOTE\n",
    "from sklearn.preprocessing import normalize\n",
    "from sklearn.preprocessing import MinMaxScaler\n",
    "from sklearn.model_selection import train_test_split\n",
    "from sklearn.preprocessing import OneHotEncoder, LabelEncoder\n",
    "import optuna.integration.lightgbm as lgb\n",
    "import lightgbm\n",
    "from lightgbm import early_stopping\n",
    "from lightgbm import log_evaluation\n",
    "# Importing Classifier Modules\n",
    "from sklearn.linear_model import LogisticRegression\n",
    "from sklearn.tree import DecisionTreeClassifier\n",
    "from lightgbm import LGBMClassifier\n",
    "from sklearn.ensemble import RandomForestClassifier\n",
    "from xgboost.sklearn import XGBClassifier\n",
    "#Metrics\n",
    "from sklearn.model_selection import KFold\n",
    "from sklearn.metrics import accuracy_score\n",
    "from sklearn.model_selection import cross_val_score\n",
    "from sklearn.model_selection import cross_validate\n",
    "from sklearn.feature_selection import chi2\n",
    "\n",
    "pd.options.display.float_format = '{:,.3}'.format"
   ]
  },
  {
   "cell_type": "code",
   "execution_count": 3,
   "id": "1c3d60fa",
   "metadata": {},
   "outputs": [
    {
     "data": {
      "text/html": [
       "<div>\n",
       "<style scoped>\n",
       "    .dataframe tbody tr th:only-of-type {\n",
       "        vertical-align: middle;\n",
       "    }\n",
       "\n",
       "    .dataframe tbody tr th {\n",
       "        vertical-align: top;\n",
       "    }\n",
       "\n",
       "    .dataframe thead th {\n",
       "        text-align: right;\n",
       "    }\n",
       "</style>\n",
       "<table border=\"1\" class=\"dataframe\">\n",
       "  <thead>\n",
       "    <tr style=\"text-align: right;\">\n",
       "      <th></th>\n",
       "      <th>Diabetes_binary</th>\n",
       "      <th>HighBP</th>\n",
       "      <th>HighChol</th>\n",
       "      <th>CholCheck</th>\n",
       "      <th>BMI</th>\n",
       "      <th>Smoker</th>\n",
       "      <th>Stroke</th>\n",
       "      <th>HeartDiseaseorAttack</th>\n",
       "      <th>PhysActivity</th>\n",
       "      <th>Fruits</th>\n",
       "      <th>...</th>\n",
       "      <th>AnyHealthcare</th>\n",
       "      <th>NoDocbcCost</th>\n",
       "      <th>GenHlth</th>\n",
       "      <th>MentHlth</th>\n",
       "      <th>PhysHlth</th>\n",
       "      <th>DiffWalk</th>\n",
       "      <th>Sex</th>\n",
       "      <th>Age</th>\n",
       "      <th>Education</th>\n",
       "      <th>Income</th>\n",
       "    </tr>\n",
       "  </thead>\n",
       "  <tbody>\n",
       "    <tr>\n",
       "      <th>0</th>\n",
       "      <td>0.0</td>\n",
       "      <td>1.0</td>\n",
       "      <td>1.0</td>\n",
       "      <td>1.0</td>\n",
       "      <td>40.0</td>\n",
       "      <td>1.0</td>\n",
       "      <td>0.0</td>\n",
       "      <td>0.0</td>\n",
       "      <td>0.0</td>\n",
       "      <td>0.0</td>\n",
       "      <td>...</td>\n",
       "      <td>1.0</td>\n",
       "      <td>0.0</td>\n",
       "      <td>5.0</td>\n",
       "      <td>18.0</td>\n",
       "      <td>15.0</td>\n",
       "      <td>1.0</td>\n",
       "      <td>0.0</td>\n",
       "      <td>9.0</td>\n",
       "      <td>4.0</td>\n",
       "      <td>3.0</td>\n",
       "    </tr>\n",
       "    <tr>\n",
       "      <th>1</th>\n",
       "      <td>0.0</td>\n",
       "      <td>0.0</td>\n",
       "      <td>0.0</td>\n",
       "      <td>0.0</td>\n",
       "      <td>25.0</td>\n",
       "      <td>1.0</td>\n",
       "      <td>0.0</td>\n",
       "      <td>0.0</td>\n",
       "      <td>1.0</td>\n",
       "      <td>0.0</td>\n",
       "      <td>...</td>\n",
       "      <td>0.0</td>\n",
       "      <td>1.0</td>\n",
       "      <td>3.0</td>\n",
       "      <td>0.0</td>\n",
       "      <td>0.0</td>\n",
       "      <td>0.0</td>\n",
       "      <td>0.0</td>\n",
       "      <td>7.0</td>\n",
       "      <td>6.0</td>\n",
       "      <td>1.0</td>\n",
       "    </tr>\n",
       "    <tr>\n",
       "      <th>2</th>\n",
       "      <td>0.0</td>\n",
       "      <td>1.0</td>\n",
       "      <td>1.0</td>\n",
       "      <td>1.0</td>\n",
       "      <td>28.0</td>\n",
       "      <td>0.0</td>\n",
       "      <td>0.0</td>\n",
       "      <td>0.0</td>\n",
       "      <td>0.0</td>\n",
       "      <td>1.0</td>\n",
       "      <td>...</td>\n",
       "      <td>1.0</td>\n",
       "      <td>1.0</td>\n",
       "      <td>5.0</td>\n",
       "      <td>30.0</td>\n",
       "      <td>30.0</td>\n",
       "      <td>1.0</td>\n",
       "      <td>0.0</td>\n",
       "      <td>9.0</td>\n",
       "      <td>4.0</td>\n",
       "      <td>8.0</td>\n",
       "    </tr>\n",
       "    <tr>\n",
       "      <th>3</th>\n",
       "      <td>0.0</td>\n",
       "      <td>1.0</td>\n",
       "      <td>0.0</td>\n",
       "      <td>1.0</td>\n",
       "      <td>27.0</td>\n",
       "      <td>0.0</td>\n",
       "      <td>0.0</td>\n",
       "      <td>0.0</td>\n",
       "      <td>1.0</td>\n",
       "      <td>1.0</td>\n",
       "      <td>...</td>\n",
       "      <td>1.0</td>\n",
       "      <td>0.0</td>\n",
       "      <td>2.0</td>\n",
       "      <td>0.0</td>\n",
       "      <td>0.0</td>\n",
       "      <td>0.0</td>\n",
       "      <td>0.0</td>\n",
       "      <td>11.0</td>\n",
       "      <td>3.0</td>\n",
       "      <td>6.0</td>\n",
       "    </tr>\n",
       "    <tr>\n",
       "      <th>4</th>\n",
       "      <td>0.0</td>\n",
       "      <td>1.0</td>\n",
       "      <td>1.0</td>\n",
       "      <td>1.0</td>\n",
       "      <td>24.0</td>\n",
       "      <td>0.0</td>\n",
       "      <td>0.0</td>\n",
       "      <td>0.0</td>\n",
       "      <td>1.0</td>\n",
       "      <td>1.0</td>\n",
       "      <td>...</td>\n",
       "      <td>1.0</td>\n",
       "      <td>0.0</td>\n",
       "      <td>2.0</td>\n",
       "      <td>3.0</td>\n",
       "      <td>0.0</td>\n",
       "      <td>0.0</td>\n",
       "      <td>0.0</td>\n",
       "      <td>11.0</td>\n",
       "      <td>5.0</td>\n",
       "      <td>4.0</td>\n",
       "    </tr>\n",
       "    <tr>\n",
       "      <th>...</th>\n",
       "      <td>...</td>\n",
       "      <td>...</td>\n",
       "      <td>...</td>\n",
       "      <td>...</td>\n",
       "      <td>...</td>\n",
       "      <td>...</td>\n",
       "      <td>...</td>\n",
       "      <td>...</td>\n",
       "      <td>...</td>\n",
       "      <td>...</td>\n",
       "      <td>...</td>\n",
       "      <td>...</td>\n",
       "      <td>...</td>\n",
       "      <td>...</td>\n",
       "      <td>...</td>\n",
       "      <td>...</td>\n",
       "      <td>...</td>\n",
       "      <td>...</td>\n",
       "      <td>...</td>\n",
       "      <td>...</td>\n",
       "      <td>...</td>\n",
       "    </tr>\n",
       "    <tr>\n",
       "      <th>253675</th>\n",
       "      <td>0.0</td>\n",
       "      <td>1.0</td>\n",
       "      <td>1.0</td>\n",
       "      <td>1.0</td>\n",
       "      <td>45.0</td>\n",
       "      <td>0.0</td>\n",
       "      <td>0.0</td>\n",
       "      <td>0.0</td>\n",
       "      <td>0.0</td>\n",
       "      <td>1.0</td>\n",
       "      <td>...</td>\n",
       "      <td>1.0</td>\n",
       "      <td>0.0</td>\n",
       "      <td>3.0</td>\n",
       "      <td>0.0</td>\n",
       "      <td>5.0</td>\n",
       "      <td>0.0</td>\n",
       "      <td>1.0</td>\n",
       "      <td>5.0</td>\n",
       "      <td>6.0</td>\n",
       "      <td>7.0</td>\n",
       "    </tr>\n",
       "    <tr>\n",
       "      <th>253676</th>\n",
       "      <td>1.0</td>\n",
       "      <td>1.0</td>\n",
       "      <td>1.0</td>\n",
       "      <td>1.0</td>\n",
       "      <td>18.0</td>\n",
       "      <td>0.0</td>\n",
       "      <td>0.0</td>\n",
       "      <td>0.0</td>\n",
       "      <td>0.0</td>\n",
       "      <td>0.0</td>\n",
       "      <td>...</td>\n",
       "      <td>1.0</td>\n",
       "      <td>0.0</td>\n",
       "      <td>4.0</td>\n",
       "      <td>0.0</td>\n",
       "      <td>0.0</td>\n",
       "      <td>1.0</td>\n",
       "      <td>0.0</td>\n",
       "      <td>11.0</td>\n",
       "      <td>2.0</td>\n",
       "      <td>4.0</td>\n",
       "    </tr>\n",
       "    <tr>\n",
       "      <th>253677</th>\n",
       "      <td>0.0</td>\n",
       "      <td>0.0</td>\n",
       "      <td>0.0</td>\n",
       "      <td>1.0</td>\n",
       "      <td>28.0</td>\n",
       "      <td>0.0</td>\n",
       "      <td>0.0</td>\n",
       "      <td>0.0</td>\n",
       "      <td>1.0</td>\n",
       "      <td>1.0</td>\n",
       "      <td>...</td>\n",
       "      <td>1.0</td>\n",
       "      <td>0.0</td>\n",
       "      <td>1.0</td>\n",
       "      <td>0.0</td>\n",
       "      <td>0.0</td>\n",
       "      <td>0.0</td>\n",
       "      <td>0.0</td>\n",
       "      <td>2.0</td>\n",
       "      <td>5.0</td>\n",
       "      <td>2.0</td>\n",
       "    </tr>\n",
       "    <tr>\n",
       "      <th>253678</th>\n",
       "      <td>0.0</td>\n",
       "      <td>1.0</td>\n",
       "      <td>0.0</td>\n",
       "      <td>1.0</td>\n",
       "      <td>23.0</td>\n",
       "      <td>0.0</td>\n",
       "      <td>0.0</td>\n",
       "      <td>0.0</td>\n",
       "      <td>0.0</td>\n",
       "      <td>1.0</td>\n",
       "      <td>...</td>\n",
       "      <td>1.0</td>\n",
       "      <td>0.0</td>\n",
       "      <td>3.0</td>\n",
       "      <td>0.0</td>\n",
       "      <td>0.0</td>\n",
       "      <td>0.0</td>\n",
       "      <td>1.0</td>\n",
       "      <td>7.0</td>\n",
       "      <td>5.0</td>\n",
       "      <td>1.0</td>\n",
       "    </tr>\n",
       "    <tr>\n",
       "      <th>253679</th>\n",
       "      <td>1.0</td>\n",
       "      <td>1.0</td>\n",
       "      <td>1.0</td>\n",
       "      <td>1.0</td>\n",
       "      <td>25.0</td>\n",
       "      <td>0.0</td>\n",
       "      <td>0.0</td>\n",
       "      <td>1.0</td>\n",
       "      <td>1.0</td>\n",
       "      <td>1.0</td>\n",
       "      <td>...</td>\n",
       "      <td>1.0</td>\n",
       "      <td>0.0</td>\n",
       "      <td>2.0</td>\n",
       "      <td>0.0</td>\n",
       "      <td>0.0</td>\n",
       "      <td>0.0</td>\n",
       "      <td>0.0</td>\n",
       "      <td>9.0</td>\n",
       "      <td>6.0</td>\n",
       "      <td>2.0</td>\n",
       "    </tr>\n",
       "  </tbody>\n",
       "</table>\n",
       "<p>253680 rows × 22 columns</p>\n",
       "</div>"
      ],
      "text/plain": [
       "        Diabetes_binary  HighBP  HighChol  CholCheck  BMI  Smoker  Stroke  \\\n",
       "0                   0.0     1.0       1.0        1.0 40.0     1.0     0.0   \n",
       "1                   0.0     0.0       0.0        0.0 25.0     1.0     0.0   \n",
       "2                   0.0     1.0       1.0        1.0 28.0     0.0     0.0   \n",
       "3                   0.0     1.0       0.0        1.0 27.0     0.0     0.0   \n",
       "4                   0.0     1.0       1.0        1.0 24.0     0.0     0.0   \n",
       "...                 ...     ...       ...        ...  ...     ...     ...   \n",
       "253675              0.0     1.0       1.0        1.0 45.0     0.0     0.0   \n",
       "253676              1.0     1.0       1.0        1.0 18.0     0.0     0.0   \n",
       "253677              0.0     0.0       0.0        1.0 28.0     0.0     0.0   \n",
       "253678              0.0     1.0       0.0        1.0 23.0     0.0     0.0   \n",
       "253679              1.0     1.0       1.0        1.0 25.0     0.0     0.0   \n",
       "\n",
       "        HeartDiseaseorAttack  PhysActivity  Fruits  ...  AnyHealthcare  \\\n",
       "0                        0.0           0.0     0.0  ...            1.0   \n",
       "1                        0.0           1.0     0.0  ...            0.0   \n",
       "2                        0.0           0.0     1.0  ...            1.0   \n",
       "3                        0.0           1.0     1.0  ...            1.0   \n",
       "4                        0.0           1.0     1.0  ...            1.0   \n",
       "...                      ...           ...     ...  ...            ...   \n",
       "253675                   0.0           0.0     1.0  ...            1.0   \n",
       "253676                   0.0           0.0     0.0  ...            1.0   \n",
       "253677                   0.0           1.0     1.0  ...            1.0   \n",
       "253678                   0.0           0.0     1.0  ...            1.0   \n",
       "253679                   1.0           1.0     1.0  ...            1.0   \n",
       "\n",
       "        NoDocbcCost  GenHlth  MentHlth  PhysHlth  DiffWalk  Sex  Age  \\\n",
       "0               0.0      5.0      18.0      15.0       1.0  0.0  9.0   \n",
       "1               1.0      3.0       0.0       0.0       0.0  0.0  7.0   \n",
       "2               1.0      5.0      30.0      30.0       1.0  0.0  9.0   \n",
       "3               0.0      2.0       0.0       0.0       0.0  0.0 11.0   \n",
       "4               0.0      2.0       3.0       0.0       0.0  0.0 11.0   \n",
       "...             ...      ...       ...       ...       ...  ...  ...   \n",
       "253675          0.0      3.0       0.0       5.0       0.0  1.0  5.0   \n",
       "253676          0.0      4.0       0.0       0.0       1.0  0.0 11.0   \n",
       "253677          0.0      1.0       0.0       0.0       0.0  0.0  2.0   \n",
       "253678          0.0      3.0       0.0       0.0       0.0  1.0  7.0   \n",
       "253679          0.0      2.0       0.0       0.0       0.0  0.0  9.0   \n",
       "\n",
       "        Education  Income  \n",
       "0             4.0     3.0  \n",
       "1             6.0     1.0  \n",
       "2             4.0     8.0  \n",
       "3             3.0     6.0  \n",
       "4             5.0     4.0  \n",
       "...           ...     ...  \n",
       "253675        6.0     7.0  \n",
       "253676        2.0     4.0  \n",
       "253677        5.0     2.0  \n",
       "253678        5.0     1.0  \n",
       "253679        6.0     2.0  \n",
       "\n",
       "[253680 rows x 22 columns]"
      ]
     },
     "execution_count": 3,
     "metadata": {},
     "output_type": "execute_result"
    }
   ],
   "source": [
    "data = pd.read_csv('diabetes_binary_health_indicators_BRFSS2015.csv')\n",
    "data"
   ]
  },
  {
   "cell_type": "code",
   "execution_count": 4,
   "id": "205a92d5",
   "metadata": {},
   "outputs": [
    {
     "data": {
      "text/plain": [
       "Index(['Diabetes_binary', 'HighBP', 'HighChol', 'CholCheck', 'BMI', 'Smoker',\n",
       "       'Stroke', 'HeartDiseaseorAttack', 'PhysActivity', 'Fruits', 'Veggies',\n",
       "       'HvyAlcoholConsump', 'AnyHealthcare', 'NoDocbcCost', 'GenHlth',\n",
       "       'MentHlth', 'PhysHlth', 'DiffWalk', 'Sex', 'Age', 'Education',\n",
       "       'Income'],\n",
       "      dtype='object')"
      ]
     },
     "execution_count": 4,
     "metadata": {},
     "output_type": "execute_result"
    }
   ],
   "source": [
    "data.columns"
   ]
  },
  {
   "cell_type": "code",
   "execution_count": 5,
   "id": "1482b303",
   "metadata": {},
   "outputs": [],
   "source": [
    "category_cols = ['HighBP', 'HighChol', 'CholCheck', 'BMI', 'Smoker',\n",
    "       'Stroke', 'HeartDiseaseorAttack', 'PhysActivity', 'Fruits', 'Veggies',\n",
    "       'HvyAlcoholConsump', 'AnyHealthcare', 'NoDocbcCost', 'GenHlth',\n",
    "       'MentHlth', 'PhysHlth', 'DiffWalk', 'Sex', 'Age', 'Education','Income']\n",
    "\n",
    "binary_cols = ['Diabetes_binary','HighBP', 'HighChol', 'CholCheck',  'Smoker',\n",
    "       'Stroke', 'HeartDiseaseorAttack', 'PhysActivity', 'Fruits', 'Veggies',\n",
    "       'HvyAlcoholConsump', 'AnyHealthcare', 'NoDocbcCost','DiffWalk', 'Sex']\n",
    "stats_cols = ['BMI','GenHlth','MentHlth','PhysHlth','Age','Education','Income']\n",
    "cat_all = category_cols.copy()"
   ]
  },
  {
   "cell_type": "code",
   "execution_count": 6,
   "id": "765f08fb",
   "metadata": {},
   "outputs": [],
   "source": [
    "scaler = MinMaxScaler()\n",
    "df_filtered = data[binary_cols + stats_cols]\n",
    "df_normalized = pd.DataFrame(scaler.fit_transform(df_filtered[stats_cols]), columns=stats_cols)\n",
    "df_combined = pd.concat([data[binary_cols], df_normalized], axis=1)\n",
    "\n",
    "mean_diabetes = df_combined[df_combined['Diabetes_binary'] == 1].mean()[1:]\n",
    "mean_nondiabetes = df_combined[df_combined['Diabetes_binary'] == 0].mean()[1:]"
   ]
  },
  {
   "cell_type": "markdown",
   "id": "10e1900f",
   "metadata": {},
   "source": [
    "According to the radar plot, people with diabetes:\n",
    "   - had stroke\n",
    "   - smoke more often\n",
    "   - have higher level of cholestrol\n",
    "   - have higher blood pressure\n",
    "   - have lower income\n",
    "   - have lower education level\n",
    "   - are older\n",
    "   - have higher BMI\n",
    "   - have difficulty to walk\n",
    "   - have lower level of GenHlth, MentHlth, and PhysHlth"
   ]
  },
  {
   "cell_type": "markdown",
   "id": "8e6a8be9",
   "metadata": {},
   "source": [
    "## Train-Test Split"
   ]
  },
  {
   "cell_type": "code",
   "execution_count": 7,
   "id": "40be8384",
   "metadata": {},
   "outputs": [],
   "source": [
    "#ID_col = null\n",
    "target = 'Diabetes_binary'\n",
    "train, test = train_test_split(data)\n",
    "\n",
    "X_train = train.drop(columns=[target]).copy()\n",
    "X_test = test.drop(columns=[target]).copy()\n",
    "\n",
    "y_train = train['Diabetes_binary'].copy()\n",
    "y_test = test['Diabetes_binary'].copy()"
   ]
  },
  {
   "cell_type": "code",
   "execution_count": 8,
   "id": "dfd208a4",
   "metadata": {},
   "outputs": [],
   "source": [
    "smote = SMOTE(random_state=42)\n",
    "X_train, y_train = smote.fit_resample(X_train, y_train)"
   ]
  },
  {
   "cell_type": "code",
   "execution_count": 9,
   "id": "1f30b927",
   "metadata": {},
   "outputs": [],
   "source": [
    "models = [#DecisionTreeClassifier(),RandomForestClassifier(),SVC(),\n",
    "          LogisticRegression(),XGBClassifier(),LGBMClassifier()]\n",
    "scoring = ['accuracy','f1','precision','recall']\n",
    "models_columns = ['Name','fit_time','test_accuracy','train_accuracy',\n",
    "                  'test_f1','train_f1','test_precision','train_precision',\n",
    "                 'test_recall','train_recall']\n",
    "models_chart = pd.DataFrame(columns = models_columns)"
   ]
  },
  {
   "cell_type": "code",
   "execution_count": 10,
   "id": "84589bbf",
   "metadata": {},
   "outputs": [],
   "source": [
    "row_index = 0\n",
    "for model in models:\n",
    "    model_name = model.__class__.__name__\n",
    "    models_chart.loc[row_index,'Name'] = model_name\n",
    "    \n",
    "    cv_results = cross_validate(model,X_train,y_train,cv =3,scoring = scoring,return_train_score = True,n_jobs=-1)\n",
    "    models_chart.loc[row_index,'fit_time'] = cv_results['fit_time'].mean()\n",
    "    models_chart.loc[row_index,'test_accuracy'] = cv_results['test_accuracy'].mean()\n",
    "    models_chart.loc[row_index,'train_accuracy'] = cv_results['train_accuracy'].mean()\n",
    "    models_chart.loc[row_index,'test_f1'] = cv_results[ 'test_f1'].mean()\n",
    "    models_chart.loc[row_index,'train_f1'] = cv_results['train_f1'].mean()\n",
    "    models_chart.loc[row_index,'test_precision'] = cv_results['test_precision'].mean()\n",
    "    models_chart.loc[row_index,'train_precision'] = cv_results['train_precision'].mean()\n",
    "    models_chart.loc[row_index,'test_recall'] = cv_results['test_recall'].mean()\n",
    "    models_chart.loc[row_index,'train_recall'] = cv_results['train_recall'].mean()\n",
    "    \n",
    "    row_index +=1"
   ]
  },
  {
   "cell_type": "code",
   "execution_count": 11,
   "id": "098169b0",
   "metadata": {},
   "outputs": [
    {
     "data": {
      "text/html": [
       "<div>\n",
       "<style scoped>\n",
       "    .dataframe tbody tr th:only-of-type {\n",
       "        vertical-align: middle;\n",
       "    }\n",
       "\n",
       "    .dataframe tbody tr th {\n",
       "        vertical-align: top;\n",
       "    }\n",
       "\n",
       "    .dataframe thead th {\n",
       "        text-align: right;\n",
       "    }\n",
       "</style>\n",
       "<table border=\"1\" class=\"dataframe\">\n",
       "  <thead>\n",
       "    <tr style=\"text-align: right;\">\n",
       "      <th></th>\n",
       "      <th>Name</th>\n",
       "      <th>fit_time</th>\n",
       "      <th>test_accuracy</th>\n",
       "      <th>train_accuracy</th>\n",
       "      <th>test_f1</th>\n",
       "      <th>train_f1</th>\n",
       "      <th>test_precision</th>\n",
       "      <th>train_precision</th>\n",
       "      <th>test_recall</th>\n",
       "      <th>train_recall</th>\n",
       "    </tr>\n",
       "  </thead>\n",
       "  <tbody>\n",
       "    <tr>\n",
       "      <th>1</th>\n",
       "      <td>XGBClassifier</td>\n",
       "      <td>22.8</td>\n",
       "      <td>0.898</td>\n",
       "      <td>0.93</td>\n",
       "      <td>0.872</td>\n",
       "      <td>0.926</td>\n",
       "      <td>0.965</td>\n",
       "      <td>0.964</td>\n",
       "      <td>0.834</td>\n",
       "      <td>0.892</td>\n",
       "    </tr>\n",
       "    <tr>\n",
       "      <th>2</th>\n",
       "      <td>LGBMClassifier</td>\n",
       "      <td>2.42</td>\n",
       "      <td>0.895</td>\n",
       "      <td>0.925</td>\n",
       "      <td>0.868</td>\n",
       "      <td>0.921</td>\n",
       "      <td>0.961</td>\n",
       "      <td>0.955</td>\n",
       "      <td>0.831</td>\n",
       "      <td>0.889</td>\n",
       "    </tr>\n",
       "    <tr>\n",
       "      <th>0</th>\n",
       "      <td>LogisticRegression</td>\n",
       "      <td>2.34</td>\n",
       "      <td>0.75</td>\n",
       "      <td>0.75</td>\n",
       "      <td>0.757</td>\n",
       "      <td>0.757</td>\n",
       "      <td>0.736</td>\n",
       "      <td>0.736</td>\n",
       "      <td>0.779</td>\n",
       "      <td>0.78</td>\n",
       "    </tr>\n",
       "  </tbody>\n",
       "</table>\n",
       "</div>"
      ],
      "text/plain": [
       "                 Name fit_time test_accuracy train_accuracy test_f1 train_f1  \\\n",
       "1       XGBClassifier     22.8         0.898           0.93   0.872    0.926   \n",
       "2      LGBMClassifier     2.42         0.895          0.925   0.868    0.921   \n",
       "0  LogisticRegression     2.34          0.75           0.75   0.757    0.757   \n",
       "\n",
       "  test_precision train_precision test_recall train_recall  \n",
       "1          0.965           0.964       0.834        0.892  \n",
       "2          0.961           0.955       0.831        0.889  \n",
       "0          0.736           0.736       0.779         0.78  "
      ]
     },
     "execution_count": 11,
     "metadata": {},
     "output_type": "execute_result"
    }
   ],
   "source": [
    "models_chart.sort_values(by='test_accuracy',ascending = False)"
   ]
  },
  {
   "cell_type": "markdown",
   "id": "ab21631c",
   "metadata": {},
   "source": [
    "We applied oversampling and the result accuracy, f1, precision, and recall are all better off."
   ]
  },
  {
   "cell_type": "markdown",
   "id": "41eba805",
   "metadata": {},
   "source": [
    "Fit the three models"
   ]
  },
  {
   "cell_type": "code",
   "execution_count": 12,
   "id": "87f2bd76",
   "metadata": {},
   "outputs": [
    {
     "data": {
      "image/png": "[encoded data removed]",
      "text/plain": [
       "<Figure size 640x480 with 1 Axes>"
      ]
     },
     "metadata": {},
     "output_type": "display_data"
    }
   ],
   "source": [
    "lgbm = LGBMClassifier()\n",
    "lgbm.fit(X_train,y_train)\n",
    "xgb = XGBClassifier()\n",
    "xgb.fit(X_train,y_train)\n",
    "lr = LogisticRegression()\n",
    "lr.fit(X_train,y_train)\n",
    "#plot the graph of feature importances of lgbm\n",
    "feature_importances = pd.Series(lgbm.feature_importances_, index=X_train.columns)\n",
    "sorted_importances = feature_importances.sort_values(ascending= True)\n",
    "sorted_importances.plot(kind='barh')\n",
    "plt.show()"
   ]
  },
  {
   "cell_type": "code",
   "execution_count": 14,
   "id": "0bcac5df",
   "metadata": {},
   "outputs": [
    {
     "name": "stderr",
     "output_type": "stream",
     "text": [
      "\u001b[32m[I 2023-02-25 21:43:43,249]\u001b[0m A new study created in memory with name: no-name-ff5600ff-4bad-425a-a277-c464c4bcc5ae\u001b[0m\n",
      "feature_fraction, val_score: inf:   0%|                                                          | 0/7 [00:00<?, ?it/s]"
     ]
    },
    {
     "name": "stdout",
     "output_type": "stream",
     "text": [
      "Training until validation scores don't improve for 100 rounds\n",
      "[100]\tvalid_0's binary_logloss: 0.193695\tvalid_1's binary_logloss: 0.313828\n",
      "[200]\tvalid_0's binary_logloss: 0.183919\tvalid_1's binary_logloss: 0.311074\n",
      "[300]\tvalid_0's binary_logloss: 0.180459\tvalid_1's binary_logloss: 0.31078\n",
      "[400]\tvalid_0's binary_logloss: 0.177749\tvalid_1's binary_logloss: 0.310906\n"
     ]
    },
    {
     "name": "stderr",
     "output_type": "stream",
     "text": [
      "feature_fraction, val_score: 0.310748:  14%|######4                                      | 1/7 [00:05<00:32,  5.37s/it]\u001b[32m[I 2023-02-25 21:43:48,622]\u001b[0m Trial 0 finished with value: 0.3107481923266291 and parameters: {'feature_fraction': 0.4}. Best is trial 0 with value: 0.3107481923266291.\u001b[0m\n",
      "feature_fraction, val_score: 0.310748:  14%|######4                                      | 1/7 [00:05<00:32,  5.37s/it]"
     ]
    },
    {
     "name": "stdout",
     "output_type": "stream",
     "text": [
      "Early stopping, best iteration is:\n",
      "[321]\tvalid_0's binary_logloss: 0.179921\tvalid_1's binary_logloss: 0.310748\n",
      "[100]\tvalid_0's binary_logloss: 0.19384\tvalid_1's binary_logloss: 0.314314\n",
      "[200]\tvalid_0's binary_logloss: 0.183806\tvalid_1's binary_logloss: 0.312266\n",
      "[300]\tvalid_0's binary_logloss: 0.178763\tvalid_1's binary_logloss: 0.31229\n"
     ]
    },
    {
     "name": "stderr",
     "output_type": "stream",
     "text": [
      "feature_fraction, val_score: 0.310748:  29%|############8                                | 2/7 [00:09<00:23,  4.68s/it]\u001b[32m[I 2023-02-25 21:43:52,820]\u001b[0m Trial 1 finished with value: 0.3107481923266291 and parameters: {'feature_fraction': 1.0}. Best is trial 0 with value: 0.3107481923266291.\u001b[0m\n",
      "feature_fraction, val_score: 0.310748:  29%|############8                                | 2/7 [00:09<00:23,  4.68s/it]"
     ]
    },
    {
     "name": "stdout",
     "output_type": "stream",
     "text": [
      "[400]\tvalid_0's binary_logloss: 0.174557\tvalid_1's binary_logloss: 0.312228\n",
      "Early stopping, best iteration is:\n",
      "[321]\tvalid_0's binary_logloss: 0.179921\tvalid_1's binary_logloss: 0.310748\n",
      "[100]\tvalid_0's binary_logloss: 0.193048\tvalid_1's binary_logloss: 0.313631\n",
      "[200]\tvalid_0's binary_logloss: 0.183702\tvalid_1's binary_logloss: 0.311593\n",
      "[300]\tvalid_0's binary_logloss: 0.179164\tvalid_1's binary_logloss: 0.311497\n",
      "[400]\tvalid_0's binary_logloss: 0.17549\tvalid_1's binary_logloss: 0.311551\n",
      "Early stopping, best iteration is:\n",
      "[321]\tvalid_0's binary_logloss: 0.179921\tvalid_1's binary_logloss: 0.310748\n"
     ]
    },
    {
     "name": "stderr",
     "output_type": "stream",
     "text": [
      "feature_fraction, val_score: 0.310748:  43%|###################2                         | 3/7 [00:14<00:19,  4.79s/it]\u001b[32m[I 2023-02-25 21:43:57,751]\u001b[0m Trial 2 finished with value: 0.3107481923266291 and parameters: {'feature_fraction': 0.6}. Best is trial 0 with value: 0.3107481923266291.\u001b[0m\n",
      "feature_fraction, val_score: 0.310748:  43%|###################2                         | 3/7 [00:14<00:19,  4.79s/it]"
     ]
    },
    {
     "name": "stdout",
     "output_type": "stream",
     "text": [
      "[100]\tvalid_0's binary_logloss: 0.193703\tvalid_1's binary_logloss: 0.314228\n",
      "[200]\tvalid_0's binary_logloss: 0.183725\tvalid_1's binary_logloss: 0.312063\n",
      "[300]\tvalid_0's binary_logloss: 0.178773\tvalid_1's binary_logloss: 0.311943\n",
      "[400]\tvalid_0's binary_logloss: 0.174832\tvalid_1's binary_logloss: 0.312167\n",
      "Early stopping, best iteration is:\n",
      "[321]\tvalid_0's binary_logloss: 0.179921\tvalid_1's binary_logloss: 0.310748\n"
     ]
    },
    {
     "name": "stderr",
     "output_type": "stream",
     "text": [
      "feature_fraction, val_score: 0.310748:  57%|#########################7                   | 4/7 [00:19<00:14,  4.86s/it]\u001b[32m[I 2023-02-25 21:44:02,722]\u001b[0m Trial 3 finished with value: 0.3107481923266291 and parameters: {'feature_fraction': 0.8999999999999999}. Best is trial 0 with value: 0.3107481923266291.\u001b[0m\n",
      "feature_fraction, val_score: 0.310748:  57%|#########################7                   | 4/7 [00:19<00:14,  4.86s/it]"
     ]
    },
    {
     "name": "stdout",
     "output_type": "stream",
     "text": [
      "[100]\tvalid_0's binary_logloss: 0.193449\tvalid_1's binary_logloss: 0.313779\n",
      "[200]\tvalid_0's binary_logloss: 0.183711\tvalid_1's binary_logloss: 0.311246\n",
      "[300]\tvalid_0's binary_logloss: 0.17974\tvalid_1's binary_logloss: 0.31109\n",
      "[400]\tvalid_0's binary_logloss: 0.176515\tvalid_1's binary_logloss: 0.311162\n"
     ]
    },
    {
     "name": "stderr",
     "output_type": "stream",
     "text": [
      "feature_fraction, val_score: 0.310748:  71%|################################1            | 5/7 [00:25<00:10,  5.16s/it]\u001b[32m[I 2023-02-25 21:44:08,415]\u001b[0m Trial 4 finished with value: 0.3107481923266291 and parameters: {'feature_fraction': 0.5}. Best is trial 0 with value: 0.3107481923266291.\u001b[0m\n",
      "feature_fraction, val_score: 0.310748:  71%|################################1            | 5/7 [00:25<00:10,  5.16s/it]"
     ]
    },
    {
     "name": "stdout",
     "output_type": "stream",
     "text": [
      "Early stopping, best iteration is:\n",
      "[321]\tvalid_0's binary_logloss: 0.179921\tvalid_1's binary_logloss: 0.310748\n",
      "[100]\tvalid_0's binary_logloss: 0.193384\tvalid_1's binary_logloss: 0.314169\n",
      "[200]\tvalid_0's binary_logloss: 0.183598\tvalid_1's binary_logloss: 0.312048\n",
      "[300]\tvalid_0's binary_logloss: 0.178842\tvalid_1's binary_logloss: 0.311843\n",
      "[400]\tvalid_0's binary_logloss: 0.1747\tvalid_1's binary_logloss: 0.311912\n",
      "Early stopping, best iteration is:\n",
      "[321]\tvalid_0's binary_logloss: 0.179921\tvalid_1's binary_logloss: 0.310748\n"
     ]
    },
    {
     "name": "stderr",
     "output_type": "stream",
     "text": [
      "feature_fraction, val_score: 0.310748:  86%|######################################5      | 6/7 [00:30<00:05,  5.21s/it]\u001b[32m[I 2023-02-25 21:44:13,714]\u001b[0m Trial 5 finished with value: 0.3107481923266291 and parameters: {'feature_fraction': 0.8}. Best is trial 0 with value: 0.3107481923266291.\u001b[0m\n",
      "feature_fraction, val_score: 0.310748:  86%|######################################5      | 6/7 [00:30<00:05,  5.21s/it]"
     ]
    },
    {
     "name": "stdout",
     "output_type": "stream",
     "text": [
      "[100]\tvalid_0's binary_logloss: 0.193113\tvalid_1's binary_logloss: 0.313829\n",
      "[200]\tvalid_0's binary_logloss: 0.184\tvalid_1's binary_logloss: 0.311816\n",
      "[300]\tvalid_0's binary_logloss: 0.179515\tvalid_1's binary_logloss: 0.311688\n",
      "[400]\tvalid_0's binary_logloss: 0.175461\tvalid_1's binary_logloss: 0.311823\n",
      "Early stopping, best iteration is:\n",
      "[321]\tvalid_0's binary_logloss: 0.179921\tvalid_1's binary_logloss: 0.310748\n"
     ]
    },
    {
     "name": "stderr",
     "output_type": "stream",
     "text": [
      "feature_fraction, val_score: 0.310748: 100%|#############################################| 7/7 [00:34<00:00,  4.98s/it]\u001b[32m[I 2023-02-25 21:44:18,207]\u001b[0m Trial 6 finished with value: 0.3107481923266291 and parameters: {'feature_fraction': 0.7}. Best is trial 0 with value: 0.3107481923266291.\u001b[0m\n",
      "feature_fraction, val_score: 0.310748: 100%|#############################################| 7/7 [00:34<00:00,  4.99s/it]\n",
      "num_leaves, val_score: 0.310748:   0%|                                                          | 0/20 [00:00<?, ?it/s]"
     ]
    },
    {
     "name": "stdout",
     "output_type": "stream",
     "text": [
      "[100]\tvalid_0's binary_logloss: 0.184249\tvalid_1's binary_logloss: 0.311479\n",
      "[200]\tvalid_0's binary_logloss: 0.174829\tvalid_1's binary_logloss: 0.310776\n"
     ]
    },
    {
     "name": "stderr",
     "output_type": "stream",
     "text": [
      "num_leaves, val_score: 0.310715:   5%|##5                                               | 1/20 [00:04<01:22,  4.35s/it]\u001b[32m[I 2023-02-25 21:44:22,567]\u001b[0m Trial 7 finished with value: 0.3107151164190599 and parameters: {'num_leaves': 90}. Best is trial 7 with value: 0.3107151164190599.\u001b[0m\n",
      "num_leaves, val_score: 0.310715:   5%|##5                                               | 1/20 [00:04<01:22,  4.35s/it]"
     ]
    },
    {
     "name": "stdout",
     "output_type": "stream",
     "text": [
      "Early stopping, best iteration is:\n",
      "[164]\tvalid_0's binary_logloss: 0.177223\tvalid_1's binary_logloss: 0.310715\n",
      "[100]\tvalid_0's binary_logloss: 0.187307\tvalid_1's binary_logloss: 0.311778\n",
      "[200]\tvalid_0's binary_logloss: 0.178258\tvalid_1's binary_logloss: 0.310759\n"
     ]
    },
    {
     "name": "stderr",
     "output_type": "stream",
     "text": [
      "num_leaves, val_score: 0.310715:  10%|#####                                             | 2/20 [00:08<01:14,  4.14s/it]\u001b[32m[I 2023-02-25 21:44:26,567]\u001b[0m Trial 8 finished with value: 0.3107151164190599 and parameters: {'num_leaves': 64}. Best is trial 7 with value: 0.3107151164190599.\u001b[0m\n",
      "num_leaves, val_score: 0.310715:  10%|#####                                             | 2/20 [00:08<01:14,  4.14s/it]"
     ]
    },
    {
     "name": "stdout",
     "output_type": "stream",
     "text": [
      "Early stopping, best iteration is:\n",
      "[164]\tvalid_0's binary_logloss: 0.177223\tvalid_1's binary_logloss: 0.310715\n",
      "[100]\tvalid_0's binary_logloss: 0.193292\tvalid_1's binary_logloss: 0.313587\n",
      "[200]\tvalid_0's binary_logloss: 0.183516\tvalid_1's binary_logloss: 0.31093\n"
     ]
    },
    {
     "name": "stderr",
     "output_type": "stream",
     "text": [
      "num_leaves, val_score: 0.310715:  15%|#######5                                          | 3/20 [00:11<01:05,  3.83s/it]\u001b[32m[I 2023-02-25 21:44:30,028]\u001b[0m Trial 9 finished with value: 0.3107151164190599 and parameters: {'num_leaves': 33}. Best is trial 7 with value: 0.3107151164190599.\u001b[0m\n",
      "num_leaves, val_score: 0.310715:  15%|#######5                                          | 3/20 [00:11<01:05,  3.83s/it]"
     ]
    },
    {
     "name": "stdout",
     "output_type": "stream",
     "text": [
      "Early stopping, best iteration is:\n",
      "[164]\tvalid_0's binary_logloss: 0.177223\tvalid_1's binary_logloss: 0.310715\n",
      "[100]\tvalid_0's binary_logloss: 0.186636\tvalid_1's binary_logloss: 0.311589\n",
      "[200]\tvalid_0's binary_logloss: 0.17767\tvalid_1's binary_logloss: 0.310899\n"
     ]
    },
    {
     "name": "stderr",
     "output_type": "stream",
     "text": [
      "num_leaves, val_score: 0.310715:  20%|##########                                        | 4/20 [00:15<01:03,  3.94s/it]\u001b[32m[I 2023-02-25 21:44:34,133]\u001b[0m Trial 10 finished with value: 0.3107151164190599 and parameters: {'num_leaves': 69}. Best is trial 7 with value: 0.3107151164190599.\u001b[0m\n",
      "num_leaves, val_score: 0.310715:  20%|##########                                        | 4/20 [00:15<01:03,  3.94s/it]"
     ]
    },
    {
     "name": "stdout",
     "output_type": "stream",
     "text": [
      "Early stopping, best iteration is:\n",
      "[164]\tvalid_0's binary_logloss: 0.177223\tvalid_1's binary_logloss: 0.310715\n",
      "[100]\tvalid_0's binary_logloss: 0.181595\tvalid_1's binary_logloss: 0.311181\n",
      "[200]\tvalid_0's binary_logloss: 0.171301\tvalid_1's binary_logloss: 0.311273\n"
     ]
    },
    {
     "name": "stderr",
     "output_type": "stream",
     "text": [
      "num_leaves, val_score: 0.310715:  25%|############5                                     | 5/20 [00:20<01:02,  4.19s/it]\u001b[32m[I 2023-02-25 21:44:38,768]\u001b[0m Trial 11 finished with value: 0.3107151164190599 and parameters: {'num_leaves': 121}. Best is trial 7 with value: 0.3107151164190599.\u001b[0m\n",
      "num_leaves, val_score: 0.310715:  25%|############5                                     | 5/20 [00:20<01:02,  4.19s/it]"
     ]
    },
    {
     "name": "stdout",
     "output_type": "stream",
     "text": [
      "Early stopping, best iteration is:\n",
      "[164]\tvalid_0's binary_logloss: 0.177223\tvalid_1's binary_logloss: 0.310715\n",
      "[100]\tvalid_0's binary_logloss: 0.183872\tvalid_1's binary_logloss: 0.311342\n",
      "[200]\tvalid_0's binary_logloss: 0.174529\tvalid_1's binary_logloss: 0.311204\n"
     ]
    },
    {
     "name": "stderr",
     "output_type": "stream",
     "text": [
      "num_leaves, val_score: 0.310715:  30%|###############                                   | 6/20 [00:25<01:00,  4.29s/it]\u001b[32m[I 2023-02-25 21:44:43,243]\u001b[0m Trial 12 finished with value: 0.3107151164190599 and parameters: {'num_leaves': 94}. Best is trial 7 with value: 0.3107151164190599.\u001b[0m\n",
      "num_leaves, val_score: 0.310715:  30%|###############                                   | 6/20 [00:25<01:00,  4.29s/it]"
     ]
    },
    {
     "name": "stdout",
     "output_type": "stream",
     "text": [
      "Early stopping, best iteration is:\n",
      "[164]\tvalid_0's binary_logloss: 0.177223\tvalid_1's binary_logloss: 0.310715\n",
      "[100]\tvalid_0's binary_logloss: 0.180911\tvalid_1's binary_logloss: 0.311311\n",
      "[200]\tvalid_0's binary_logloss: 0.170588\tvalid_1's binary_logloss: 0.311376\n"
     ]
    },
    {
     "name": "stderr",
     "output_type": "stream",
     "text": [
      "num_leaves, val_score: 0.310715:  35%|#################5                                | 7/20 [00:30<00:59,  4.59s/it]\u001b[32m[I 2023-02-25 21:44:48,445]\u001b[0m Trial 13 finished with value: 0.3107151164190599 and parameters: {'num_leaves': 129}. Best is trial 7 with value: 0.3107151164190599.\u001b[0m\n",
      "num_leaves, val_score: 0.310715:  35%|#################5                                | 7/20 [00:30<00:59,  4.59s/it]"
     ]
    },
    {
     "name": "stdout",
     "output_type": "stream",
     "text": [
      "Early stopping, best iteration is:\n",
      "[164]\tvalid_0's binary_logloss: 0.177223\tvalid_1's binary_logloss: 0.310715\n",
      "[100]\tvalid_0's binary_logloss: 0.189497\tvalid_1's binary_logloss: 0.312307\n",
      "[200]\tvalid_0's binary_logloss: 0.180686\tvalid_1's binary_logloss: 0.31075\n",
      "[300]\tvalid_0's binary_logloss: 0.176716\tvalid_1's binary_logloss: 0.310664\n"
     ]
    },
    {
     "name": "stderr",
     "output_type": "stream",
     "text": [
      "num_leaves, val_score: 0.310715:  40%|####################                              | 8/20 [00:37<01:04,  5.37s/it]\u001b[32m[I 2023-02-25 21:44:55,483]\u001b[0m Trial 14 finished with value: 0.3121967921423 and parameters: {'num_leaves': 49}. Best is trial 7 with value: 0.3107151164190599.\u001b[0m\n",
      "num_leaves, val_score: 0.310715:  40%|####################                              | 8/20 [00:37<01:04,  5.37s/it]"
     ]
    },
    {
     "name": "stdout",
     "output_type": "stream",
     "text": [
      "Early stopping, best iteration is:\n",
      "[264]\tvalid_0's binary_logloss: 0.166514\tvalid_1's binary_logloss: 0.312197\n",
      "[100]\tvalid_0's binary_logloss: 0.182887\tvalid_1's binary_logloss: 0.311419\n",
      "[200]\tvalid_0's binary_logloss: 0.172958\tvalid_1's binary_logloss: 0.311331\n",
      "[300]\tvalid_0's binary_logloss: 0.16799\tvalid_1's binary_logloss: 0.312372\n"
     ]
    },
    {
     "name": "stderr",
     "output_type": "stream",
     "text": [
      "num_leaves, val_score: 0.310613:  45%|######################5                           | 9/20 [00:44<01:04,  5.85s/it]\u001b[32m[I 2023-02-25 21:45:02,406]\u001b[0m Trial 15 finished with value: 0.31061286171007707 and parameters: {'num_leaves': 106}. Best is trial 15 with value: 0.31061286171007707.\u001b[0m\n",
      "num_leaves, val_score: 0.310613:  45%|######################5                           | 9/20 [00:44<01:04,  5.85s/it]"
     ]
    },
    {
     "name": "stdout",
     "output_type": "stream",
     "text": [
      "Early stopping, best iteration is:\n",
      "[285]\tvalid_0's binary_logloss: 0.177269\tvalid_1's binary_logloss: 0.310613\n",
      "[100]\tvalid_0's binary_logloss: 0.178159\tvalid_1's binary_logloss: 0.311272\n",
      "[200]\tvalid_0's binary_logloss: 0.166797\tvalid_1's binary_logloss: 0.311977\n",
      "[300]\tvalid_0's binary_logloss: 0.160527\tvalid_1's binary_logloss: 0.313648\n"
     ]
    },
    {
     "name": "stderr",
     "output_type": "stream",
     "text": [
      "num_leaves, val_score: 0.310613:  50%|########################5                        | 10/20 [00:50<00:59,  5.97s/it]\u001b[32m[I 2023-02-25 21:45:08,623]\u001b[0m Trial 16 finished with value: 0.31061286171007707 and parameters: {'num_leaves': 167}. Best is trial 15 with value: 0.31061286171007707.\u001b[0m\n",
      "num_leaves, val_score: 0.310613:  50%|########################5                        | 10/20 [00:50<00:59,  5.97s/it]"
     ]
    },
    {
     "name": "stdout",
     "output_type": "stream",
     "text": [
      "Early stopping, best iteration is:\n",
      "[285]\tvalid_0's binary_logloss: 0.177269\tvalid_1's binary_logloss: 0.310613\n",
      "[100]\tvalid_0's binary_logloss: 0.173224\tvalid_1's binary_logloss: 0.311689\n",
      "[200]\tvalid_0's binary_logloss: 0.159465\tvalid_1's binary_logloss: 0.313696\n",
      "[300]\tvalid_0's binary_logloss: 0.151361\tvalid_1's binary_logloss: 0.315983\n"
     ]
    },
    {
     "name": "stderr",
     "output_type": "stream",
     "text": [
      "num_leaves, val_score: 0.310613:  55%|##########################9                      | 11/20 [00:57<00:57,  6.40s/it]\u001b[32m[I 2023-02-25 21:45:16,024]\u001b[0m Trial 17 finished with value: 0.31061286171007707 and parameters: {'num_leaves': 249}. Best is trial 15 with value: 0.31061286171007707.\u001b[0m\n",
      "num_leaves, val_score: 0.310613:  55%|##########################9                      | 11/20 [00:57<00:57,  6.40s/it]"
     ]
    },
    {
     "name": "stdout",
     "output_type": "stream",
     "text": [
      "Early stopping, best iteration is:\n",
      "[285]\tvalid_0's binary_logloss: 0.177269\tvalid_1's binary_logloss: 0.310613\n",
      "[100]\tvalid_0's binary_logloss: 0.175763\tvalid_1's binary_logloss: 0.311452\n",
      "[200]\tvalid_0's binary_logloss: 0.163058\tvalid_1's binary_logloss: 0.31269\n",
      "[300]\tvalid_0's binary_logloss: 0.155867\tvalid_1's binary_logloss: 0.314578\n"
     ]
    },
    {
     "name": "stderr",
     "output_type": "stream",
     "text": [
      "num_leaves, val_score: 0.310613:  60%|#############################4                   | 12/20 [01:04<00:51,  6.50s/it]\u001b[32m[I 2023-02-25 21:45:22,741]\u001b[0m Trial 18 finished with value: 0.31061286171007707 and parameters: {'num_leaves': 206}. Best is trial 15 with value: 0.31061286171007707.\u001b[0m\n",
      "num_leaves, val_score: 0.310613:  60%|#############################4                   | 12/20 [01:04<00:51,  6.50s/it]"
     ]
    },
    {
     "name": "stdout",
     "output_type": "stream",
     "text": [
      "Early stopping, best iteration is:\n",
      "[285]\tvalid_0's binary_logloss: 0.177269\tvalid_1's binary_logloss: 0.310613\n",
      "[100]\tvalid_0's binary_logloss: 0.177461\tvalid_1's binary_logloss: 0.311427\n",
      "[200]\tvalid_0's binary_logloss: 0.165431\tvalid_1's binary_logloss: 0.31262\n",
      "[300]\tvalid_0's binary_logloss: 0.158743\tvalid_1's binary_logloss: 0.314181\n"
     ]
    },
    {
     "name": "stderr",
     "output_type": "stream",
     "text": [
      "num_leaves, val_score: 0.310613:  65%|###############################8                 | 13/20 [01:10<00:45,  6.43s/it]\u001b[32m[I 2023-02-25 21:45:29,022]\u001b[0m Trial 19 finished with value: 0.31061286171007707 and parameters: {'num_leaves': 179}. Best is trial 15 with value: 0.31061286171007707.\u001b[0m\n",
      "num_leaves, val_score: 0.310613:  65%|###############################8                 | 13/20 [01:10<00:45,  6.43s/it]"
     ]
    },
    {
     "name": "stdout",
     "output_type": "stream",
     "text": [
      "Early stopping, best iteration is:\n",
      "[285]\tvalid_0's binary_logloss: 0.177269\tvalid_1's binary_logloss: 0.310613\n",
      "[100]\tvalid_0's binary_logloss: 0.177606\tvalid_1's binary_logloss: 0.311302\n",
      "[200]\tvalid_0's binary_logloss: 0.165779\tvalid_1's binary_logloss: 0.312256\n",
      "[300]\tvalid_0's binary_logloss: 0.158242\tvalid_1's binary_logloss: 0.313979\n"
     ]
    },
    {
     "name": "stderr",
     "output_type": "stream",
     "text": [
      "num_leaves, val_score: 0.310613:  70%|##################################3              | 14/20 [01:17<00:38,  6.40s/it]\u001b[32m[I 2023-02-25 21:45:35,340]\u001b[0m Trial 20 finished with value: 0.31061286171007707 and parameters: {'num_leaves': 177}. Best is trial 15 with value: 0.31061286171007707.\u001b[0m\n",
      "num_leaves, val_score: 0.310613:  70%|##################################3              | 14/20 [01:17<00:38,  6.40s/it]"
     ]
    },
    {
     "name": "stdout",
     "output_type": "stream",
     "text": [
      "Early stopping, best iteration is:\n",
      "[285]\tvalid_0's binary_logloss: 0.177269\tvalid_1's binary_logloss: 0.310613\n",
      "[100]\tvalid_0's binary_logloss: 0.178055\tvalid_1's binary_logloss: 0.311377\n",
      "[200]\tvalid_0's binary_logloss: 0.166777\tvalid_1's binary_logloss: 0.312037\n",
      "[300]\tvalid_0's binary_logloss: 0.159943\tvalid_1's binary_logloss: 0.313622\n"
     ]
    },
    {
     "name": "stderr",
     "output_type": "stream",
     "text": [
      "num_leaves, val_score: 0.310613:  75%|####################################7            | 15/20 [01:23<00:31,  6.34s/it]\u001b[32m[I 2023-02-25 21:45:41,545]\u001b[0m Trial 21 finished with value: 0.31061286171007707 and parameters: {'num_leaves': 168}. Best is trial 15 with value: 0.31061286171007707.\u001b[0m\n",
      "num_leaves, val_score: 0.310613:  75%|####################################7            | 15/20 [01:23<00:31,  6.34s/it]"
     ]
    },
    {
     "name": "stdout",
     "output_type": "stream",
     "text": [
      "Early stopping, best iteration is:\n",
      "[285]\tvalid_0's binary_logloss: 0.177269\tvalid_1's binary_logloss: 0.310613\n",
      "[100]\tvalid_0's binary_logloss: 0.17944\tvalid_1's binary_logloss: 0.311321\n",
      "[200]\tvalid_0's binary_logloss: 0.168753\tvalid_1's binary_logloss: 0.311701\n",
      "[300]\tvalid_0's binary_logloss: 0.162569\tvalid_1's binary_logloss: 0.313034\n"
     ]
    },
    {
     "name": "stderr",
     "output_type": "stream",
     "text": [
      "num_leaves, val_score: 0.310613:  80%|#######################################2         | 16/20 [01:29<00:25,  6.28s/it]\u001b[32m[I 2023-02-25 21:45:47,667]\u001b[0m Trial 22 finished with value: 0.31061286171007707 and parameters: {'num_leaves': 148}. Best is trial 15 with value: 0.31061286171007707.\u001b[0m\n",
      "num_leaves, val_score: 0.310613:  80%|#######################################2         | 16/20 [01:29<00:25,  6.28s/it]"
     ]
    },
    {
     "name": "stdout",
     "output_type": "stream",
     "text": [
      "Early stopping, best iteration is:\n",
      "[285]\tvalid_0's binary_logloss: 0.177269\tvalid_1's binary_logloss: 0.310613\n",
      "[100]\tvalid_0's binary_logloss: 0.260991\tvalid_1's binary_logloss: 0.346979\n",
      "[200]\tvalid_0's binary_logloss: 0.215611\tvalid_1's binary_logloss: 0.324084\n",
      "[300]\tvalid_0's binary_logloss: 0.201927\tvalid_1's binary_logloss: 0.317878\n"
     ]
    },
    {
     "name": "stderr",
     "output_type": "stream",
     "text": [
      "num_leaves, val_score: 0.310613:  85%|#########################################6       | 17/20 [01:32<00:15,  5.30s/it]\u001b[32m[I 2023-02-25 21:45:50,691]\u001b[0m Trial 23 finished with value: 0.31061286171007707 and parameters: {'num_leaves': 5}. Best is trial 15 with value: 0.31061286171007707.\u001b[0m\n",
      "num_leaves, val_score: 0.310613:  85%|#########################################6       | 17/20 [01:32<00:15,  5.30s/it]"
     ]
    },
    {
     "name": "stdout",
     "output_type": "stream",
     "text": [
      "Early stopping, best iteration is:\n",
      "[285]\tvalid_0's binary_logloss: 0.177269\tvalid_1's binary_logloss: 0.310613\n",
      "[100]\tvalid_0's binary_logloss: 0.174567\tvalid_1's binary_logloss: 0.311659\n",
      "[200]\tvalid_0's binary_logloss: 0.161287\tvalid_1's binary_logloss: 0.313296\n",
      "[300]\tvalid_0's binary_logloss: 0.153722\tvalid_1's binary_logloss: 0.315008\n"
     ]
    },
    {
     "name": "stderr",
     "output_type": "stream",
     "text": [
      "num_leaves, val_score: 0.310613:  90%|############################################1    | 18/20 [01:42<00:13,  6.74s/it]\u001b[32m[I 2023-02-25 21:46:00,784]\u001b[0m Trial 24 finished with value: 0.31061286171007707 and parameters: {'num_leaves': 226}. Best is trial 15 with value: 0.31061286171007707.\u001b[0m\n",
      "num_leaves, val_score: 0.310613:  90%|############################################1    | 18/20 [01:42<00:13,  6.74s/it]"
     ]
    },
    {
     "name": "stdout",
     "output_type": "stream",
     "text": [
      "Early stopping, best iteration is:\n",
      "[285]\tvalid_0's binary_logloss: 0.177269\tvalid_1's binary_logloss: 0.310613\n",
      "[100]\tvalid_0's binary_logloss: 0.182533\tvalid_1's binary_logloss: 0.3112\n",
      "[200]\tvalid_0's binary_logloss: 0.172552\tvalid_1's binary_logloss: 0.311418\n",
      "[300]\tvalid_0's binary_logloss: 0.16702\tvalid_1's binary_logloss: 0.312486\n"
     ]
    },
    {
     "name": "stderr",
     "output_type": "stream",
     "text": [
      "num_leaves, val_score: 0.310613:  95%|##############################################5  | 19/20 [01:49<00:06,  6.66s/it]\u001b[32m[I 2023-02-25 21:46:07,245]\u001b[0m Trial 25 finished with value: 0.31061286171007707 and parameters: {'num_leaves': 109}. Best is trial 15 with value: 0.31061286171007707.\u001b[0m\n",
      "num_leaves, val_score: 0.310613:  95%|##############################################5  | 19/20 [01:49<00:06,  6.66s/it]"
     ]
    },
    {
     "name": "stdout",
     "output_type": "stream",
     "text": [
      "Early stopping, best iteration is:\n",
      "[285]\tvalid_0's binary_logloss: 0.177269\tvalid_1's binary_logloss: 0.310613\n",
      "[100]\tvalid_0's binary_logloss: 0.179811\tvalid_1's binary_logloss: 0.311328\n",
      "[200]\tvalid_0's binary_logloss: 0.168946\tvalid_1's binary_logloss: 0.311847\n",
      "[300]\tvalid_0's binary_logloss: 0.162668\tvalid_1's binary_logloss: 0.31328\n"
     ]
    },
    {
     "name": "stderr",
     "output_type": "stream",
     "text": [
      "num_leaves, val_score: 0.310613: 100%|#################################################| 20/20 [01:54<00:00,  6.41s/it]\u001b[32m[I 2023-02-25 21:46:13,090]\u001b[0m Trial 26 finished with value: 0.31061286171007707 and parameters: {'num_leaves': 143}. Best is trial 15 with value: 0.31061286171007707.\u001b[0m\n",
      "num_leaves, val_score: 0.310613: 100%|#################################################| 20/20 [01:54<00:00,  5.74s/it]\n"
     ]
    },
    {
     "name": "stdout",
     "output_type": "stream",
     "text": [
      "Early stopping, best iteration is:\n",
      "[285]\tvalid_0's binary_logloss: 0.177269\tvalid_1's binary_logloss: 0.310613\n"
     ]
    },
    {
     "name": "stderr",
     "output_type": "stream",
     "text": [
      "bagging, val_score: 0.310613:   0%|                                                             | 0/10 [00:00<?, ?it/s]"
     ]
    },
    {
     "name": "stdout",
     "output_type": "stream",
     "text": [
      "[100]\tvalid_0's binary_logloss: 0.182873\tvalid_1's binary_logloss: 0.311641\n",
      "[200]\tvalid_0's binary_logloss: 0.17222\tvalid_1's binary_logloss: 0.311786\n",
      "[300]\tvalid_0's binary_logloss: 0.165859\tvalid_1's binary_logloss: 0.313099\n"
     ]
    },
    {
     "name": "stderr",
     "output_type": "stream",
     "text": [
      "bagging, val_score: 0.310613:  10%|#####3                                               | 1/10 [00:06<01:00,  6.67s/it]\u001b[32m[I 2023-02-25 21:46:19,774]\u001b[0m Trial 27 finished with value: 0.31061286171007707 and parameters: {'bagging_fraction': 0.719138057818868, 'bagging_freq': 2}. Best is trial 27 with value: 0.31061286171007707.\u001b[0m\n",
      "bagging, val_score: 0.310613:  10%|#####3                                               | 1/10 [00:06<01:00,  6.67s/it]"
     ]
    },
    {
     "name": "stdout",
     "output_type": "stream",
     "text": [
      "Early stopping, best iteration is:\n",
      "[285]\tvalid_0's binary_logloss: 0.177269\tvalid_1's binary_logloss: 0.310613\n",
      "[100]\tvalid_0's binary_logloss: 0.183285\tvalid_1's binary_logloss: 0.311804\n",
      "[200]\tvalid_0's binary_logloss: 0.172739\tvalid_1's binary_logloss: 0.31268\n",
      "[300]\tvalid_0's binary_logloss: 0.16635\tvalid_1's binary_logloss: 0.314431\n"
     ]
    },
    {
     "name": "stderr",
     "output_type": "stream",
     "text": [
      "bagging, val_score: 0.310613:  20%|##########6                                          | 2/10 [00:12<00:50,  6.28s/it]\u001b[32m[I 2023-02-25 21:46:25,780]\u001b[0m Trial 28 finished with value: 0.31061286171007707 and parameters: {'bagging_fraction': 0.47235140044080637, 'bagging_freq': 2}. Best is trial 27 with value: 0.31061286171007707.\u001b[0m\n",
      "bagging, val_score: 0.310613:  20%|##########6                                          | 2/10 [00:12<00:50,  6.28s/it]"
     ]
    },
    {
     "name": "stdout",
     "output_type": "stream",
     "text": [
      "Early stopping, best iteration is:\n",
      "[285]\tvalid_0's binary_logloss: 0.177269\tvalid_1's binary_logloss: 0.310613\n",
      "[100]\tvalid_0's binary_logloss: 0.183316\tvalid_1's binary_logloss: 0.311772\n",
      "[200]\tvalid_0's binary_logloss: 0.172543\tvalid_1's binary_logloss: 0.312144\n",
      "[300]\tvalid_0's binary_logloss: 0.166082\tvalid_1's binary_logloss: 0.314132\n"
     ]
    },
    {
     "name": "stderr",
     "output_type": "stream",
     "text": [
      "bagging, val_score: 0.310613:  30%|###############9                                     | 3/10 [00:18<00:42,  6.01s/it]\u001b[32m[I 2023-02-25 21:46:31,460]\u001b[0m Trial 29 finished with value: 0.31061286171007707 and parameters: {'bagging_fraction': 0.5567608104643381, 'bagging_freq': 2}. Best is trial 27 with value: 0.31061286171007707.\u001b[0m\n",
      "bagging, val_score: 0.310613:  30%|###############9                                     | 3/10 [00:18<00:42,  6.01s/it]"
     ]
    },
    {
     "name": "stdout",
     "output_type": "stream",
     "text": [
      "Early stopping, best iteration is:\n",
      "[285]\tvalid_0's binary_logloss: 0.177269\tvalid_1's binary_logloss: 0.310613\n",
      "[100]\tvalid_0's binary_logloss: 0.183209\tvalid_1's binary_logloss: 0.311881\n",
      "[200]\tvalid_0's binary_logloss: 0.172693\tvalid_1's binary_logloss: 0.312346\n",
      "[300]\tvalid_0's binary_logloss: 0.166137\tvalid_1's binary_logloss: 0.313813\n"
     ]
    },
    {
     "name": "stderr",
     "output_type": "stream",
     "text": [
      "bagging, val_score: 0.310613:  40%|#####################2                               | 4/10 [00:24<00:35,  5.99s/it]\u001b[32m[I 2023-02-25 21:46:37,413]\u001b[0m Trial 30 finished with value: 0.31061286171007707 and parameters: {'bagging_fraction': 0.529016693736163, 'bagging_freq': 4}. Best is trial 27 with value: 0.31061286171007707.\u001b[0m\n",
      "bagging, val_score: 0.310613:  40%|#####################2                               | 4/10 [00:24<00:35,  5.99s/it]"
     ]
    },
    {
     "name": "stdout",
     "output_type": "stream",
     "text": [
      "Early stopping, best iteration is:\n",
      "[285]\tvalid_0's binary_logloss: 0.177269\tvalid_1's binary_logloss: 0.310613\n",
      "[100]\tvalid_0's binary_logloss: 0.182877\tvalid_1's binary_logloss: 0.311732\n",
      "[200]\tvalid_0's binary_logloss: 0.172383\tvalid_1's binary_logloss: 0.311927\n",
      "[300]\tvalid_0's binary_logloss: 0.166085\tvalid_1's binary_logloss: 0.312985\n"
     ]
    },
    {
     "name": "stderr",
     "output_type": "stream",
     "text": [
      "bagging, val_score: 0.310613:  50%|##########################5                          | 5/10 [00:30<00:30,  6.15s/it]\u001b[32m[I 2023-02-25 21:46:43,863]\u001b[0m Trial 31 finished with value: 0.31061286171007707 and parameters: {'bagging_fraction': 0.7465120609506205, 'bagging_freq': 1}. Best is trial 27 with value: 0.31061286171007707.\u001b[0m\n",
      "bagging, val_score: 0.310613:  50%|##########################5                          | 5/10 [00:30<00:30,  6.15s/it]"
     ]
    },
    {
     "name": "stdout",
     "output_type": "stream",
     "text": [
      "Early stopping, best iteration is:\n",
      "[285]\tvalid_0's binary_logloss: 0.177269\tvalid_1's binary_logloss: 0.310613\n",
      "[100]\tvalid_0's binary_logloss: 0.182805\tvalid_1's binary_logloss: 0.311305\n",
      "[200]\tvalid_0's binary_logloss: 0.172361\tvalid_1's binary_logloss: 0.311447\n",
      "[300]\tvalid_0's binary_logloss: 0.166242\tvalid_1's binary_logloss: 0.312467\n"
     ]
    },
    {
     "name": "stderr",
     "output_type": "stream",
     "text": [
      "bagging, val_score: 0.310613:  60%|###############################8                     | 6/10 [00:37<00:25,  6.27s/it]\u001b[32m[I 2023-02-25 21:46:50,353]\u001b[0m Trial 32 finished with value: 0.31061286171007707 and parameters: {'bagging_fraction': 0.8228325567989578, 'bagging_freq': 2}. Best is trial 27 with value: 0.31061286171007707.\u001b[0m\n",
      "bagging, val_score: 0.310613:  60%|###############################8                     | 6/10 [00:37<00:25,  6.27s/it]"
     ]
    },
    {
     "name": "stdout",
     "output_type": "stream",
     "text": [
      "Early stopping, best iteration is:\n",
      "[285]\tvalid_0's binary_logloss: 0.177269\tvalid_1's binary_logloss: 0.310613\n",
      "[100]\tvalid_0's binary_logloss: 0.183087\tvalid_1's binary_logloss: 0.311706\n",
      "[200]\tvalid_0's binary_logloss: 0.172581\tvalid_1's binary_logloss: 0.311905\n",
      "[300]\tvalid_0's binary_logloss: 0.166137\tvalid_1's binary_logloss: 0.313059\n"
     ]
    },
    {
     "name": "stderr",
     "output_type": "stream",
     "text": [
      "bagging, val_score: 0.310613:  70%|#####################################                | 7/10 [00:42<00:18,  6.07s/it]\u001b[32m[I 2023-02-25 21:46:56,029]\u001b[0m Trial 33 finished with value: 0.31061286171007707 and parameters: {'bagging_fraction': 0.6624948188064517, 'bagging_freq': 4}. Best is trial 27 with value: 0.31061286171007707.\u001b[0m\n",
      "bagging, val_score: 0.310613:  70%|#####################################                | 7/10 [00:42<00:18,  6.07s/it]"
     ]
    },
    {
     "name": "stdout",
     "output_type": "stream",
     "text": [
      "Early stopping, best iteration is:\n",
      "[285]\tvalid_0's binary_logloss: 0.177269\tvalid_1's binary_logloss: 0.310613\n",
      "[100]\tvalid_0's binary_logloss: 0.182912\tvalid_1's binary_logloss: 0.311457\n",
      "[200]\tvalid_0's binary_logloss: 0.172719\tvalid_1's binary_logloss: 0.311331\n",
      "[300]\tvalid_0's binary_logloss: 0.166896\tvalid_1's binary_logloss: 0.312137\n"
     ]
    },
    {
     "name": "stderr",
     "output_type": "stream",
     "text": [
      "bagging, val_score: 0.310613:  80%|##########################################4          | 8/10 [00:51<00:13,  6.92s/it]\u001b[32m[I 2023-02-25 21:47:04,754]\u001b[0m Trial 34 finished with value: 0.31061286171007707 and parameters: {'bagging_fraction': 0.9609478674024059, 'bagging_freq': 2}. Best is trial 27 with value: 0.31061286171007707.\u001b[0m\n",
      "bagging, val_score: 0.310613:  80%|##########################################4          | 8/10 [00:51<00:13,  6.92s/it]"
     ]
    },
    {
     "name": "stdout",
     "output_type": "stream",
     "text": [
      "Early stopping, best iteration is:\n",
      "[285]\tvalid_0's binary_logloss: 0.177269\tvalid_1's binary_logloss: 0.310613\n",
      "[100]\tvalid_0's binary_logloss: 0.183546\tvalid_1's binary_logloss: 0.312371\n",
      "[200]\tvalid_0's binary_logloss: 0.173021\tvalid_1's binary_logloss: 0.312903\n",
      "[300]\tvalid_0's binary_logloss: 0.166722\tvalid_1's binary_logloss: 0.315282\n"
     ]
    },
    {
     "name": "stderr",
     "output_type": "stream",
     "text": [
      "bagging, val_score: 0.310613:  90%|###############################################7     | 9/10 [00:58<00:07,  7.04s/it]\u001b[32m[I 2023-02-25 21:47:12,052]\u001b[0m Trial 35 finished with value: 0.31061286171007707 and parameters: {'bagging_fraction': 0.41315210587510515, 'bagging_freq': 1}. Best is trial 27 with value: 0.31061286171007707.\u001b[0m\n",
      "bagging, val_score: 0.310613:  90%|###############################################7     | 9/10 [00:58<00:07,  7.04s/it]"
     ]
    },
    {
     "name": "stdout",
     "output_type": "stream",
     "text": [
      "Early stopping, best iteration is:\n",
      "[285]\tvalid_0's binary_logloss: 0.177269\tvalid_1's binary_logloss: 0.310613\n",
      "[100]\tvalid_0's binary_logloss: 0.183157\tvalid_1's binary_logloss: 0.311938\n",
      "[200]\tvalid_0's binary_logloss: 0.172613\tvalid_1's binary_logloss: 0.312267\n",
      "[300]\tvalid_0's binary_logloss: 0.165994\tvalid_1's binary_logloss: 0.314068\n"
     ]
    },
    {
     "name": "stderr",
     "output_type": "stream",
     "text": [
      "bagging, val_score: 0.310613: 100%|####################################################| 10/10 [01:05<00:00,  6.90s/it]\u001b[32m[I 2023-02-25 21:47:18,655]\u001b[0m Trial 36 finished with value: 0.31061286171007707 and parameters: {'bagging_fraction': 0.5632977724117407, 'bagging_freq': 3}. Best is trial 27 with value: 0.31061286171007707.\u001b[0m\n",
      "bagging, val_score: 0.310613: 100%|####################################################| 10/10 [01:05<00:00,  6.56s/it]\n"
     ]
    },
    {
     "name": "stdout",
     "output_type": "stream",
     "text": [
      "Early stopping, best iteration is:\n",
      "[285]\tvalid_0's binary_logloss: 0.177269\tvalid_1's binary_logloss: 0.310613\n"
     ]
    },
    {
     "name": "stderr",
     "output_type": "stream",
     "text": [
      "feature_fraction_stage2, val_score: 0.310613:   0%|                                              | 0/3 [00:00<?, ?it/s]"
     ]
    },
    {
     "name": "stdout",
     "output_type": "stream",
     "text": [
      "[100]\tvalid_0's binary_logloss: 0.182035\tvalid_1's binary_logloss: 0.311206\n",
      "[200]\tvalid_0's binary_logloss: 0.171753\tvalid_1's binary_logloss: 0.311394\n",
      "[300]\tvalid_0's binary_logloss: 0.165\tvalid_1's binary_logloss: 0.312139\n"
     ]
    },
    {
     "name": "stderr",
     "output_type": "stream",
     "text": [
      "feature_fraction_stage2, val_score: 0.310613:  33%|############6                         | 1/3 [00:06<00:13,  6.64s/it]\u001b[32m[I 2023-02-25 21:47:25,302]\u001b[0m Trial 37 finished with value: 0.31061286171007707 and parameters: {'feature_fraction': 0.48000000000000004}. Best is trial 37 with value: 0.31061286171007707.\u001b[0m\n",
      "feature_fraction_stage2, val_score: 0.310613:  33%|############6                         | 1/3 [00:06<00:13,  6.64s/it]"
     ]
    },
    {
     "name": "stdout",
     "output_type": "stream",
     "text": [
      "Early stopping, best iteration is:\n",
      "[285]\tvalid_0's binary_logloss: 0.177269\tvalid_1's binary_logloss: 0.310613\n",
      "[100]\tvalid_0's binary_logloss: 0.182248\tvalid_1's binary_logloss: 0.311183\n",
      "[200]\tvalid_0's binary_logloss: 0.172406\tvalid_1's binary_logloss: 0.310968\n",
      "[300]\tvalid_0's binary_logloss: 0.166393\tvalid_1's binary_logloss: 0.311935\n"
     ]
    },
    {
     "name": "stderr",
     "output_type": "stream",
     "text": [
      "feature_fraction_stage2, val_score: 0.310613:  67%|#########################3            | 2/3 [00:11<00:05,  5.88s/it]\u001b[32m[I 2023-02-25 21:47:30,646]\u001b[0m Trial 38 finished with value: 0.31061286171007707 and parameters: {'feature_fraction': 0.44800000000000006}. Best is trial 37 with value: 0.31061286171007707.\u001b[0m\n",
      "feature_fraction_stage2, val_score: 0.310613:  67%|#########################3            | 2/3 [00:11<00:05,  5.88s/it]"
     ]
    },
    {
     "name": "stdout",
     "output_type": "stream",
     "text": [
      "Early stopping, best iteration is:\n",
      "[285]\tvalid_0's binary_logloss: 0.177269\tvalid_1's binary_logloss: 0.310613\n",
      "[100]\tvalid_0's binary_logloss: 0.182248\tvalid_1's binary_logloss: 0.311183\n",
      "[200]\tvalid_0's binary_logloss: 0.172406\tvalid_1's binary_logloss: 0.310968\n",
      "[300]\tvalid_0's binary_logloss: 0.166393\tvalid_1's binary_logloss: 0.311935\n"
     ]
    },
    {
     "name": "stderr",
     "output_type": "stream",
     "text": [
      "feature_fraction_stage2, val_score: 0.310613: 100%|######################################| 3/3 [00:18<00:00,  6.14s/it]\u001b[32m[I 2023-02-25 21:47:37,105]\u001b[0m Trial 39 finished with value: 0.31061286171007707 and parameters: {'feature_fraction': 0.41600000000000004}. Best is trial 37 with value: 0.31061286171007707.\u001b[0m\n",
      "feature_fraction_stage2, val_score: 0.310613: 100%|######################################| 3/3 [00:18<00:00,  6.15s/it]\n"
     ]
    },
    {
     "name": "stdout",
     "output_type": "stream",
     "text": [
      "Early stopping, best iteration is:\n",
      "[285]\tvalid_0's binary_logloss: 0.177269\tvalid_1's binary_logloss: 0.310613\n"
     ]
    },
    {
     "name": "stderr",
     "output_type": "stream",
     "text": [
      "regularization_factors, val_score: 0.310613:   0%|                                              | 0/20 [00:00<?, ?it/s]"
     ]
    },
    {
     "name": "stdout",
     "output_type": "stream",
     "text": [
      "[100]\tvalid_0's binary_logloss: 0.182813\tvalid_1's binary_logloss: 0.311444\n",
      "[200]\tvalid_0's binary_logloss: 0.172994\tvalid_1's binary_logloss: 0.311557\n",
      "[300]\tvalid_0's binary_logloss: 0.167447\tvalid_1's binary_logloss: 0.312604\n"
     ]
    },
    {
     "name": "stderr",
     "output_type": "stream",
     "text": [
      "regularization_factors, val_score: 0.310613:   5%|#9                                    | 1/20 [00:06<02:10,  6.87s/it]\u001b[32m[I 2023-02-25 21:47:43,976]\u001b[0m Trial 40 finished with value: 0.31061286171007707 and parameters: {'lambda_l1': 1.4932481749991e-08, 'lambda_l2': 0.003740130851037033}. Best is trial 40 with value: 0.31061286171007707.\u001b[0m\n",
      "regularization_factors, val_score: 0.310613:   5%|#9                                    | 1/20 [00:06<02:10,  6.87s/it]"
     ]
    },
    {
     "name": "stdout",
     "output_type": "stream",
     "text": [
      "Early stopping, best iteration is:\n",
      "[285]\tvalid_0's binary_logloss: 0.177269\tvalid_1's binary_logloss: 0.310613\n",
      "[100]\tvalid_0's binary_logloss: 0.182887\tvalid_1's binary_logloss: 0.311419\n",
      "[200]\tvalid_0's binary_logloss: 0.173068\tvalid_1's binary_logloss: 0.311232\n",
      "[300]\tvalid_0's binary_logloss: 0.167898\tvalid_1's binary_logloss: 0.312292\n"
     ]
    },
    {
     "name": "stderr",
     "output_type": "stream",
     "text": [
      "regularization_factors, val_score: 0.310613:  10%|###8                                  | 2/20 [00:13<02:02,  6.78s/it]\u001b[32m[I 2023-02-25 21:47:50,695]\u001b[0m Trial 41 finished with value: 0.31061286171007707 and parameters: {'lambda_l1': 1.0470467853630542e-05, 'lambda_l2': 7.119999421698662e-08}. Best is trial 40 with value: 0.31061286171007707.\u001b[0m\n",
      "regularization_factors, val_score: 0.310613:  10%|###8                                  | 2/20 [00:13<02:02,  6.78s/it]"
     ]
    },
    {
     "name": "stdout",
     "output_type": "stream",
     "text": [
      "Early stopping, best iteration is:\n",
      "[285]\tvalid_0's binary_logloss: 0.177269\tvalid_1's binary_logloss: 0.310613\n",
      "[100]\tvalid_0's binary_logloss: 0.182887\tvalid_1's binary_logloss: 0.311419\n",
      "[200]\tvalid_0's binary_logloss: 0.172958\tvalid_1's binary_logloss: 0.311331\n",
      "[300]\tvalid_0's binary_logloss: 0.167786\tvalid_1's binary_logloss: 0.312112\n"
     ]
    },
    {
     "name": "stderr",
     "output_type": "stream",
     "text": [
      "regularization_factors, val_score: 0.310613:  15%|#####7                                | 3/20 [00:20<01:53,  6.65s/it]\u001b[32m[I 2023-02-25 21:47:57,185]\u001b[0m Trial 42 finished with value: 0.31061286171007707 and parameters: {'lambda_l1': 3.3106502506263514e-07, 'lambda_l2': 1.5336032688554733e-07}. Best is trial 40 with value: 0.31061286171007707.\u001b[0m\n",
      "regularization_factors, val_score: 0.310613:  15%|#####7                                | 3/20 [00:20<01:53,  6.65s/it]"
     ]
    },
    {
     "name": "stdout",
     "output_type": "stream",
     "text": [
      "Early stopping, best iteration is:\n",
      "[285]\tvalid_0's binary_logloss: 0.177269\tvalid_1's binary_logloss: 0.310613\n",
      "[100]\tvalid_0's binary_logloss: 0.183334\tvalid_1's binary_logloss: 0.311177\n",
      "[200]\tvalid_0's binary_logloss: 0.174549\tvalid_1's binary_logloss: 0.310842\n"
     ]
    },
    {
     "name": "stderr",
     "output_type": "stream",
     "text": [
      "regularization_factors, val_score: 0.310575:  20%|#######6                              | 4/20 [00:27<01:51,  7.00s/it]\u001b[32m[I 2023-02-25 21:48:04,721]\u001b[0m Trial 43 finished with value: 0.31057546985444096 and parameters: {'lambda_l1': 1.5365335868465273, 'lambda_l2': 4.739043940200659e-08}. Best is trial 43 with value: 0.31057546985444096.\u001b[0m\n",
      "regularization_factors, val_score: 0.310575:  20%|#######6                              | 4/20 [00:27<01:51,  7.00s/it]"
     ]
    },
    {
     "name": "stdout",
     "output_type": "stream",
     "text": [
      "Early stopping, best iteration is:\n",
      "[155]\tvalid_0's binary_logloss: 0.177496\tvalid_1's binary_logloss: 0.310575\n",
      "[100]\tvalid_0's binary_logloss: 0.182805\tvalid_1's binary_logloss: 0.311505\n",
      "[200]\tvalid_0's binary_logloss: 0.172924\tvalid_1's binary_logloss: 0.311354\n"
     ]
    },
    {
     "name": "stderr",
     "output_type": "stream",
     "text": [
      "regularization_factors, val_score: 0.310575:  25%|#########5                            | 5/20 [00:32<01:33,  6.22s/it]\u001b[32m[I 2023-02-25 21:48:09,570]\u001b[0m Trial 44 finished with value: 0.31057546985444096 and parameters: {'lambda_l1': 5.540578893438571e-08, 'lambda_l2': 0.012934476852915749}. Best is trial 43 with value: 0.31057546985444096.\u001b[0m\n",
      "regularization_factors, val_score: 0.310575:  25%|#########5                            | 5/20 [00:32<01:33,  6.22s/it]"
     ]
    },
    {
     "name": "stdout",
     "output_type": "stream",
     "text": [
      "Early stopping, best iteration is:\n",
      "[155]\tvalid_0's binary_logloss: 0.177496\tvalid_1's binary_logloss: 0.310575\n",
      "[100]\tvalid_0's binary_logloss: 0.183235\tvalid_1's binary_logloss: 0.311324\n",
      "[200]\tvalid_0's binary_logloss: 0.173974\tvalid_1's binary_logloss: 0.31111\n"
     ]
    },
    {
     "name": "stderr",
     "output_type": "stream",
     "text": [
      "regularization_factors, val_score: 0.310575:  30%|###########4                          | 6/20 [00:36<01:18,  5.62s/it]\u001b[32m[I 2023-02-25 21:48:14,012]\u001b[0m Trial 45 finished with value: 0.31057546985444096 and parameters: {'lambda_l1': 5.0654922617475225e-06, 'lambda_l2': 1.2825403115186136}. Best is trial 43 with value: 0.31057546985444096.\u001b[0m\n",
      "regularization_factors, val_score: 0.310575:  30%|###########4                          | 6/20 [00:36<01:18,  5.62s/it]"
     ]
    },
    {
     "name": "stdout",
     "output_type": "stream",
     "text": [
      "Early stopping, best iteration is:\n",
      "[155]\tvalid_0's binary_logloss: 0.177496\tvalid_1's binary_logloss: 0.310575\n",
      "[100]\tvalid_0's binary_logloss: 0.182887\tvalid_1's binary_logloss: 0.311419\n",
      "[200]\tvalid_0's binary_logloss: 0.172958\tvalid_1's binary_logloss: 0.311329\n"
     ]
    },
    {
     "name": "stderr",
     "output_type": "stream",
     "text": [
      "regularization_factors, val_score: 0.310575:  35%|#############3                        | 7/20 [00:40<01:06,  5.08s/it]\u001b[32m[I 2023-02-25 21:48:17,985]\u001b[0m Trial 46 finished with value: 0.31057546985444096 and parameters: {'lambda_l1': 1.2788081855306256e-06, 'lambda_l2': 8.775712018531651e-08}. Best is trial 43 with value: 0.31057546985444096.\u001b[0m\n",
      "regularization_factors, val_score: 0.310575:  35%|#############3                        | 7/20 [00:40<01:06,  5.08s/it]"
     ]
    },
    {
     "name": "stdout",
     "output_type": "stream",
     "text": [
      "Early stopping, best iteration is:\n",
      "[155]\tvalid_0's binary_logloss: 0.177496\tvalid_1's binary_logloss: 0.310575\n",
      "[100]\tvalid_0's binary_logloss: 0.182816\tvalid_1's binary_logloss: 0.311452\n",
      "[200]\tvalid_0's binary_logloss: 0.173026\tvalid_1's binary_logloss: 0.311281\n"
     ]
    },
    {
     "name": "stderr",
     "output_type": "stream",
     "text": [
      "regularization_factors, val_score: 0.310575:  40%|###############2                      | 8/20 [00:45<00:58,  4.91s/it]\u001b[32m[I 2023-02-25 21:48:22,527]\u001b[0m Trial 47 finished with value: 0.31057546985444096 and parameters: {'lambda_l1': 1.5615869670197322e-05, 'lambda_l2': 0.01923016715384174}. Best is trial 43 with value: 0.31057546985444096.\u001b[0m\n",
      "regularization_factors, val_score: 0.310575:  40%|###############2                      | 8/20 [00:45<00:58,  4.91s/it]"
     ]
    },
    {
     "name": "stdout",
     "output_type": "stream",
     "text": [
      "Early stopping, best iteration is:\n",
      "[155]\tvalid_0's binary_logloss: 0.177496\tvalid_1's binary_logloss: 0.310575\n",
      "[100]\tvalid_0's binary_logloss: 0.182838\tvalid_1's binary_logloss: 0.311472\n",
      "[200]\tvalid_0's binary_logloss: 0.173123\tvalid_1's binary_logloss: 0.311469\n"
     ]
    },
    {
     "name": "stderr",
     "output_type": "stream",
     "text": [
      "regularization_factors, val_score: 0.310575:  45%|#################1                    | 9/20 [00:50<00:53,  4.85s/it]\u001b[32m[I 2023-02-25 21:48:27,255]\u001b[0m Trial 48 finished with value: 0.31057546985444096 and parameters: {'lambda_l1': 0.02538130830480609, 'lambda_l2': 7.637935405948656e-05}. Best is trial 43 with value: 0.31057546985444096.\u001b[0m\n",
      "regularization_factors, val_score: 0.310575:  45%|#################1                    | 9/20 [00:50<00:53,  4.85s/it]"
     ]
    },
    {
     "name": "stdout",
     "output_type": "stream",
     "text": [
      "Early stopping, best iteration is:\n",
      "[155]\tvalid_0's binary_logloss: 0.177496\tvalid_1's binary_logloss: 0.310575\n",
      "[100]\tvalid_0's binary_logloss: 0.182813\tvalid_1's binary_logloss: 0.311447\n",
      "[200]\tvalid_0's binary_logloss: 0.17302\tvalid_1's binary_logloss: 0.311434\n"
     ]
    },
    {
     "name": "stderr",
     "output_type": "stream",
     "text": [
      "regularization_factors, val_score: 0.310575:  50%|##################5                  | 10/20 [00:54<00:48,  4.80s/it]\u001b[32m[I 2023-02-25 21:48:31,947]\u001b[0m Trial 49 finished with value: 0.31057546985444096 and parameters: {'lambda_l1': 0.0026037126839956767, 'lambda_l2': 1.6628745768664682e-08}. Best is trial 43 with value: 0.31057546985444096.\u001b[0m\n",
      "regularization_factors, val_score: 0.310575:  50%|##################5                  | 10/20 [00:54<00:48,  4.80s/it]"
     ]
    },
    {
     "name": "stdout",
     "output_type": "stream",
     "text": [
      "Early stopping, best iteration is:\n",
      "[155]\tvalid_0's binary_logloss: 0.177496\tvalid_1's binary_logloss: 0.310575\n",
      "[100]\tvalid_0's binary_logloss: 0.185744\tvalid_1's binary_logloss: 0.311409\n",
      "[200]\tvalid_0's binary_logloss: 0.178874\tvalid_1's binary_logloss: 0.31059\n"
     ]
    },
    {
     "name": "stderr",
     "output_type": "stream",
     "text": [
      "regularization_factors, val_score: 0.310565:  55%|####################3                | 11/20 [00:59<00:41,  4.65s/it]\u001b[32m[I 2023-02-25 21:48:36,247]\u001b[0m Trial 50 finished with value: 0.31056498540250593 and parameters: {'lambda_l1': 7.2708165592182175, 'lambda_l2': 5.777735415669342e-06}. Best is trial 50 with value: 0.31056498540250593.\u001b[0m\n",
      "regularization_factors, val_score: 0.310565:  55%|####################3                | 11/20 [00:59<00:41,  4.65s/it]"
     ]
    },
    {
     "name": "stdout",
     "output_type": "stream",
     "text": [
      "Early stopping, best iteration is:\n",
      "[172]\tvalid_0's binary_logloss: 0.180027\tvalid_1's binary_logloss: 0.310565\n",
      "[100]\tvalid_0's binary_logloss: 0.186833\tvalid_1's binary_logloss: 0.311657\n",
      "[200]\tvalid_0's binary_logloss: 0.180345\tvalid_1's binary_logloss: 0.310633\n"
     ]
    },
    {
     "name": "stderr",
     "output_type": "stream",
     "text": [
      "regularization_factors, val_score: 0.310565:  60%|######################2              | 12/20 [01:03<00:36,  4.55s/it]\u001b[32m[I 2023-02-25 21:48:40,560]\u001b[0m Trial 51 finished with value: 0.31056498540250593 and parameters: {'lambda_l1': 9.983467079679677, 'lambda_l2': 2.6512413550898597e-05}. Best is trial 50 with value: 0.31056498540250593.\u001b[0m\n",
      "regularization_factors, val_score: 0.310565:  60%|######################2              | 12/20 [01:03<00:36,  4.55s/it]"
     ]
    },
    {
     "name": "stdout",
     "output_type": "stream",
     "text": [
      "Early stopping, best iteration is:\n",
      "[172]\tvalid_0's binary_logloss: 0.180027\tvalid_1's binary_logloss: 0.310565\n",
      "[100]\tvalid_0's binary_logloss: 0.18519\tvalid_1's binary_logloss: 0.311248\n",
      "[200]\tvalid_0's binary_logloss: 0.178123\tvalid_1's binary_logloss: 0.310568\n"
     ]
    },
    {
     "name": "stderr",
     "output_type": "stream",
     "text": [
      "regularization_factors, val_score: 0.310530:  65%|########################             | 13/20 [01:07<00:31,  4.47s/it]\u001b[32m[I 2023-02-25 21:48:44,845]\u001b[0m Trial 52 finished with value: 0.3105302828889827 and parameters: {'lambda_l1': 6.017810766760313, 'lambda_l2': 8.96980628107881e-06}. Best is trial 52 with value: 0.3105302828889827.\u001b[0m\n",
      "regularization_factors, val_score: 0.310530:  65%|########################             | 13/20 [01:07<00:31,  4.47s/it]"
     ]
    },
    {
     "name": "stdout",
     "output_type": "stream",
     "text": [
      "Early stopping, best iteration is:\n",
      "[165]\tvalid_0's binary_logloss: 0.179726\tvalid_1's binary_logloss: 0.31053\n",
      "[100]\tvalid_0's binary_logloss: 0.182858\tvalid_1's binary_logloss: 0.311274\n",
      "[200]\tvalid_0's binary_logloss: 0.173271\tvalid_1's binary_logloss: 0.311126\n"
     ]
    },
    {
     "name": "stderr",
     "output_type": "stream",
     "text": [
      "regularization_factors, val_score: 0.310530:  70%|#########################9           | 14/20 [01:11<00:26,  4.39s/it]\u001b[32m[I 2023-02-25 21:48:49,042]\u001b[0m Trial 53 finished with value: 0.3105302828889827 and parameters: {'lambda_l1': 0.36594232669787835, 'lambda_l2': 6.061585737701241e-06}. Best is trial 52 with value: 0.3105302828889827.\u001b[0m\n",
      "regularization_factors, val_score: 0.310530:  70%|#########################9           | 14/20 [01:11<00:26,  4.39s/it]"
     ]
    },
    {
     "name": "stdout",
     "output_type": "stream",
     "text": [
      "Early stopping, best iteration is:\n",
      "[165]\tvalid_0's binary_logloss: 0.179726\tvalid_1's binary_logloss: 0.31053\n",
      "[100]\tvalid_0's binary_logloss: 0.182899\tvalid_1's binary_logloss: 0.311191\n",
      "[200]\tvalid_0's binary_logloss: 0.173203\tvalid_1's binary_logloss: 0.311095\n"
     ]
    },
    {
     "name": "stderr",
     "output_type": "stream",
     "text": [
      "regularization_factors, val_score: 0.310530:  75%|###########################7         | 15/20 [01:16<00:21,  4.38s/it]\u001b[32m[I 2023-02-25 21:48:53,396]\u001b[0m Trial 54 finished with value: 0.3105302828889827 and parameters: {'lambda_l1': 0.2418424475306721, 'lambda_l2': 4.083897914365119e-06}. Best is trial 52 with value: 0.3105302828889827.\u001b[0m\n",
      "regularization_factors, val_score: 0.310530:  75%|###########################7         | 15/20 [01:16<00:21,  4.38s/it]"
     ]
    },
    {
     "name": "stdout",
     "output_type": "stream",
     "text": [
      "Early stopping, best iteration is:\n",
      "[165]\tvalid_0's binary_logloss: 0.179726\tvalid_1's binary_logloss: 0.31053\n",
      "[100]\tvalid_0's binary_logloss: 0.182883\tvalid_1's binary_logloss: 0.311261\n",
      "[200]\tvalid_0's binary_logloss: 0.173048\tvalid_1's binary_logloss: 0.31102\n"
     ]
    },
    {
     "name": "stderr",
     "output_type": "stream",
     "text": [
      "regularization_factors, val_score: 0.310530:  80%|#############################6       | 16/20 [01:20<00:16,  4.25s/it]\u001b[32m[I 2023-02-25 21:48:57,339]\u001b[0m Trial 55 finished with value: 0.3105302828889827 and parameters: {'lambda_l1': 0.16002558503098097, 'lambda_l2': 1.1448641695048164e-06}. Best is trial 52 with value: 0.3105302828889827.\u001b[0m\n",
      "regularization_factors, val_score: 0.310530:  80%|#############################6       | 16/20 [01:20<00:16,  4.25s/it]"
     ]
    },
    {
     "name": "stdout",
     "output_type": "stream",
     "text": [
      "Early stopping, best iteration is:\n",
      "[165]\tvalid_0's binary_logloss: 0.179726\tvalid_1's binary_logloss: 0.31053\n",
      "[100]\tvalid_0's binary_logloss: 0.182791\tvalid_1's binary_logloss: 0.31144\n",
      "[200]\tvalid_0's binary_logloss: 0.173002\tvalid_1's binary_logloss: 0.311454\n"
     ]
    },
    {
     "name": "stderr",
     "output_type": "stream",
     "text": [
      "regularization_factors, val_score: 0.310530:  85%|###############################4     | 17/20 [01:24<00:12,  4.19s/it]\u001b[32m[I 2023-02-25 21:49:01,394]\u001b[0m Trial 56 finished with value: 0.3105302828889827 and parameters: {'lambda_l1': 0.0023672883709550574, 'lambda_l2': 0.00042936504196791473}. Best is trial 52 with value: 0.3105302828889827.\u001b[0m\n",
      "regularization_factors, val_score: 0.310530:  85%|###############################4     | 17/20 [01:24<00:12,  4.19s/it]"
     ]
    },
    {
     "name": "stdout",
     "output_type": "stream",
     "text": [
      "Early stopping, best iteration is:\n",
      "[165]\tvalid_0's binary_logloss: 0.179726\tvalid_1's binary_logloss: 0.31053\n",
      "[100]\tvalid_0's binary_logloss: 0.182926\tvalid_1's binary_logloss: 0.31123\n",
      "[200]\tvalid_0's binary_logloss: 0.173349\tvalid_1's binary_logloss: 0.311124\n"
     ]
    },
    {
     "name": "stderr",
     "output_type": "stream",
     "text": [
      "regularization_factors, val_score: 0.310530:  90%|#################################3   | 18/20 [01:28<00:08,  4.29s/it]\u001b[32m[I 2023-02-25 21:49:05,915]\u001b[0m Trial 57 finished with value: 0.3105302828889827 and parameters: {'lambda_l1': 0.517115986625373, 'lambda_l2': 6.91226526364529e-07}. Best is trial 52 with value: 0.3105302828889827.\u001b[0m\n",
      "regularization_factors, val_score: 0.310530:  90%|#################################3   | 18/20 [01:28<00:08,  4.29s/it]"
     ]
    },
    {
     "name": "stdout",
     "output_type": "stream",
     "text": [
      "Early stopping, best iteration is:\n",
      "[165]\tvalid_0's binary_logloss: 0.179726\tvalid_1's binary_logloss: 0.31053\n",
      "[100]\tvalid_0's binary_logloss: 0.182845\tvalid_1's binary_logloss: 0.311443\n",
      "[200]\tvalid_0's binary_logloss: 0.17304\tvalid_1's binary_logloss: 0.31141\n"
     ]
    },
    {
     "name": "stderr",
     "output_type": "stream",
     "text": [
      "regularization_factors, val_score: 0.310530:  95%|###################################1 | 19/20 [01:33<00:04,  4.54s/it]\u001b[32m[I 2023-02-25 21:49:11,040]\u001b[0m Trial 58 finished with value: 0.3105302828889827 and parameters: {'lambda_l1': 0.03553699991889763, 'lambda_l2': 2.793118596607379e-05}. Best is trial 52 with value: 0.3105302828889827.\u001b[0m\n",
      "regularization_factors, val_score: 0.310530:  95%|###################################1 | 19/20 [01:33<00:04,  4.54s/it]"
     ]
    },
    {
     "name": "stdout",
     "output_type": "stream",
     "text": [
      "Early stopping, best iteration is:\n",
      "[165]\tvalid_0's binary_logloss: 0.179726\tvalid_1's binary_logloss: 0.31053\n",
      "[100]\tvalid_0's binary_logloss: 0.183371\tvalid_1's binary_logloss: 0.311101\n",
      "[200]\tvalid_0's binary_logloss: 0.174863\tvalid_1's binary_logloss: 0.310797\n"
     ]
    },
    {
     "name": "stderr",
     "output_type": "stream",
     "text": [
      "regularization_factors, val_score: 0.310513: 100%|#####################################| 20/20 [01:38<00:00,  4.61s/it]\u001b[32m[I 2023-02-25 21:49:15,825]\u001b[0m Trial 59 finished with value: 0.31051278184307224 and parameters: {'lambda_l1': 1.7169730606852716, 'lambda_l2': 0.000254776765891168}. Best is trial 59 with value: 0.31051278184307224.\u001b[0m\n",
      "regularization_factors, val_score: 0.310513: 100%|#####################################| 20/20 [01:38<00:00,  4.94s/it]\n"
     ]
    },
    {
     "name": "stdout",
     "output_type": "stream",
     "text": [
      "Early stopping, best iteration is:\n",
      "[160]\tvalid_0's binary_logloss: 0.177237\tvalid_1's binary_logloss: 0.310513\n"
     ]
    },
    {
     "name": "stderr",
     "output_type": "stream",
     "text": [
      "min_data_in_leaf, val_score: 0.310513:   0%|                                                     | 0/5 [00:00<?, ?it/s]"
     ]
    },
    {
     "name": "stdout",
     "output_type": "stream",
     "text": [
      "[100]\tvalid_0's binary_logloss: 0.183405\tvalid_1's binary_logloss: 0.311149\n",
      "[200]\tvalid_0's binary_logloss: 0.174865\tvalid_1's binary_logloss: 0.310867\n"
     ]
    },
    {
     "name": "stderr",
     "output_type": "stream",
     "text": [
      "min_data_in_leaf, val_score: 0.310513:  20%|#########                                    | 1/5 [00:04<00:18,  4.60s/it]\u001b[32m[I 2023-02-25 21:49:20,433]\u001b[0m Trial 60 finished with value: 0.31051278184307224 and parameters: {'min_child_samples': 50}. Best is trial 60 with value: 0.31051278184307224.\u001b[0m\n",
      "min_data_in_leaf, val_score: 0.310513:  20%|#########                                    | 1/5 [00:04<00:18,  4.60s/it]"
     ]
    },
    {
     "name": "stdout",
     "output_type": "stream",
     "text": [
      "Early stopping, best iteration is:\n",
      "[160]\tvalid_0's binary_logloss: 0.177237\tvalid_1's binary_logloss: 0.310513\n",
      "[100]\tvalid_0's binary_logloss: 0.183418\tvalid_1's binary_logloss: 0.311172\n",
      "[200]\tvalid_0's binary_logloss: 0.174757\tvalid_1's binary_logloss: 0.310784\n"
     ]
    },
    {
     "name": "stderr",
     "output_type": "stream",
     "text": [
      "min_data_in_leaf, val_score: 0.310513:  40%|##################                           | 2/5 [00:08<00:12,  4.22s/it]\u001b[32m[I 2023-02-25 21:49:24,393]\u001b[0m Trial 61 finished with value: 0.31051278184307224 and parameters: {'min_child_samples': 5}. Best is trial 60 with value: 0.31051278184307224.\u001b[0m\n",
      "min_data_in_leaf, val_score: 0.310513:  40%|##################                           | 2/5 [00:08<00:12,  4.22s/it]"
     ]
    },
    {
     "name": "stdout",
     "output_type": "stream",
     "text": [
      "Early stopping, best iteration is:\n",
      "[160]\tvalid_0's binary_logloss: 0.177237\tvalid_1's binary_logloss: 0.310513\n",
      "[100]\tvalid_0's binary_logloss: 0.183375\tvalid_1's binary_logloss: 0.311201\n",
      "[200]\tvalid_0's binary_logloss: 0.174761\tvalid_1's binary_logloss: 0.310902\n"
     ]
    },
    {
     "name": "stderr",
     "output_type": "stream",
     "text": [
      "min_data_in_leaf, val_score: 0.310513:  60%|###########################                  | 3/5 [00:12<00:08,  4.11s/it]\u001b[32m[I 2023-02-25 21:49:28,368]\u001b[0m Trial 62 finished with value: 0.31051278184307224 and parameters: {'min_child_samples': 25}. Best is trial 60 with value: 0.31051278184307224.\u001b[0m\n",
      "min_data_in_leaf, val_score: 0.310513:  60%|###########################                  | 3/5 [00:12<00:08,  4.11s/it]"
     ]
    },
    {
     "name": "stdout",
     "output_type": "stream",
     "text": [
      "Early stopping, best iteration is:\n",
      "[160]\tvalid_0's binary_logloss: 0.177237\tvalid_1's binary_logloss: 0.310513\n",
      "[100]\tvalid_0's binary_logloss: 0.183496\tvalid_1's binary_logloss: 0.311238\n",
      "[200]\tvalid_0's binary_logloss: 0.174992\tvalid_1's binary_logloss: 0.311043\n"
     ]
    },
    {
     "name": "stderr",
     "output_type": "stream",
     "text": [
      "min_data_in_leaf, val_score: 0.310513:  80%|####################################         | 4/5 [00:16<00:04,  4.20s/it]\u001b[32m[I 2023-02-25 21:49:32,705]\u001b[0m Trial 63 finished with value: 0.31051278184307224 and parameters: {'min_child_samples': 100}. Best is trial 60 with value: 0.31051278184307224.\u001b[0m\n",
      "min_data_in_leaf, val_score: 0.310513:  80%|####################################         | 4/5 [00:16<00:04,  4.20s/it]"
     ]
    },
    {
     "name": "stdout",
     "output_type": "stream",
     "text": [
      "Early stopping, best iteration is:\n",
      "[160]\tvalid_0's binary_logloss: 0.177237\tvalid_1's binary_logloss: 0.310513\n",
      "[100]\tvalid_0's binary_logloss: 0.183395\tvalid_1's binary_logloss: 0.311135\n",
      "[200]\tvalid_0's binary_logloss: 0.17461\tvalid_1's binary_logloss: 0.310925\n"
     ]
    },
    {
     "name": "stderr",
     "output_type": "stream",
     "text": [
      "min_data_in_leaf, val_score: 0.310513: 100%|#############################################| 5/5 [00:20<00:00,  4.14s/it]\u001b[32m[I 2023-02-25 21:49:36,727]\u001b[0m Trial 64 finished with value: 0.31051278184307224 and parameters: {'min_child_samples': 10}. Best is trial 60 with value: 0.31051278184307224.\u001b[0m\n",
      "min_data_in_leaf, val_score: 0.310513: 100%|#############################################| 5/5 [00:20<00:00,  4.18s/it]"
     ]
    },
    {
     "name": "stdout",
     "output_type": "stream",
     "text": [
      "Early stopping, best iteration is:\n",
      "[160]\tvalid_0's binary_logloss: 0.177237\tvalid_1's binary_logloss: 0.310513\n"
     ]
    },
    {
     "name": "stderr",
     "output_type": "stream",
     "text": [
      "\n"
     ]
    }
   ],
   "source": [
    "# hyperparamter tuning\n",
    "import sklearn.datasets\n",
    "\n",
    "dtrain = lgb.Dataset(X_train, label=y_train)\n",
    "dval = lgb.Dataset(X_test, label=y_test)\n",
    "\n",
    "params = {\n",
    "    \"objective\": \"binary\",\n",
    "    \"metric\": \"binary_logloss\",\n",
    "    \"verbosity\": -1,\n",
    "    \"boosting_type\": \"gbdt\",\n",
    "}\n",
    "\n",
    "lgbm_tuned = lgb.train(\n",
    "    params,\n",
    "    dtrain,\n",
    "    valid_sets=[dtrain, dval],\n",
    "    callbacks=[early_stopping(100), log_evaluation(100)],\n",
    ")"
   ]
  },
  {
   "cell_type": "code",
   "execution_count": 15,
   "id": "c2de0440",
   "metadata": {},
   "outputs": [
    {
     "name": "stdout",
     "output_type": "stream",
     "text": [
      "Best params: {'objective': 'binary', 'metric': 'binary_logloss', 'verbosity': -1, 'boosting_type': 'gbdt', 'feature_pre_filter': False, 'lambda_l1': 1.7169730606852716, 'lambda_l2': 0.000254776765891168, 'num_leaves': 106, 'feature_fraction': 0.4, 'bagging_fraction': 1.0, 'bagging_freq': 0, 'min_child_samples': 20, 'num_iterations': 1000, 'early_stopping_round': None}\n",
      "  Accuracy = 0.8678177231157364\n"
     ]
    }
   ],
   "source": [
    "prediction = np.rint(lgbm_tuned.predict(X_test, num_iteration=lgbm_tuned.best_iteration))\n",
    "accuracy = accuracy_score(y_test, prediction)\n",
    "\n",
    "best_params = lgbm_tuned.params\n",
    "print(\"Best params:\", best_params)\n",
    "print(\"  Accuracy = {}\".format(accuracy))\n",
    "lgbm_tuned = LGBMClassifier(best_params)"
   ]
  },
  {
   "cell_type": "code",
   "execution_count": 20,
   "id": "e173b249",
   "metadata": {},
   "outputs": [
    {
     "data": {
      "text/plain": [
       "<AxesSubplot: title={'center': 'Feature importance'}, xlabel='Feature importance', ylabel='Features'>"
      ]
     },
     "execution_count": 20,
     "metadata": {},
     "output_type": "execute_result"
    },
    {
     "data": {
      "image/png": "[encoded data removed]",
      "text/plain": [
       "<Figure size 640x480 with 1 Axes>"
      ]
     },
     "metadata": {},
     "output_type": "display_data"
    }
   ],
   "source": [
    "lgbm_tuned = LGBMClassifier(**best_params).fit(X_train,y_train)\n",
    "lightgbm.plot_importance(lgbm_tuned)"
   ]
  },
  {
   "cell_type": "code",
   "execution_count": 21,
   "id": "5f7fa65c",
   "metadata": {},
   "outputs": [
    {
     "data": {
      "text/html": [
       "<div>\n",
       "<style scoped>\n",
       "    .dataframe tbody tr th:only-of-type {\n",
       "        vertical-align: middle;\n",
       "    }\n",
       "\n",
       "    .dataframe tbody tr th {\n",
       "        vertical-align: top;\n",
       "    }\n",
       "\n",
       "    .dataframe thead th {\n",
       "        text-align: right;\n",
       "    }\n",
       "</style>\n",
       "<table border=\"1\" class=\"dataframe\">\n",
       "  <thead>\n",
       "    <tr style=\"text-align: right;\">\n",
       "      <th></th>\n",
       "      <th>Name</th>\n",
       "      <th>fit_time</th>\n",
       "      <th>test_accuracy</th>\n",
       "      <th>train_accuracy</th>\n",
       "      <th>test_f1</th>\n",
       "      <th>train_f1</th>\n",
       "      <th>test_precision</th>\n",
       "      <th>train_precision</th>\n",
       "      <th>test_recall</th>\n",
       "      <th>train_recall</th>\n",
       "    </tr>\n",
       "  </thead>\n",
       "  <tbody>\n",
       "    <tr>\n",
       "      <th>1</th>\n",
       "      <td>XGBClassifier</td>\n",
       "      <td>22.7</td>\n",
       "      <td>0.898</td>\n",
       "      <td>0.93</td>\n",
       "      <td>0.872</td>\n",
       "      <td>0.926</td>\n",
       "      <td>0.965</td>\n",
       "      <td>0.964</td>\n",
       "      <td>0.834</td>\n",
       "      <td>0.892</td>\n",
       "    </tr>\n",
       "    <tr>\n",
       "      <th>3</th>\n",
       "      <td>LGBMClassifier</td>\n",
       "      <td>22.5</td>\n",
       "      <td>0.898</td>\n",
       "      <td>0.946</td>\n",
       "      <td>0.873</td>\n",
       "      <td>0.943</td>\n",
       "      <td>0.963</td>\n",
       "      <td>0.978</td>\n",
       "      <td>0.836</td>\n",
       "      <td>0.911</td>\n",
       "    </tr>\n",
       "    <tr>\n",
       "      <th>2</th>\n",
       "      <td>LGBMClassifier</td>\n",
       "      <td>2.35</td>\n",
       "      <td>0.895</td>\n",
       "      <td>0.925</td>\n",
       "      <td>0.868</td>\n",
       "      <td>0.921</td>\n",
       "      <td>0.961</td>\n",
       "      <td>0.955</td>\n",
       "      <td>0.831</td>\n",
       "      <td>0.889</td>\n",
       "    </tr>\n",
       "    <tr>\n",
       "      <th>0</th>\n",
       "      <td>LogisticRegression</td>\n",
       "      <td>2.09</td>\n",
       "      <td>0.75</td>\n",
       "      <td>0.75</td>\n",
       "      <td>0.757</td>\n",
       "      <td>0.757</td>\n",
       "      <td>0.736</td>\n",
       "      <td>0.736</td>\n",
       "      <td>0.779</td>\n",
       "      <td>0.78</td>\n",
       "    </tr>\n",
       "  </tbody>\n",
       "</table>\n",
       "</div>"
      ],
      "text/plain": [
       "                 Name fit_time test_accuracy train_accuracy test_f1 train_f1  \\\n",
       "1       XGBClassifier     22.7         0.898           0.93   0.872    0.926   \n",
       "3      LGBMClassifier     22.5         0.898          0.946   0.873    0.943   \n",
       "2      LGBMClassifier     2.35         0.895          0.925   0.868    0.921   \n",
       "0  LogisticRegression     2.09          0.75           0.75   0.757    0.757   \n",
       "\n",
       "  test_precision train_precision test_recall train_recall  \n",
       "1          0.965           0.964       0.834        0.892  \n",
       "3          0.963           0.978       0.836        0.911  \n",
       "2          0.961           0.955       0.831        0.889  \n",
       "0          0.736           0.736       0.779         0.78  "
      ]
     },
     "execution_count": 21,
     "metadata": {},
     "output_type": "execute_result"
    }
   ],
   "source": [
    "models = [#DecisionTreeClassifier(),RandomForestClassifier(),SVC(),\n",
    "          LogisticRegression(),XGBClassifier(),LGBMClassifier(),LGBMClassifier(**best_params)]\n",
    "scoring = ['accuracy','f1','precision','recall']\n",
    "models_columns = ['Name','fit_time','test_accuracy','train_accuracy',\n",
    "                  'test_f1','train_f1','test_precision','train_precision',\n",
    "                 'test_recall','train_recall']\n",
    "models_chart = pd.DataFrame(columns = models_columns)\n",
    "\n",
    "row_index = 0\n",
    "for model in models:\n",
    "    model_name = model.__class__.__name__\n",
    "    models_chart.loc[row_index,'Name'] = model_name\n",
    "    \n",
    "    cv_results = cross_validate(model,X_train,y_train,cv =3,scoring = scoring,return_train_score = True,n_jobs=-1)\n",
    "    models_chart.loc[row_index,'fit_time'] = cv_results['fit_time'].mean()\n",
    "    models_chart.loc[row_index,'test_accuracy'] = cv_results['test_accuracy'].mean()\n",
    "    models_chart.loc[row_index,'train_accuracy'] = cv_results['train_accuracy'].mean()\n",
    "    models_chart.loc[row_index,'test_f1'] = cv_results[ 'test_f1'].mean()\n",
    "    models_chart.loc[row_index,'train_f1'] = cv_results['train_f1'].mean()\n",
    "    models_chart.loc[row_index,'test_precision'] = cv_results['test_precision'].mean()\n",
    "    models_chart.loc[row_index,'train_precision'] = cv_results['train_precision'].mean()\n",
    "    models_chart.loc[row_index,'test_recall'] = cv_results['test_recall'].mean()\n",
    "    models_chart.loc[row_index,'train_recall'] = cv_results['train_recall'].mean()\n",
    "    \n",
    "    row_index +=1\n",
    "\n",
    "models_chart.sort_values(by='test_accuracy',ascending = False)"
   ]
  },
  {
   "cell_type": "code",
   "execution_count": 22,
   "id": "ffa542db",
   "metadata": {},
   "outputs": [],
   "source": [
    "# Stacking\n",
    "# probabilities of estimation on train dataset\n",
    "train_prediction1_proba = lgbm.predict_proba(X_train)[:, 1]\n",
    "train_prediction2_proba = xgb.predict_proba(X_train)[:, 1]\n",
    "train_prediction3_proba = lr.predict_proba(X_train)[:, 1]\n",
    "\n",
    "# probabilities of estimation on test dataset\n",
    "test_prediction1_proba = lgbm.predict_proba(X_test)[:, 1]\n",
    "test_prediction2_proba = xgb.predict_proba(X_test)[:, 1]\n",
    "test_prediction3_proba = lr.predict_proba(X_test)[:, 1]\n",
    "\n",
    "# stack the probabilities on train and the probabilities on test\n",
    "train_stack = np.vstack([[train_prediction1_proba], \n",
    "                         [train_prediction2_proba], \n",
    "                         [train_prediction3_proba]]).T\n",
    "\n",
    "test_stack = np.vstack([[test_prediction1_proba], \n",
    "                        [test_prediction2_proba], \n",
    "                        [test_prediction3_proba]]).T"
   ]
  },
  {
   "cell_type": "code",
   "execution_count": 23,
   "id": "b7504657",
   "metadata": {},
   "outputs": [
    {
     "data": {
      "text/plain": [
       "(0.919060945653635, 0.8661305581835383)"
      ]
     },
     "execution_count": 23,
     "metadata": {},
     "output_type": "execute_result"
    }
   ],
   "source": [
    "lgbm_final = LGBMClassifier().fit(X_train, y_train)\n",
    "lgbm_final.score(X_train, y_train), lgbm_final.score(X_test, y_test)"
   ]
  },
  {
   "cell_type": "code",
   "execution_count": 24,
   "id": "2b795d50",
   "metadata": {},
   "outputs": [
    {
     "name": "stdout",
     "output_type": "stream",
     "text": [
      "[LightGBM] [Warning] feature_fraction is set=0.4, colsample_bytree=1.0 will be ignored. Current value: feature_fraction=0.4\n",
      "[LightGBM] [Warning] lambda_l1 is set=1.7169730606852716, reg_alpha=0.0 will be ignored. Current value: lambda_l1=1.7169730606852716\n",
      "[LightGBM] [Warning] bagging_fraction is set=1.0, subsample=1.0 will be ignored. Current value: bagging_fraction=1.0\n",
      "[LightGBM] [Warning] lambda_l2 is set=0.000254776765891168, reg_lambda=0.0 will be ignored. Current value: lambda_l2=0.000254776765891168\n",
      "[LightGBM] [Warning] bagging_freq is set=0, subsample_freq=0 will be ignored. Current value: bagging_freq=0\n"
     ]
    },
    {
     "data": {
      "text/plain": [
       "(0.9245267454507681, 0.8656575212866604)"
      ]
     },
     "execution_count": 24,
     "metadata": {},
     "output_type": "execute_result"
    }
   ],
   "source": [
    "# Use lgbm as second level model\n",
    "lgbm_final = lgbm_tuned.fit(train_stack, y_train)\n",
    "lgbm_final.score(train_stack, y_train), lgbm_final.score(test_stack, y_test)"
   ]
  },
  {
   "cell_type": "markdown",
   "id": "70bfd1dd",
   "metadata": {},
   "source": [
    "## Feature Engineering"
   ]
  },
  {
   "cell_type": "markdown",
   "id": "e195548f",
   "metadata": {},
   "source": [
    "Lift(Beer→Diaper) = (Confidence (Beer→Diaper))/(Support (Diaper)) \\\n",
    "what we replace to equals: \\\n",
    "lift(feature -> diabetes) = confidence(feature -> diabetes)/support(diabetes) \\\n",
    "confidence (feature -> diabetes) equals (cases containing both feature and diabetes)/(cases containing only feature)"
   ]
  },
  {
   "cell_type": "code",
   "execution_count": 25,
   "id": "3cb2cb4c",
   "metadata": {},
   "outputs": [
    {
     "name": "stdout",
     "output_type": "stream",
     "text": [
      "Lift of HighBP is: 0.7526735698523171\n",
      "Lift of HighChol is: 0.6701182594918803\n",
      "Lift of CholCheck is: 0.9931816895829798\n",
      "Lift of Smoker is: 0.5182198834380128\n",
      "Lift of Stroke is: 0.09245742092457422\n",
      "Lift of HeartDiseaseorAttack is: 0.22288236292649807\n",
      "Lift of PhysActivity is: 0.6305381089797998\n",
      "Lift of Fruits is: 0.5854410682962713\n",
      "Lift of Veggies is: 0.7564080801222204\n",
      "Lift of HvyAlcoholConsump is: 0.023538731398178015\n",
      "Lift of AnyHealthcare is: 0.9597691393651333\n",
      "Lift of NoDocbcCost is: 0.10586770780286313\n",
      "Lift of Sex is: 0.47912069258190465\n"
     ]
    }
   ],
   "source": [
    "selected_columns = ['HighBP', 'HighChol', 'CholCheck', 'Smoker',\n",
    "       'Stroke', 'HeartDiseaseorAttack', 'PhysActivity', 'Fruits', 'Veggies',\n",
    "       'HvyAlcoholConsump', 'AnyHealthcare', 'NoDocbcCost','Sex']\n",
    "sup_diabetes = np.mean(data['Diabetes_binary'])\n",
    "\n",
    "for col in selected_columns:\n",
    "    confidence = len(data[(data['Diabetes_binary'] == 1.0) & (data[col] == 1.0)])/len(data[col] == 1.0)\n",
    "    lift = confidence/sup_diabetes\n",
    "    print('Lift of',col,'is:',lift)"
   ]
  },
  {
   "cell_type": "markdown",
   "id": "70e3ad08",
   "metadata": {},
   "source": [
    "According to the lift scores, no feature significantly affects diabetes positively. We could consider removing NoDocbcCost based on heatmap, feature importance of model, and lift."
   ]
  }
 ],
 "metadata": {
  "environment": {
   "kernel": "python3",
   "name": "common-cpu.m103",
   "type": "gcloud",
   "uri": "gcr.io/deeplearning-platform-release/base-cpu:m103"
  },
  "kernelspec": {
   "display_name": "Python 3 (ipykernel)",
   "language": "python",
   "name": "python3"
  },
  "language_info": {
   "codemirror_mode": {
    "name": "ipython",
    "version": 3
   },
   "file_extension": ".py",
   "mimetype": "text/x-python",
   "name": "python",
   "nbconvert_exporter": "python",
   "pygments_lexer": "ipython3",
   "version": "3.9.13"
  }
 },
 "nbformat": 4,
 "nbformat_minor": 5
}
