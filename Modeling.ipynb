{
 "cells": [
  {
   "cell_type": "code",
   "execution_count": 1,
   "id": "e05be09b-d042-4acb-9932-224dcb40f255",
   "metadata": {},
   "outputs": [],
   "source": [
    "#!pip install lightgbm --upgrade"
   ]
  },
  {
   "cell_type": "code",
   "execution_count": 1,
   "id": "10ff6c0d",
   "metadata": {},
   "outputs": [
    {
     "name": "stderr",
     "output_type": "stream",
     "text": [
      "C:\\Users\\Daniel Ji\\AppData\\Local\\Programs\\Python\\Python39\\lib\\site-packages\\tqdm\\auto.py:22: TqdmWarning: IProgress not found. Please update jupyter and ipywidgets. See https://ipywidgets.readthedocs.io/en/stable/user_install.html\n",
      "  from .autonotebook import tqdm as notebook_tqdm\n"
     ]
    }
   ],
   "source": [
    "# %matplotlib inline\n",
    "import numpy as np\n",
    "import pandas as pd\n",
    "from scipy import stats\n",
    "import matplotlib.pyplot as plt\n",
    "import seaborn as sns\n",
    "import sys\n",
    "import pickle\n",
    "import imblearn\n",
    "import plotly.graph_objs as go\n",
    "import optuna\n",
    "import warnings\n",
    "warnings.filterwarnings('ignore')\n",
    "from imblearn.over_sampling import SMOTE\n",
    "from sklearn.preprocessing import normalize\n",
    "from sklearn.preprocessing import MinMaxScaler\n",
    "from sklearn.model_selection import train_test_split\n",
    "from sklearn.preprocessing import OneHotEncoder, LabelEncoder\n",
    "import optuna.integration.lightgbm as lgb\n",
    "import lightgbm\n",
    "from lightgbm import early_stopping\n",
    "from lightgbm import log_evaluation\n",
    "# Importing Classifier Modules\n",
    "from sklearn.linear_model import LogisticRegression\n",
    "from sklearn.tree import DecisionTreeClassifier\n",
    "from lightgbm import LGBMClassifier\n",
    "from sklearn.ensemble import RandomForestClassifier\n",
    "from xgboost.sklearn import XGBClassifier\n",
    "#Metrics\n",
    "from sklearn.model_selection import KFold\n",
    "from sklearn.metrics import accuracy_score\n",
    "from sklearn.model_selection import cross_val_score\n",
    "from sklearn.model_selection import cross_validate\n",
    "from sklearn.feature_selection import chi2\n",
    "\n",
    "pd.options.display.float_format = '{:,.3}'.format"
   ]
  },
  {
   "cell_type": "code",
   "execution_count": 2,
   "id": "1c3d60fa",
   "metadata": {},
   "outputs": [
    {
     "data": {
      "text/html": [
       "<div>\n",
       "<style scoped>\n",
       "    .dataframe tbody tr th:only-of-type {\n",
       "        vertical-align: middle;\n",
       "    }\n",
       "\n",
       "    .dataframe tbody tr th {\n",
       "        vertical-align: top;\n",
       "    }\n",
       "\n",
       "    .dataframe thead th {\n",
       "        text-align: right;\n",
       "    }\n",
       "</style>\n",
       "<table border=\"1\" class=\"dataframe\">\n",
       "  <thead>\n",
       "    <tr style=\"text-align: right;\">\n",
       "      <th></th>\n",
       "      <th>Diabetes_binary</th>\n",
       "      <th>HighBP</th>\n",
       "      <th>HighChol</th>\n",
       "      <th>CholCheck</th>\n",
       "      <th>BMI</th>\n",
       "      <th>Smoker</th>\n",
       "      <th>Stroke</th>\n",
       "      <th>HeartDiseaseorAttack</th>\n",
       "      <th>PhysActivity</th>\n",
       "      <th>Fruits</th>\n",
       "      <th>...</th>\n",
       "      <th>AnyHealthcare</th>\n",
       "      <th>NoDocbcCost</th>\n",
       "      <th>GenHlth</th>\n",
       "      <th>MentHlth</th>\n",
       "      <th>PhysHlth</th>\n",
       "      <th>DiffWalk</th>\n",
       "      <th>Sex</th>\n",
       "      <th>Age</th>\n",
       "      <th>Education</th>\n",
       "      <th>Income</th>\n",
       "    </tr>\n",
       "  </thead>\n",
       "  <tbody>\n",
       "    <tr>\n",
       "      <th>0</th>\n",
       "      <td>0.0</td>\n",
       "      <td>1.0</td>\n",
       "      <td>1.0</td>\n",
       "      <td>1.0</td>\n",
       "      <td>40.0</td>\n",
       "      <td>1.0</td>\n",
       "      <td>0.0</td>\n",
       "      <td>0.0</td>\n",
       "      <td>0.0</td>\n",
       "      <td>0.0</td>\n",
       "      <td>...</td>\n",
       "      <td>1.0</td>\n",
       "      <td>0.0</td>\n",
       "      <td>5.0</td>\n",
       "      <td>18.0</td>\n",
       "      <td>15.0</td>\n",
       "      <td>1.0</td>\n",
       "      <td>0.0</td>\n",
       "      <td>9.0</td>\n",
       "      <td>4.0</td>\n",
       "      <td>3.0</td>\n",
       "    </tr>\n",
       "    <tr>\n",
       "      <th>1</th>\n",
       "      <td>0.0</td>\n",
       "      <td>0.0</td>\n",
       "      <td>0.0</td>\n",
       "      <td>0.0</td>\n",
       "      <td>25.0</td>\n",
       "      <td>1.0</td>\n",
       "      <td>0.0</td>\n",
       "      <td>0.0</td>\n",
       "      <td>1.0</td>\n",
       "      <td>0.0</td>\n",
       "      <td>...</td>\n",
       "      <td>0.0</td>\n",
       "      <td>1.0</td>\n",
       "      <td>3.0</td>\n",
       "      <td>0.0</td>\n",
       "      <td>0.0</td>\n",
       "      <td>0.0</td>\n",
       "      <td>0.0</td>\n",
       "      <td>7.0</td>\n",
       "      <td>6.0</td>\n",
       "      <td>1.0</td>\n",
       "    </tr>\n",
       "    <tr>\n",
       "      <th>2</th>\n",
       "      <td>0.0</td>\n",
       "      <td>1.0</td>\n",
       "      <td>1.0</td>\n",
       "      <td>1.0</td>\n",
       "      <td>28.0</td>\n",
       "      <td>0.0</td>\n",
       "      <td>0.0</td>\n",
       "      <td>0.0</td>\n",
       "      <td>0.0</td>\n",
       "      <td>1.0</td>\n",
       "      <td>...</td>\n",
       "      <td>1.0</td>\n",
       "      <td>1.0</td>\n",
       "      <td>5.0</td>\n",
       "      <td>30.0</td>\n",
       "      <td>30.0</td>\n",
       "      <td>1.0</td>\n",
       "      <td>0.0</td>\n",
       "      <td>9.0</td>\n",
       "      <td>4.0</td>\n",
       "      <td>8.0</td>\n",
       "    </tr>\n",
       "    <tr>\n",
       "      <th>3</th>\n",
       "      <td>0.0</td>\n",
       "      <td>1.0</td>\n",
       "      <td>0.0</td>\n",
       "      <td>1.0</td>\n",
       "      <td>27.0</td>\n",
       "      <td>0.0</td>\n",
       "      <td>0.0</td>\n",
       "      <td>0.0</td>\n",
       "      <td>1.0</td>\n",
       "      <td>1.0</td>\n",
       "      <td>...</td>\n",
       "      <td>1.0</td>\n",
       "      <td>0.0</td>\n",
       "      <td>2.0</td>\n",
       "      <td>0.0</td>\n",
       "      <td>0.0</td>\n",
       "      <td>0.0</td>\n",
       "      <td>0.0</td>\n",
       "      <td>11.0</td>\n",
       "      <td>3.0</td>\n",
       "      <td>6.0</td>\n",
       "    </tr>\n",
       "    <tr>\n",
       "      <th>4</th>\n",
       "      <td>0.0</td>\n",
       "      <td>1.0</td>\n",
       "      <td>1.0</td>\n",
       "      <td>1.0</td>\n",
       "      <td>24.0</td>\n",
       "      <td>0.0</td>\n",
       "      <td>0.0</td>\n",
       "      <td>0.0</td>\n",
       "      <td>1.0</td>\n",
       "      <td>1.0</td>\n",
       "      <td>...</td>\n",
       "      <td>1.0</td>\n",
       "      <td>0.0</td>\n",
       "      <td>2.0</td>\n",
       "      <td>3.0</td>\n",
       "      <td>0.0</td>\n",
       "      <td>0.0</td>\n",
       "      <td>0.0</td>\n",
       "      <td>11.0</td>\n",
       "      <td>5.0</td>\n",
       "      <td>4.0</td>\n",
       "    </tr>\n",
       "    <tr>\n",
       "      <th>...</th>\n",
       "      <td>...</td>\n",
       "      <td>...</td>\n",
       "      <td>...</td>\n",
       "      <td>...</td>\n",
       "      <td>...</td>\n",
       "      <td>...</td>\n",
       "      <td>...</td>\n",
       "      <td>...</td>\n",
       "      <td>...</td>\n",
       "      <td>...</td>\n",
       "      <td>...</td>\n",
       "      <td>...</td>\n",
       "      <td>...</td>\n",
       "      <td>...</td>\n",
       "      <td>...</td>\n",
       "      <td>...</td>\n",
       "      <td>...</td>\n",
       "      <td>...</td>\n",
       "      <td>...</td>\n",
       "      <td>...</td>\n",
       "      <td>...</td>\n",
       "    </tr>\n",
       "    <tr>\n",
       "      <th>253675</th>\n",
       "      <td>0.0</td>\n",
       "      <td>1.0</td>\n",
       "      <td>1.0</td>\n",
       "      <td>1.0</td>\n",
       "      <td>45.0</td>\n",
       "      <td>0.0</td>\n",
       "      <td>0.0</td>\n",
       "      <td>0.0</td>\n",
       "      <td>0.0</td>\n",
       "      <td>1.0</td>\n",
       "      <td>...</td>\n",
       "      <td>1.0</td>\n",
       "      <td>0.0</td>\n",
       "      <td>3.0</td>\n",
       "      <td>0.0</td>\n",
       "      <td>5.0</td>\n",
       "      <td>0.0</td>\n",
       "      <td>1.0</td>\n",
       "      <td>5.0</td>\n",
       "      <td>6.0</td>\n",
       "      <td>7.0</td>\n",
       "    </tr>\n",
       "    <tr>\n",
       "      <th>253676</th>\n",
       "      <td>1.0</td>\n",
       "      <td>1.0</td>\n",
       "      <td>1.0</td>\n",
       "      <td>1.0</td>\n",
       "      <td>18.0</td>\n",
       "      <td>0.0</td>\n",
       "      <td>0.0</td>\n",
       "      <td>0.0</td>\n",
       "      <td>0.0</td>\n",
       "      <td>0.0</td>\n",
       "      <td>...</td>\n",
       "      <td>1.0</td>\n",
       "      <td>0.0</td>\n",
       "      <td>4.0</td>\n",
       "      <td>0.0</td>\n",
       "      <td>0.0</td>\n",
       "      <td>1.0</td>\n",
       "      <td>0.0</td>\n",
       "      <td>11.0</td>\n",
       "      <td>2.0</td>\n",
       "      <td>4.0</td>\n",
       "    </tr>\n",
       "    <tr>\n",
       "      <th>253677</th>\n",
       "      <td>0.0</td>\n",
       "      <td>0.0</td>\n",
       "      <td>0.0</td>\n",
       "      <td>1.0</td>\n",
       "      <td>28.0</td>\n",
       "      <td>0.0</td>\n",
       "      <td>0.0</td>\n",
       "      <td>0.0</td>\n",
       "      <td>1.0</td>\n",
       "      <td>1.0</td>\n",
       "      <td>...</td>\n",
       "      <td>1.0</td>\n",
       "      <td>0.0</td>\n",
       "      <td>1.0</td>\n",
       "      <td>0.0</td>\n",
       "      <td>0.0</td>\n",
       "      <td>0.0</td>\n",
       "      <td>0.0</td>\n",
       "      <td>2.0</td>\n",
       "      <td>5.0</td>\n",
       "      <td>2.0</td>\n",
       "    </tr>\n",
       "    <tr>\n",
       "      <th>253678</th>\n",
       "      <td>0.0</td>\n",
       "      <td>1.0</td>\n",
       "      <td>0.0</td>\n",
       "      <td>1.0</td>\n",
       "      <td>23.0</td>\n",
       "      <td>0.0</td>\n",
       "      <td>0.0</td>\n",
       "      <td>0.0</td>\n",
       "      <td>0.0</td>\n",
       "      <td>1.0</td>\n",
       "      <td>...</td>\n",
       "      <td>1.0</td>\n",
       "      <td>0.0</td>\n",
       "      <td>3.0</td>\n",
       "      <td>0.0</td>\n",
       "      <td>0.0</td>\n",
       "      <td>0.0</td>\n",
       "      <td>1.0</td>\n",
       "      <td>7.0</td>\n",
       "      <td>5.0</td>\n",
       "      <td>1.0</td>\n",
       "    </tr>\n",
       "    <tr>\n",
       "      <th>253679</th>\n",
       "      <td>1.0</td>\n",
       "      <td>1.0</td>\n",
       "      <td>1.0</td>\n",
       "      <td>1.0</td>\n",
       "      <td>25.0</td>\n",
       "      <td>0.0</td>\n",
       "      <td>0.0</td>\n",
       "      <td>1.0</td>\n",
       "      <td>1.0</td>\n",
       "      <td>1.0</td>\n",
       "      <td>...</td>\n",
       "      <td>1.0</td>\n",
       "      <td>0.0</td>\n",
       "      <td>2.0</td>\n",
       "      <td>0.0</td>\n",
       "      <td>0.0</td>\n",
       "      <td>0.0</td>\n",
       "      <td>0.0</td>\n",
       "      <td>9.0</td>\n",
       "      <td>6.0</td>\n",
       "      <td>2.0</td>\n",
       "    </tr>\n",
       "  </tbody>\n",
       "</table>\n",
       "<p>253680 rows × 22 columns</p>\n",
       "</div>"
      ],
      "text/plain": [
       "        Diabetes_binary  HighBP  HighChol  CholCheck  BMI  Smoker  Stroke  \\\n",
       "0                   0.0     1.0       1.0        1.0 40.0     1.0     0.0   \n",
       "1                   0.0     0.0       0.0        0.0 25.0     1.0     0.0   \n",
       "2                   0.0     1.0       1.0        1.0 28.0     0.0     0.0   \n",
       "3                   0.0     1.0       0.0        1.0 27.0     0.0     0.0   \n",
       "4                   0.0     1.0       1.0        1.0 24.0     0.0     0.0   \n",
       "...                 ...     ...       ...        ...  ...     ...     ...   \n",
       "253675              0.0     1.0       1.0        1.0 45.0     0.0     0.0   \n",
       "253676              1.0     1.0       1.0        1.0 18.0     0.0     0.0   \n",
       "253677              0.0     0.0       0.0        1.0 28.0     0.0     0.0   \n",
       "253678              0.0     1.0       0.0        1.0 23.0     0.0     0.0   \n",
       "253679              1.0     1.0       1.0        1.0 25.0     0.0     0.0   \n",
       "\n",
       "        HeartDiseaseorAttack  PhysActivity  Fruits  ...  AnyHealthcare  \\\n",
       "0                        0.0           0.0     0.0  ...            1.0   \n",
       "1                        0.0           1.0     0.0  ...            0.0   \n",
       "2                        0.0           0.0     1.0  ...            1.0   \n",
       "3                        0.0           1.0     1.0  ...            1.0   \n",
       "4                        0.0           1.0     1.0  ...            1.0   \n",
       "...                      ...           ...     ...  ...            ...   \n",
       "253675                   0.0           0.0     1.0  ...            1.0   \n",
       "253676                   0.0           0.0     0.0  ...            1.0   \n",
       "253677                   0.0           1.0     1.0  ...            1.0   \n",
       "253678                   0.0           0.0     1.0  ...            1.0   \n",
       "253679                   1.0           1.0     1.0  ...            1.0   \n",
       "\n",
       "        NoDocbcCost  GenHlth  MentHlth  PhysHlth  DiffWalk  Sex  Age  \\\n",
       "0               0.0      5.0      18.0      15.0       1.0  0.0  9.0   \n",
       "1               1.0      3.0       0.0       0.0       0.0  0.0  7.0   \n",
       "2               1.0      5.0      30.0      30.0       1.0  0.0  9.0   \n",
       "3               0.0      2.0       0.0       0.0       0.0  0.0 11.0   \n",
       "4               0.0      2.0       3.0       0.0       0.0  0.0 11.0   \n",
       "...             ...      ...       ...       ...       ...  ...  ...   \n",
       "253675          0.0      3.0       0.0       5.0       0.0  1.0  5.0   \n",
       "253676          0.0      4.0       0.0       0.0       1.0  0.0 11.0   \n",
       "253677          0.0      1.0       0.0       0.0       0.0  0.0  2.0   \n",
       "253678          0.0      3.0       0.0       0.0       0.0  1.0  7.0   \n",
       "253679          0.0      2.0       0.0       0.0       0.0  0.0  9.0   \n",
       "\n",
       "        Education  Income  \n",
       "0             4.0     3.0  \n",
       "1             6.0     1.0  \n",
       "2             4.0     8.0  \n",
       "3             3.0     6.0  \n",
       "4             5.0     4.0  \n",
       "...           ...     ...  \n",
       "253675        6.0     7.0  \n",
       "253676        2.0     4.0  \n",
       "253677        5.0     2.0  \n",
       "253678        5.0     1.0  \n",
       "253679        6.0     2.0  \n",
       "\n",
       "[253680 rows x 22 columns]"
      ]
     },
     "execution_count": 2,
     "metadata": {},
     "output_type": "execute_result"
    }
   ],
   "source": [
    "data = pd.read_csv('diabetes_binary_health_indicators_BRFSS2015.csv')\n",
    "data"
   ]
  },
  {
   "cell_type": "code",
   "execution_count": 3,
   "id": "205a92d5",
   "metadata": {},
   "outputs": [
    {
     "data": {
      "text/plain": [
       "Index(['Diabetes_binary', 'HighBP', 'HighChol', 'CholCheck', 'BMI', 'Smoker',\n",
       "       'Stroke', 'HeartDiseaseorAttack', 'PhysActivity', 'Fruits', 'Veggies',\n",
       "       'HvyAlcoholConsump', 'AnyHealthcare', 'NoDocbcCost', 'GenHlth',\n",
       "       'MentHlth', 'PhysHlth', 'DiffWalk', 'Sex', 'Age', 'Education',\n",
       "       'Income'],\n",
       "      dtype='object')"
      ]
     },
     "execution_count": 3,
     "metadata": {},
     "output_type": "execute_result"
    }
   ],
   "source": [
    "data.columns"
   ]
  },
  {
   "cell_type": "code",
   "execution_count": 4,
   "id": "1482b303",
   "metadata": {},
   "outputs": [],
   "source": [
    "category_cols = ['HighBP', 'HighChol', 'CholCheck', 'BMI', 'Smoker',\n",
    "       'Stroke', 'HeartDiseaseorAttack', 'PhysActivity', 'Fruits', 'Veggies',\n",
    "       'HvyAlcoholConsump', 'AnyHealthcare', 'NoDocbcCost', 'GenHlth',\n",
    "       'MentHlth', 'PhysHlth', 'DiffWalk', 'Sex', 'Age', 'Education','Income']\n",
    "\n",
    "binary_cols = ['Diabetes_binary','HighBP', 'HighChol', 'CholCheck',  'Smoker',\n",
    "       'Stroke', 'HeartDiseaseorAttack', 'PhysActivity', 'Fruits', 'Veggies',\n",
    "       'HvyAlcoholConsump', 'AnyHealthcare', 'NoDocbcCost','DiffWalk', 'Sex']\n",
    "stats_cols = ['BMI','GenHlth','MentHlth','PhysHlth','Age','Education','Income']\n",
    "cat_all = category_cols.copy()"
   ]
  },
  {
   "cell_type": "code",
   "execution_count": 5,
   "id": "765f08fb",
   "metadata": {},
   "outputs": [],
   "source": [
    "scaler = MinMaxScaler()\n",
    "df_filtered = data[binary_cols + stats_cols]\n",
    "df_normalized = pd.DataFrame(scaler.fit_transform(df_filtered[stats_cols]), columns=stats_cols)\n",
    "df_combined = pd.concat([data[binary_cols], df_normalized], axis=1)\n",
    "\n",
    "mean_diabetes = df_combined[df_combined['Diabetes_binary'] == 1].mean()[1:]\n",
    "mean_nondiabetes = df_combined[df_combined['Diabetes_binary'] == 0].mean()[1:]"
   ]
  },
  {
   "cell_type": "markdown",
   "id": "10e1900f",
   "metadata": {},
   "source": [
    "According to the radar plot, people with diabetes:\n",
    "   - had stroke\n",
    "   - smoke more often\n",
    "   - have higher level of cholestrol\n",
    "   - have higher blood pressure\n",
    "   - have lower income\n",
    "   - have lower education level\n",
    "   - are older\n",
    "   - have higher BMI\n",
    "   - have difficulty to walk\n",
    "   - have lower level of GenHlth, MentHlth, and PhysHlth"
   ]
  },
  {
   "cell_type": "markdown",
   "id": "8e6a8be9",
   "metadata": {},
   "source": [
    "## Train-Test Split"
   ]
  },
  {
   "cell_type": "code",
   "execution_count": 6,
   "id": "40be8384",
   "metadata": {},
   "outputs": [],
   "source": [
    "#ID_col = null\n",
    "target = 'Diabetes_binary'\n",
    "train, test = train_test_split(data)\n",
    "\n",
    "X_train = train.drop(columns=[target]).copy()\n",
    "X_test = test.drop(columns=[target]).copy()\n",
    "\n",
    "y_train = train['Diabetes_binary'].copy()\n",
    "y_test = test['Diabetes_binary'].copy()"
   ]
  },
  {
   "cell_type": "code",
   "execution_count": 7,
   "id": "dfd208a4",
   "metadata": {},
   "outputs": [],
   "source": [
    "smote = SMOTE(random_state=42)\n",
    "X_train, y_train = smote.fit_resample(X_train, y_train)"
   ]
  },
  {
   "cell_type": "code",
   "execution_count": 8,
   "id": "1f30b927",
   "metadata": {},
   "outputs": [],
   "source": [
    "models = [#DecisionTreeClassifier(),RandomForestClassifier(),SVC(),\n",
    "          LogisticRegression(),XGBClassifier(),LGBMClassifier()]\n",
    "scoring = ['accuracy','f1','precision','recall']\n",
    "models_columns = ['Name','fit_time','test_accuracy',\n",
    "                  'test_f1','test_precision',\n",
    "                 'test_recall']\n",
    "models_chart = pd.DataFrame(columns = models_columns)"
   ]
  },
  {
   "cell_type": "code",
   "execution_count": 9,
   "id": "84589bbf",
   "metadata": {},
   "outputs": [],
   "source": [
    "row_index = 0\n",
    "for model in models:\n",
    "    model_name = model.__class__.__name__\n",
    "    models_chart.loc[row_index,'Name'] = model_name\n",
    "    \n",
    "    cv_results = cross_validate(model,X_train,y_train,cv =3,scoring = scoring,return_train_score = True,n_jobs=-1)\n",
    "    models_chart.loc[row_index,'fit_time'] = cv_results['fit_time'].mean()\n",
    "    models_chart.loc[row_index,'test_accuracy'] = cv_results['test_accuracy'].mean()\n",
    "    #models_chart.loc[row_index,'train_accuracy'] = cv_results['train_accuracy'].mean()\n",
    "    models_chart.loc[row_index,'test_f1'] = cv_results[ 'test_f1'].mean()\n",
    "    #models_chart.loc[row_index,'train_f1'] = cv_results['train_f1'].mean()\n",
    "    models_chart.loc[row_index,'test_precision'] = cv_results['test_precision'].mean()\n",
    "    #models_chart.loc[row_index,'train_precision'] = cv_results['train_precision'].mean()\n",
    "    models_chart.loc[row_index,'test_recall'] = cv_results['test_recall'].mean()\n",
    "    #models_chart.loc[row_index,'train_recall'] = cv_results['train_recall'].mean()\n",
    "    \n",
    "    row_index +=1"
   ]
  },
  {
   "cell_type": "code",
   "execution_count": 10,
   "id": "098169b0",
   "metadata": {},
   "outputs": [
    {
     "data": {
      "text/html": [
       "<div>\n",
       "<style scoped>\n",
       "    .dataframe tbody tr th:only-of-type {\n",
       "        vertical-align: middle;\n",
       "    }\n",
       "\n",
       "    .dataframe tbody tr th {\n",
       "        vertical-align: top;\n",
       "    }\n",
       "\n",
       "    .dataframe thead th {\n",
       "        text-align: right;\n",
       "    }\n",
       "</style>\n",
       "<table border=\"1\" class=\"dataframe\">\n",
       "  <thead>\n",
       "    <tr style=\"text-align: right;\">\n",
       "      <th></th>\n",
       "      <th>Name</th>\n",
       "      <th>fit_time</th>\n",
       "      <th>test_accuracy</th>\n",
       "      <th>train_accuracy</th>\n",
       "      <th>test_f1</th>\n",
       "      <th>train_f1</th>\n",
       "      <th>test_precision</th>\n",
       "      <th>train_precision</th>\n",
       "      <th>test_recall</th>\n",
       "      <th>train_recall</th>\n",
       "    </tr>\n",
       "  </thead>\n",
       "  <tbody>\n",
       "    <tr>\n",
       "      <th>1</th>\n",
       "      <td>XGBClassifier</td>\n",
       "      <td>29.8</td>\n",
       "      <td>0.898</td>\n",
       "      <td>0.93</td>\n",
       "      <td>0.872</td>\n",
       "      <td>0.926</td>\n",
       "      <td>0.964</td>\n",
       "      <td>0.963</td>\n",
       "      <td>0.834</td>\n",
       "      <td>0.893</td>\n",
       "    </tr>\n",
       "    <tr>\n",
       "      <th>2</th>\n",
       "      <td>LGBMClassifier</td>\n",
       "      <td>3.94</td>\n",
       "      <td>0.894</td>\n",
       "      <td>0.925</td>\n",
       "      <td>0.868</td>\n",
       "      <td>0.921</td>\n",
       "      <td>0.961</td>\n",
       "      <td>0.956</td>\n",
       "      <td>0.83</td>\n",
       "      <td>0.889</td>\n",
       "    </tr>\n",
       "    <tr>\n",
       "      <th>0</th>\n",
       "      <td>LogisticRegression</td>\n",
       "      <td>3.06</td>\n",
       "      <td>0.749</td>\n",
       "      <td>0.749</td>\n",
       "      <td>0.756</td>\n",
       "      <td>0.756</td>\n",
       "      <td>0.736</td>\n",
       "      <td>0.736</td>\n",
       "      <td>0.777</td>\n",
       "      <td>0.778</td>\n",
       "    </tr>\n",
       "  </tbody>\n",
       "</table>\n",
       "</div>"
      ],
      "text/plain": [
       "                 Name fit_time test_accuracy train_accuracy test_f1 train_f1  \\\n",
       "1       XGBClassifier     29.8         0.898           0.93   0.872    0.926   \n",
       "2      LGBMClassifier     3.94         0.894          0.925   0.868    0.921   \n",
       "0  LogisticRegression     3.06         0.749          0.749   0.756    0.756   \n",
       "\n",
       "  test_precision train_precision test_recall train_recall  \n",
       "1          0.964           0.963       0.834        0.893  \n",
       "2          0.961           0.956        0.83        0.889  \n",
       "0          0.736           0.736       0.777        0.778  "
      ]
     },
     "execution_count": 10,
     "metadata": {},
     "output_type": "execute_result"
    }
   ],
   "source": [
    "models_chart.sort_values(by='test_accuracy',ascending = False)"
   ]
  },
  {
   "cell_type": "markdown",
   "id": "ab21631c",
   "metadata": {},
   "source": [
    "We applied oversampling and the result accuracy, f1, precision, and recall are all better off."
   ]
  },
  {
   "cell_type": "markdown",
   "id": "41eba805",
   "metadata": {},
   "source": [
    "Fit the three models"
   ]
  },
  {
   "cell_type": "code",
   "execution_count": 31,
   "id": "87f2bd76",
   "metadata": {},
   "outputs": [
    {
     "data": {
      "image/png": "[encoded data removed]",
      "text/plain": [
       "<Figure size 640x480 with 1 Axes>"
      ]
     },
     "metadata": {},
     "output_type": "display_data"
    }
   ],
   "source": [
    "lgbm = LGBMClassifier()\n",
    "lgbm.fit(X_train,y_train)\n",
    "xgb = XGBClassifier()\n",
    "xgb.fit(X_train,y_train)\n",
    "lr = LogisticRegression()\n",
    "lr.fit(X_train,y_train)\n",
    "#plot the graph of feature importances of lgbm\n",
    "feature_importances = pd.Series(lgbm.feature_importances_, index=X_train.columns)\n",
    "sorted_importances = feature_importances.sort_values(ascending= True)\n",
    "sorted_importances.plot(kind='barh')\n",
    "plt.show()"
   ]
  },
  {
   "cell_type": "code",
   "execution_count": 12,
   "id": "0bcac5df",
   "metadata": {},
   "outputs": [],
   "source": [
    "# # hyperparamter tuning\n",
    "# import sklearn.datasets\n",
    "\n",
    "# dtrain = lgb.Dataset(X_train, label=y_train)\n",
    "# dval = lgb.Dataset(X_test, label=y_test)\n",
    "\n",
    "# params = {\n",
    "#     \"objective\": \"binary\",\n",
    "#     \"metric\": \"binary_logloss\",\n",
    "#     \"verbosity\": -1,\n",
    "#     \"boosting_type\": \"gbdt\",\n",
    "# }\n",
    "\n",
    "# lgbm_tuned = lgb.train(\n",
    "#     params,\n",
    "#     dtrain,\n",
    "#     valid_sets=[dtrain, dval],\n",
    "#     callbacks=[early_stopping(100), log_evaluation(100)],\n",
    "# )\n",
    "\n",
    "# prediction = np.rint(lgbm_tuned.predict(X_test, num_iteration=lgbm_tuned.best_iteration))\n",
    "# accuracy = accuracy_score(y_test, prediction)\n",
    "\n",
    "# best_params = lgbm_tuned.params\n",
    "# print(\"Best params:\", best_params)\n",
    "# print(\"  Accuracy = {}\".format(accuracy))\n",
    "# #lgbm_tuned = LGBMClassifier(best_params)"
   ]
  },
  {
   "cell_type": "code",
   "execution_count": 49,
   "id": "56decdfd",
   "metadata": {},
   "outputs": [],
   "source": [
    "# import the pre-trained model\n",
    "filename = 'LightGBM_model.sav'\n",
    "lgbm_tuned = pickle.load(open(filename, 'rb'))"
   ]
  },
  {
   "cell_type": "code",
   "execution_count": 15,
   "id": "e173b249",
   "metadata": {},
   "outputs": [
    {
     "data": {
      "text/plain": [
       "<AxesSubplot: title={'center': 'Feature importance'}, xlabel='Feature importance', ylabel='Features'>"
      ]
     },
     "execution_count": 15,
     "metadata": {},
     "output_type": "execute_result"
    },
    {
     "data": {
      "image/png": "[encoded data removed]",
      "text/plain": [
       "<Figure size 640x480 with 1 Axes>"
      ]
     },
     "metadata": {},
     "output_type": "display_data"
    }
   ],
   "source": [
    "#lgbm_tuned = LGBMClassifier(**best_params).fit(X_train,y_train)\n",
    "lightgbm.plot_importance(lgbm_tuned)"
   ]
  },
  {
   "cell_type": "code",
   "execution_count": 55,
   "id": "5f7fa65c",
   "metadata": {},
   "outputs": [
    {
     "data": {
      "text/html": [
       "<div>\n",
       "<style scoped>\n",
       "    .dataframe tbody tr th:only-of-type {\n",
       "        vertical-align: middle;\n",
       "    }\n",
       "\n",
       "    .dataframe tbody tr th {\n",
       "        vertical-align: top;\n",
       "    }\n",
       "\n",
       "    .dataframe thead th {\n",
       "        text-align: right;\n",
       "    }\n",
       "</style>\n",
       "<table border=\"1\" class=\"dataframe\">\n",
       "  <thead>\n",
       "    <tr style=\"text-align: right;\">\n",
       "      <th></th>\n",
       "      <th>Name</th>\n",
       "      <th>fit_time</th>\n",
       "      <th>test_accuracy</th>\n",
       "      <th>test_f1</th>\n",
       "      <th>test_precision</th>\n",
       "      <th>test_recall</th>\n",
       "      <th>test_log_loss</th>\n",
       "    </tr>\n",
       "  </thead>\n",
       "  <tbody>\n",
       "    <tr>\n",
       "      <th>3</th>\n",
       "      <td>LGBMClassifier</td>\n",
       "      <td>23.2</td>\n",
       "      <td>0.9</td>\n",
       "      <td>0.874</td>\n",
       "      <td>0.966</td>\n",
       "      <td>0.835</td>\n",
       "      <td>0.52</td>\n",
       "    </tr>\n",
       "    <tr>\n",
       "      <th>1</th>\n",
       "      <td>XGBClassifier</td>\n",
       "      <td>29.6</td>\n",
       "      <td>0.898</td>\n",
       "      <td>0.872</td>\n",
       "      <td>0.964</td>\n",
       "      <td>0.834</td>\n",
       "      <td>NaN</td>\n",
       "    </tr>\n",
       "    <tr>\n",
       "      <th>2</th>\n",
       "      <td>LGBMClassifier</td>\n",
       "      <td>3.59</td>\n",
       "      <td>0.894</td>\n",
       "      <td>0.868</td>\n",
       "      <td>0.961</td>\n",
       "      <td>0.83</td>\n",
       "      <td>0.348</td>\n",
       "    </tr>\n",
       "    <tr>\n",
       "      <th>0</th>\n",
       "      <td>LogisticRegression</td>\n",
       "      <td>2.95</td>\n",
       "      <td>0.749</td>\n",
       "      <td>0.756</td>\n",
       "      <td>0.736</td>\n",
       "      <td>0.777</td>\n",
       "      <td>0.513</td>\n",
       "    </tr>\n",
       "  </tbody>\n",
       "</table>\n",
       "</div>"
      ],
      "text/plain": [
       "                 Name fit_time test_accuracy test_f1 test_precision  \\\n",
       "3      LGBMClassifier     23.2           0.9   0.874          0.966   \n",
       "1       XGBClassifier     29.6         0.898   0.872          0.964   \n",
       "2      LGBMClassifier     3.59         0.894   0.868          0.961   \n",
       "0  LogisticRegression     2.95         0.749   0.756          0.736   \n",
       "\n",
       "  test_recall test_log_loss  \n",
       "3       0.835          0.52  \n",
       "1       0.834           NaN  \n",
       "2        0.83         0.348  \n",
       "0       0.777         0.513  "
      ]
     },
     "execution_count": 55,
     "metadata": {},
     "output_type": "execute_result"
    }
   ],
   "source": [
    "models = [#DecisionTreeClassifier(),RandomForestClassifier(),SVC(),\n",
    "          LogisticRegression(),XGBClassifier(),LGBMClassifier(),lgbm_tuned]\n",
    "scoring = ['accuracy','f1','precision','recall','neg_log_loss']\n",
    "models_columns = ['Name','fit_time','test_accuracy',\n",
    "                  'test_f1','test_precision',\n",
    "                 'test_recall','test_log_loss']\n",
    "models_chart = pd.DataFrame(columns = models_columns)\n",
    "\n",
    "row_index = 0\n",
    "for model in models:\n",
    "    model_name = model.__class__.__name__\n",
    "    models_chart.loc[row_index,'Name'] = model_name\n",
    "    \n",
    "    cv_results = cross_validate(model,X_train,y_train,cv =3,scoring = scoring,return_train_score = True,n_jobs=-1)\n",
    "    models_chart.loc[row_index,'fit_time'] = cv_results['fit_time'].mean()\n",
    "    models_chart.loc[row_index,'test_accuracy'] = cv_results['test_accuracy'].mean()\n",
    "    #models_chart.loc[row_index,'train_accuracy'] = cv_results['train_accuracy'].mean()\n",
    "    models_chart.loc[row_index,'test_f1'] = cv_results[ 'test_f1'].mean()\n",
    "    #models_chart.loc[row_index,'train_f1'] = cv_results['train_f1'].mean()\n",
    "    models_chart.loc[row_index,'test_precision'] = cv_results['test_precision'].mean()\n",
    "    #models_chart.loc[row_index,'train_precision'] = cv_results['train_precision'].mean()\n",
    "    models_chart.loc[row_index,'test_recall'] = cv_results['test_recall'].mean()\n",
    "    #models_chart.loc[row_index,'train_recall'] = cv_results['train_recall'].mean()\n",
    "    models_chart.loc[row_index,'test_log_loss'] = -cv_results['test_neg_log_loss'].mean()\n",
    "    \n",
    "    row_index +=1\n",
    "\n",
    "models_chart.sort_values(by='test_accuracy',ascending = False)"
   ]
  },
  {
   "cell_type": "code",
   "execution_count": 50,
   "id": "ffa542db",
   "metadata": {},
   "outputs": [],
   "source": [
    "# Stacking\n",
    "# probabilities of estimation on train dataset\n",
    "train_prediction1_proba = lgbm.predict_proba(X_train)[:, 1]\n",
    "train_prediction2_proba = xgb.predict_proba(X_train)[:, 1]\n",
    "train_prediction3_proba = lgbm_tuned.predict_proba(X_train)[:, 1]\n",
    "\n",
    "# probabilities of estimation on test dataset\n",
    "test_prediction1_proba = lgbm.predict_proba(X_test)[:, 1]\n",
    "test_prediction2_proba = xgb.predict_proba(X_test)[:, 1]\n",
    "test_prediction3_proba = lgbm_tuned.predict_proba(X_test)[:, 1]\n",
    "\n",
    "# stack the probabilities on train and the probabilities on test\n",
    "train_stack = np.vstack([[train_prediction1_proba], \n",
    "                         [train_prediction2_proba], \n",
    "                         [train_prediction3_proba]]).T\n",
    "\n",
    "test_stack = np.vstack([[test_prediction1_proba], \n",
    "                        [test_prediction2_proba], \n",
    "                        [test_prediction3_proba]]).T"
   ]
  },
  {
   "cell_type": "code",
   "execution_count": 56,
   "id": "b7504657",
   "metadata": {},
   "outputs": [
    {
     "data": {
      "text/plain": [
       "(0.9189802790390691, 0.8657363607694734)"
      ]
     },
     "execution_count": 56,
     "metadata": {},
     "output_type": "execute_result"
    }
   ],
   "source": [
    "lgbm = LGBMClassifier().fit(X_train, y_train)\n",
    "lgbm.score(X_train, y_train), lgbm.score(X_test, y_test)"
   ]
  },
  {
   "cell_type": "code",
   "execution_count": 57,
   "id": "4adb969a",
   "metadata": {},
   "outputs": [
    {
     "name": "stdout",
     "output_type": "stream",
     "text": [
      "[LightGBM] [Warning] feature_fraction is set=0.4, colsample_bytree=1.0 will be ignored. Current value: feature_fraction=0.4\n",
      "[LightGBM] [Warning] lambda_l1 is set=4.981663087268992, reg_alpha=0.0 will be ignored. Current value: lambda_l1=4.981663087268992\n",
      "[LightGBM] [Warning] bagging_fraction is set=1.0, subsample=1.0 will be ignored. Current value: bagging_fraction=1.0\n",
      "[LightGBM] [Warning] lambda_l2 is set=4.332570000291688e-07, reg_lambda=0.0 will be ignored. Current value: lambda_l2=4.332570000291688e-07\n",
      "[LightGBM] [Warning] bagging_freq is set=0, subsample_freq=0 will be ignored. Current value: bagging_freq=0\n"
     ]
    },
    {
     "data": {
      "text/plain": [
       "(0.9256384714574688, 0.8668085777357301)"
      ]
     },
     "execution_count": 57,
     "metadata": {},
     "output_type": "execute_result"
    }
   ],
   "source": [
    "lgbm_tuned_model = lgbm_tuned.fit(X_train, y_train)\n",
    "lgbm_tuned_model.score(X_train, y_train), lgbm_tuned_model.score(X_test, y_test)"
   ]
  },
  {
   "cell_type": "code",
   "execution_count": 21,
   "id": "4d1fedd0",
   "metadata": {},
   "outputs": [
    {
     "data": {
      "text/plain": [
       "(0.9243673342174256, 0.8671712393566698)"
      ]
     },
     "execution_count": 21,
     "metadata": {},
     "output_type": "execute_result"
    }
   ],
   "source": [
    "xgber = XGBClassifier().fit(X_train, y_train)\n",
    "xgber.score(X_train, y_train), xgber.score(X_test, y_test)"
   ]
  },
  {
   "cell_type": "markdown",
   "id": "21bd5076",
   "metadata": {},
   "source": [
    "test error performance: XGB > tuned LGBM > LGBM"
   ]
  },
  {
   "cell_type": "code",
   "execution_count": 51,
   "id": "2b795d50",
   "metadata": {},
   "outputs": [
    {
     "name": "stdout",
     "output_type": "stream",
     "text": [
      "[LightGBM] [Warning] feature_fraction is set=0.4, colsample_bytree=1.0 will be ignored. Current value: feature_fraction=0.4\n",
      "[LightGBM] [Warning] lambda_l1 is set=4.981663087268992, reg_alpha=0.0 will be ignored. Current value: lambda_l1=4.981663087268992\n",
      "[LightGBM] [Warning] bagging_fraction is set=1.0, subsample=1.0 will be ignored. Current value: bagging_fraction=1.0\n",
      "[LightGBM] [Warning] lambda_l2 is set=4.332570000291688e-07, reg_lambda=0.0 will be ignored. Current value: lambda_l2=4.332570000291688e-07\n",
      "[LightGBM] [Warning] bagging_freq is set=0, subsample_freq=0 will be ignored. Current value: bagging_freq=0\n"
     ]
    },
    {
     "data": {
      "text/plain": [
       "(0.9261487597245055, 0.8690633869441816)"
      ]
     },
     "execution_count": 51,
     "metadata": {},
     "output_type": "execute_result"
    }
   ],
   "source": [
    "# Use lgbm as second level model\n",
    "lgbm_final = lgbm_tuned.fit(train_stack, y_train)\n",
    "lgbm_final.score(train_stack, y_train), lgbm_final.score(test_stack, y_test)"
   ]
  },
  {
   "cell_type": "markdown",
   "id": "3e208640",
   "metadata": {},
   "source": [
    "Stacking increases test accuracy from 86.72% to 86.91%"
   ]
  },
  {
   "cell_type": "markdown",
   "id": "70bfd1dd",
   "metadata": {},
   "source": [
    "## Feature Engineering"
   ]
  },
  {
   "cell_type": "markdown",
   "id": "e195548f",
   "metadata": {},
   "source": [
    "Lift(Beer→Diaper) = (Confidence (Beer→Diaper))/(Support (Diaper)) \\\n",
    "what we replace to equals: \\\n",
    "lift(feature -> diabetes) = confidence(feature -> diabetes)/support(diabetes) \\\n",
    "confidence (feature -> diabetes) equals (cases containing both feature and diabetes)/(cases containing only feature)"
   ]
  },
  {
   "cell_type": "code",
   "execution_count": 25,
   "id": "3cb2cb4c",
   "metadata": {},
   "outputs": [
    {
     "name": "stdout",
     "output_type": "stream",
     "text": [
      "Lift of HighBP is: 0.7526735698523171\n",
      "Lift of HighChol is: 0.6701182594918803\n",
      "Lift of CholCheck is: 0.9931816895829798\n",
      "Lift of Smoker is: 0.5182198834380128\n",
      "Lift of Stroke is: 0.09245742092457422\n",
      "Lift of HeartDiseaseorAttack is: 0.22288236292649807\n",
      "Lift of PhysActivity is: 0.6305381089797998\n",
      "Lift of Fruits is: 0.5854410682962713\n",
      "Lift of Veggies is: 0.7564080801222204\n",
      "Lift of HvyAlcoholConsump is: 0.023538731398178015\n",
      "Lift of AnyHealthcare is: 0.9597691393651333\n",
      "Lift of NoDocbcCost is: 0.10586770780286313\n",
      "Lift of Sex is: 0.47912069258190465\n"
     ]
    }
   ],
   "source": [
    "selected_columns = ['HighBP', 'HighChol', 'CholCheck', 'Smoker',\n",
    "       'Stroke', 'HeartDiseaseorAttack', 'PhysActivity', 'Fruits', 'Veggies',\n",
    "       'HvyAlcoholConsump', 'AnyHealthcare', 'NoDocbcCost','Sex']\n",
    "sup_diabetes = np.mean(data['Diabetes_binary'])\n",
    "\n",
    "for col in selected_columns:\n",
    "    confidence = len(data[(data['Diabetes_binary'] == 1.0) & (data[col] == 1.0)])/len(data[col] == 1.0)\n",
    "    lift = confidence/sup_diabetes\n",
    "    print('Lift of',col,'is:',lift)"
   ]
  },
  {
   "cell_type": "markdown",
   "id": "70e3ad08",
   "metadata": {},
   "source": [
    "According to the lift scores, no feature significantly affects diabetes positively. We could consider removing NoDocbcCost based on heatmap, feature importance of model, and lift."
   ]
  }
 ],
 "metadata": {
  "environment": {
   "kernel": "python3",
   "name": "common-cpu.m103",
   "type": "gcloud",
   "uri": "gcr.io/deeplearning-platform-release/base-cpu:m103"
  },
  "kernelspec": {
   "display_name": "Python 3 (ipykernel)",
   "language": "python",
   "name": "python3"
  },
  "language_info": {
   "codemirror_mode": {
    "name": "ipython",
    "version": 3
   },
   "file_extension": ".py",
   "mimetype": "text/x-python",
   "name": "python",
   "nbconvert_exporter": "python",
   "pygments_lexer": "ipython3",
   "version": "3.9.13"
  }
 },
 "nbformat": 4,
 "nbformat_minor": 5
}
